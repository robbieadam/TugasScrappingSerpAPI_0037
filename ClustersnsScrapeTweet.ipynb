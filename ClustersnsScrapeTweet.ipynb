{
  "nbformat": 4,
  "nbformat_minor": 0,
  "metadata": {
    "colab": {
      "provenance": [],
      "authorship_tag": "ABX9TyP9HN18wpqJOSZyVEayERdv",
      "include_colab_link": true
    },
    "kernelspec": {
      "name": "python3",
      "display_name": "Python 3"
    },
    "language_info": {
      "name": "python"
    }
  },
  "cells": [
    {
      "cell_type": "markdown",
      "metadata": {
        "id": "view-in-github",
        "colab_type": "text"
      },
      "source": [
        "<a href=\"https://colab.research.google.com/github/robbieadam/TugasScrappingSerpAPI_0037/blob/main/ClustersnsScrapeTweet.ipynb\" target=\"_parent\"><img src=\"https://colab.research.google.com/assets/colab-badge.svg\" alt=\"Open In Colab\"/></a>"
      ]
    },
    {
      "cell_type": "code",
      "execution_count": 1,
      "metadata": {
        "colab": {
          "base_uri": "https://localhost:8080/"
        },
        "id": "84hOKUKjyJpw",
        "outputId": "19e19a91-9aff-43da-f798-533bed0a4f15"
      },
      "outputs": [
        {
          "output_type": "stream",
          "name": "stdout",
          "text": [
            "Looking in indexes: https://pypi.org/simple, https://us-python.pkg.dev/colab-wheels/public/simple/\n",
            "Collecting snscrape\n",
            "  Downloading snscrape-0.3.4-py3-none-any.whl (35 kB)\n",
            "Requirement already satisfied: beautifulsoup4 in /usr/local/lib/python3.7/dist-packages (from snscrape) (4.6.3)\n",
            "Requirement already satisfied: lxml in /usr/local/lib/python3.7/dist-packages (from snscrape) (4.9.1)\n",
            "Requirement already satisfied: requests[socks] in /usr/local/lib/python3.7/dist-packages (from snscrape) (2.23.0)\n",
            "Requirement already satisfied: urllib3!=1.25.0,!=1.25.1,<1.26,>=1.21.1 in /usr/local/lib/python3.7/dist-packages (from requests[socks]->snscrape) (1.24.3)\n",
            "Requirement already satisfied: idna<3,>=2.5 in /usr/local/lib/python3.7/dist-packages (from requests[socks]->snscrape) (2.10)\n",
            "Requirement already satisfied: chardet<4,>=3.0.2 in /usr/local/lib/python3.7/dist-packages (from requests[socks]->snscrape) (3.0.4)\n",
            "Requirement already satisfied: certifi>=2017.4.17 in /usr/local/lib/python3.7/dist-packages (from requests[socks]->snscrape) (2022.9.24)\n",
            "Requirement already satisfied: PySocks!=1.5.7,>=1.5.6 in /usr/local/lib/python3.7/dist-packages (from requests[socks]->snscrape) (1.7.1)\n",
            "Installing collected packages: snscrape\n",
            "Successfully installed snscrape-0.3.4\n"
          ]
        }
      ],
      "source": [
        "!pip3 install snscrape"
      ]
    },
    {
      "cell_type": "code",
      "source": [
        "pip install langdetect"
      ],
      "metadata": {
        "colab": {
          "base_uri": "https://localhost:8080/"
        },
        "id": "FlKpSixmykHZ",
        "outputId": "876e6c1a-c01e-4bb5-b18d-038bff09d8e1"
      },
      "execution_count": 4,
      "outputs": [
        {
          "output_type": "stream",
          "name": "stdout",
          "text": [
            "Looking in indexes: https://pypi.org/simple, https://us-python.pkg.dev/colab-wheels/public/simple/\n",
            "Collecting langdetect\n",
            "  Downloading langdetect-1.0.9.tar.gz (981 kB)\n",
            "\u001b[K     |████████████████████████████████| 981 kB 5.2 MB/s \n",
            "\u001b[?25hRequirement already satisfied: six in /usr/local/lib/python3.7/dist-packages (from langdetect) (1.15.0)\n",
            "Building wheels for collected packages: langdetect\n",
            "  Building wheel for langdetect (setup.py) ... \u001b[?25l\u001b[?25hdone\n",
            "  Created wheel for langdetect: filename=langdetect-1.0.9-py3-none-any.whl size=993242 sha256=9a738d9cf73356ecb099d5e367453ece2fbd89fbe4eea088480160c5c648f4e6\n",
            "  Stored in directory: /root/.cache/pip/wheels/c5/96/8a/f90c59ed25d75e50a8c10a1b1c2d4c402e4dacfa87f3aff36a\n",
            "Successfully built langdetect\n",
            "Installing collected packages: langdetect\n",
            "Successfully installed langdetect-1.0.9\n"
          ]
        }
      ]
    },
    {
      "cell_type": "code",
      "source": [
        "import snscrape.modules.twitter as sntwitter\n",
        "import json\n",
        "from langdetect import detect"
      ],
      "metadata": {
        "id": "BTHfkECDyZIy"
      },
      "execution_count": 46,
      "outputs": []
    },
    {
      "cell_type": "code",
      "source": [
        "import pandas as pd\n",
        "datatw=[]"
      ],
      "metadata": {
        "id": "1b7vfauf4zii"
      },
      "execution_count": 47,
      "outputs": []
    },
    {
      "cell_type": "code",
      "source": [
        "keywords=['iPhone14']\n",
        "start=\"2022–10–01\"\n",
        "end =\"2022–10–10\"\n",
        "max_num=20\n",
        "fname='tweet.json' \n",
        "languages=['de','en']"
      ],
      "metadata": {
        "id": "vGG_aQxDy3Yo"
      },
      "execution_count": 55,
      "outputs": []
    },
    {
      "cell_type": "code",
      "source": [
        "for keyword in keywords:\n",
        "   \n",
        "    for i, tweet in enumerate (sntwitter.TwitterSearchScraper(f'{keyword} ').get_items()):\n",
        "        \n",
        "        try:\n",
        "            lan=detect(tweet.content)\n",
        "        except:\n",
        "            lan='error'\n",
        "        if i == max_num:\n",
        "            break\n",
        "        if lan in languages:\n",
        "            data = {'id': tweet.id, 'username':tweet.username, 'date': tweet.date, 'text': tweet.content,'url':tweet.url}\n",
        "\n",
        "            datatw.append(tweet.content)\n",
        "            with open(fname, 'a+', encoding='utf-8') as f:\n",
        "                line = json.dumps(data, ensure_ascii=False,default=str)\n",
        "                print(line)\n",
        "                f.write(line)\n",
        "                f.write('\\n')"
      ],
      "metadata": {
        "colab": {
          "base_uri": "https://localhost:8080/"
        },
        "id": "zWK6WzREzEVw",
        "outputId": "d622ed9d-b516-48ac-bdb4-e1703255dfcc"
      },
      "execution_count": 56,
      "outputs": [
        {
          "output_type": "stream",
          "name": "stdout",
          "text": [
            "{\"id\": 1579668682980339712, \"username\": \"KATE_LipMonster\", \"date\": \"2022-10-11 03:02:17+00:00\", \"text\": \"〇 Amazonで入荷中！\\n〇 Apple iPhone 14 256GB ミッドナイト - SIMフリー 5G対応\\n〇 10/11 12:02:17\\n#iPhone14 #iPhone14Plus #iPhone14Pro #iPhone14ProMax\\nhttps://t.co/saBSOap2Eq\", \"url\": \"https://twitter.com/KATE_LipMonster/status/1579668682980339712\"}\n",
            "{\"id\": 1579668682946404352, \"username\": \"KATE_LipMonster\", \"date\": \"2022-10-11 03:02:17+00:00\", \"text\": \"〇 Amazonで入荷中！\\n〇 Apple iPhone 14 256GB ミッドナイト - SIMフリー 5G対応\\n〇 10/11 12:02:17\\n#iPhone14 #iPhone14Plus #iPhone14Pro #iPhone14ProMax\\nhttps://t.co/P2nP3AMXDJ\", \"url\": \"https://twitter.com/KATE_LipMonster/status/1579668682946404352\"}\n",
            "{\"id\": 1579668660628914176, \"username\": \"News_iPhone14\", \"date\": \"2022-10-11 03:02:12+00:00\", \"text\": \"Amazonにて入荷中！\\nApple iPhone 14 256GB ミッドナイト - SIMフリー 5G対応\\n#iPhone14 #iPhone14Plus\\n#iPhone14Pro #iPhone14ProMax\\n10/11 12:02:11 現在\\nhttps://t.co/oEZOsTDHbz\", \"url\": \"https://twitter.com/News_iPhone14/status/1579668660628914176\"}\n",
            "{\"id\": 1579668660620521474, \"username\": \"Apple_iPhone_ss\", \"date\": \"2022-10-11 03:02:12+00:00\", \"text\": \"■ Amazonにて入荷中 🍎\\n■ Apple iPhone 14 256GB ミッドナイト - SIMフリー 5G対応\\n■ 入荷日時 10/11 12:02:11\\n#iPhone14 #iPhone14Pro #iPhone14ProMax\\nhttps://t.co/20wnIi87kT\", \"url\": \"https://twitter.com/Apple_iPhone_ss/status/1579668660620521474\"}\n",
            "{\"id\": 1579668660616331266, \"username\": \"KATE_LipMonster\", \"date\": \"2022-10-11 03:02:12+00:00\", \"text\": \"〇 Amazonで入荷中！\\n〇 Apple iPhone 14 256GB ミッドナイト - SIMフリー 5G対応\\n〇 10/11 12:02:11\\n#iPhone14 #iPhone14Plus #iPhone14Pro #iPhone14ProMax\\nhttps://t.co/m5lEXMZ7Ob\", \"url\": \"https://twitter.com/KATE_LipMonster/status/1579668660616331266\"}\n",
            "{\"id\": 1579668655461105665, \"username\": \"onlinesafety001\", \"date\": \"2022-10-11 03:02:10+00:00\", \"text\": \"Apple releases iOS 16.0.3 with iPhone 14, Mailjack fixes ahead of iOS 16.1 https://t.co/ZreTN5FAYs\", \"url\": \"https://twitter.com/onlinesafety001/status/1579668655461105665\"}\n"
          ]
        }
      ]
    },
    {
      "cell_type": "code",
      "source": [
        ">>> import nltk\n",
        ">>> nltk.download(\"stopwords\")"
      ],
      "metadata": {
        "colab": {
          "base_uri": "https://localhost:8080/"
        },
        "id": "Wy476ZEW03EF",
        "outputId": "bb42c701-1963-4c48-88eb-aa2e60c0db22"
      },
      "execution_count": 57,
      "outputs": [
        {
          "output_type": "stream",
          "name": "stderr",
          "text": [
            "[nltk_data] Downloading package stopwords to /root/nltk_data...\n",
            "[nltk_data]   Package stopwords is already up-to-date!\n"
          ]
        },
        {
          "output_type": "execute_result",
          "data": {
            "text/plain": [
              "True"
            ]
          },
          "metadata": {},
          "execution_count": 57
        }
      ]
    },
    {
      "cell_type": "code",
      "source": [
        "!pip install Sastrawi"
      ],
      "metadata": {
        "colab": {
          "base_uri": "https://localhost:8080/"
        },
        "id": "SLdJod1q2KRP",
        "outputId": "9bcbbb83-dfd6-49d8-b786-c1ba2d11871a"
      },
      "execution_count": 58,
      "outputs": [
        {
          "output_type": "stream",
          "name": "stdout",
          "text": [
            "Looking in indexes: https://pypi.org/simple, https://us-python.pkg.dev/colab-wheels/public/simple/\n",
            "Requirement already satisfied: Sastrawi in /usr/local/lib/python3.7/dist-packages (1.0.1)\n"
          ]
        }
      ]
    },
    {
      "cell_type": "code",
      "source": [
        "datatw"
      ],
      "metadata": {
        "colab": {
          "base_uri": "https://localhost:8080/"
        },
        "id": "9Mp-Naa14_hx",
        "outputId": "63c93f6a-6704-457b-9b18-1c5f9f448670"
      },
      "execution_count": 59,
      "outputs": [
        {
          "output_type": "execute_result",
          "data": {
            "text/plain": [
              "['@notromeosgirl iphone 14 fytb',\n",
              " '〇 Amazonで入荷中！\\n〇 Apple iPhone 14 256GB ミッドナイト - SIMフリー 5G対応\\n〇 10/11 12:02:17\\n#iPhone14 #iPhone14Plus #iPhone14Pro #iPhone14ProMax\\nhttps://t.co/saBSOap2Eq',\n",
              " '〇 Amazonで入荷中！\\n〇 Apple iPhone 14 256GB ミッドナイト - SIMフリー 5G対応\\n〇 10/11 12:02:17\\n#iPhone14 #iPhone14Plus #iPhone14Pro #iPhone14ProMax\\nhttps://t.co/P2nP3AMXDJ',\n",
              " 'Amazonにて入荷中！\\nApple iPhone 14 256GB ミッドナイト - SIMフリー 5G対応\\n#iPhone14 #iPhone14Plus\\n#iPhone14Pro #iPhone14ProMax\\n10/11 12:02:11 現在\\nhttps://t.co/oEZOsTDHbz',\n",
              " '■ Amazonにて入荷中 🍎\\n■ Apple iPhone 14 256GB ミッドナイト - SIMフリー 5G対応\\n■ 入荷日時 10/11 12:02:11\\n#iPhone14 #iPhone14Pro #iPhone14ProMax\\nhttps://t.co/20wnIi87kT',\n",
              " '〇 Amazonで入荷中！\\n〇 Apple iPhone 14 256GB ミッドナイト - SIMフリー 5G対応\\n〇 10/11 12:02:11\\n#iPhone14 #iPhone14Plus #iPhone14Pro #iPhone14ProMax\\nhttps://t.co/m5lEXMZ7Ob',\n",
              " 'Apple releases iOS 16.0.3 with iPhone 14, Mailjack fixes ahead of iOS\\xa016.1 https://t.co/ZreTN5FAYs']"
            ]
          },
          "metadata": {},
          "execution_count": 59
        }
      ]
    },
    {
      "cell_type": "code",
      "source": [
        "import re\n",
        "import string\n",
        "from Sastrawi.Stemmer.StemmerFactory import StemmerFactory# create stemmer\n",
        "factory = StemmerFactory()\n",
        "stemmer = factory.create_stemmer()# stemming process\n",
        "# import StopWordRemoverFactory class\n",
        "from Sastrawi.StopWordRemover.StopWordRemoverFactory import StopWordRemoverFactory\n",
        "factory = StopWordRemoverFactory()\n",
        "stopword = factory.create_stop_word_remover()\n",
        "documents_clean=[]\n",
        "\n",
        "for d in datatw:\n",
        "    outputstem= stemmer.stem(d)\n",
        "    d= stopword.remove(outputstem)\n",
        "    # Remove Unicode\n",
        "    document_test = re.sub(r'[^\\x00-\\x7F]+', ' ', d)\n",
        "    # Remove Mentions\n",
        "    document_test = re.sub(r'@\\w+', '', document_test)\n",
        "    # Lowercase the document\n",
        "    document_test = document_test.lower()\n",
        "    # Remove punctuations\n",
        "    document_test = re.sub(r'[%s]' % re.escape(string.punctuation), ' ', document_test)\n",
        "    # Lowercase the numbers\n",
        "    document_test = re.sub(r'[0-9]', '', document_test)\n",
        "    # Remove the doubled space\n",
        "    outputstop = re.sub(r'\\s{2,}', ' ', document_test)\n",
        "    documents_clean.append(outputstop)"
      ],
      "metadata": {
        "id": "eHd97oyp5XBJ"
      },
      "execution_count": 60,
      "outputs": []
    },
    {
      "cell_type": "code",
      "source": [
        "documents_clean[0:5]"
      ],
      "metadata": {
        "colab": {
          "base_uri": "https://localhost:8080/"
        },
        "id": "IXuPNxRu6Cam",
        "outputId": "31979a2a-1e0d-4f33-8d7e-32549d6a8693"
      },
      "execution_count": 61,
      "outputs": [
        {
          "output_type": "execute_result",
          "data": {
            "text/plain": [
              "['notromeosgirl iphone fytb',\n",
              " 'amazon apple iphone gb sim g iphone iphoneplus iphonepro iphonepromax https t co sabsoapeq',\n",
              " 'amazon apple iphone gb sim g iphone iphoneplus iphonepro iphonepromax https t co pnpamxdj',\n",
              " 'amazon apple iphone gb sim g iphone iphoneplus iphonepro iphonepromax https t co oezostdhbz',\n",
              " 'amazon apple iphone gb sim g iphone iphonepro iphonepromax https t co wniikt']"
            ]
          },
          "metadata": {},
          "execution_count": 61
        }
      ]
    },
    {
      "cell_type": "code",
      "source": [
        "from sklearn.feature_extraction.text import TfidfVectorizer\n",
        "import pandas as pd\n",
        "tfidfvectorizer = TfidfVectorizer(analyzer='word')\n",
        "tfidf_wm = tfidfvectorizer.fit_transform(documents_clean)\n",
        "tfidf_tokens = tfidfvectorizer.get_feature_names()"
      ],
      "metadata": {
        "id": "-7kLoW-f7ujS"
      },
      "execution_count": 62,
      "outputs": []
    },
    {
      "cell_type": "code",
      "source": [
        "from sklearn.feature_extraction.text import CountVectorizer \n",
        "import matplotlib.pyplot as plt\n",
        "import numpy as np # linear algebra\n",
        "import pandas as pd # data processing, CSV file I/O (e.g. pd.read_csv)\n",
        "cv = CountVectorizer()\n",
        "words = cv.fit_transform(documents_clean)\n",
        "sum_words = words.sum(axis=0)\n",
        "\n",
        "\n",
        "words_freq = [(word, sum_words[0, idx]) for word, idx in cv.vocabulary_.items()]\n",
        "words_freq = sorted(words_freq, key = lambda x: x[1], reverse = True)\n",
        "frequency = pd.DataFrame(words_freq, columns=['word', 'freq'])\n",
        "\n",
        "color = plt.cm.twilight(np.linspace(0, 1, 20))\n",
        "frequency.head(20).plot(x='word', y='freq', kind='bar', figsize=(15, 7), color = color)\n",
        "plt.title(\"Most Frequently Occuring Words - Top 20\")"
      ],
      "metadata": {
        "colab": {
          "base_uri": "https://localhost:8080/",
          "height": 537
        },
        "id": "YP6p94kQ-Dps",
        "outputId": "e7494a21-bf5a-4ea7-efed-6af17de2ab3b"
      },
      "execution_count": 63,
      "outputs": [
        {
          "output_type": "execute_result",
          "data": {
            "text/plain": [
              "Text(0.5, 1.0, 'Most Frequently Occuring Words - Top 20')"
            ]
          },
          "metadata": {},
          "execution_count": 63
        },
        {
          "output_type": "display_data",
          "data": {
            "text/plain": [
              "<Figure size 1080x504 with 1 Axes>"
            ],
            "image/png": "[encoded data removed]"
          },
          "metadata": {
            "needs_background": "light"
          }
        }
      ]
    },
    {
      "cell_type": "code",
      "source": [
        "from sklearn.cluster import KMeans\n",
        "true_k = 3\n",
        "model = KMeans(n_clusters=true_k, init='k-means++', max_iter=100, n_init=1)\n",
        "model.fit(words)"
      ],
      "metadata": {
        "colab": {
          "base_uri": "https://localhost:8080/"
        },
        "id": "hycX_D7s-HRy",
        "outputId": "219e8afd-97ed-4daa-b29d-b6e64e21e33e"
      },
      "execution_count": 64,
      "outputs": [
        {
          "output_type": "execute_result",
          "data": {
            "text/plain": [
              "KMeans(max_iter=100, n_clusters=3, n_init=1)"
            ]
          },
          "metadata": {},
          "execution_count": 64
        }
      ]
    },
    {
      "cell_type": "code",
      "source": [
        "order_centroids = model.cluster_centers_.argsort()[:, ::-1]\n",
        "terms = cv.get_feature_names()\n",
        "\n",
        "for i in range(true_k):\n",
        "    print(\"Cluster %d:\" % i),\n",
        "    for ind in order_centroids[i, :10]:\n",
        "        print(' %s' % terms[ind]),\n",
        "    print\n",
        "\n",
        "print(\"\\n\")"
      ],
      "metadata": {
        "colab": {
          "base_uri": "https://localhost:8080/"
        },
        "id": "s-ejkTz2-1Op",
        "outputId": "824d75f5-e0bb-4424-b295-feaf059f4fab"
      },
      "execution_count": 65,
      "outputs": [
        {
          "output_type": "stream",
          "name": "stdout",
          "text": [
            "Cluster 0:\n",
            " iphone\n",
            " iphonepromax\n",
            " co\n",
            " iphonepro\n",
            " https\n",
            " gb\n",
            " apple\n",
            " sim\n",
            " amazon\n",
            " iphoneplus\n",
            "Cluster 1:\n",
            " ios\n",
            " zretnfays\n",
            " mailjack\n",
            " apple\n",
            " co\n",
            " fixes\n",
            " https\n",
            " iphone\n",
            " ahead\n",
            " of\n",
            "Cluster 2:\n",
            " fytb\n",
            " notromeosgirl\n",
            " iphone\n",
            " zretnfays\n",
            " iphonepro\n",
            " amazon\n",
            " apple\n",
            " co\n",
            " fixes\n",
            " gb\n",
            "\n",
            "\n"
          ]
        },
        {
          "output_type": "stream",
          "name": "stderr",
          "text": [
            "/usr/local/lib/python3.7/dist-packages/sklearn/utils/deprecation.py:87: FutureWarning: Function get_feature_names is deprecated; get_feature_names is deprecated in 1.0 and will be removed in 1.2. Please use get_feature_names_out instead.\n",
            "  warnings.warn(msg, category=FutureWarning)\n"
          ]
        }
      ]
    },
    {
      "cell_type": "code",
      "source": [
        "import scipy.cluster.hierarchy as sch\n",
        "X = cv.fit_transform(documents_clean).todense()\n",
        "dendrogram = sch.dendrogram(sch.linkage(X, method = 'ward',metric='euclidean'),orientation=\"top\")\n",
        "plt.title('Dendrogram')\n",
        "plt.xlabel('Jarak Ward')\n",
        "plt.ylabel('Nomor Dokumen')\n",
        "plt.show()"
      ],
      "metadata": {
        "colab": {
          "base_uri": "https://localhost:8080/",
          "height": 298
        },
        "id": "h0uABu8_-4OB",
        "outputId": "e296bfc0-6b27-44ef-f225-7252c61dd0a3"
      },
      "execution_count": 66,
      "outputs": [
        {
          "output_type": "display_data",
          "data": {
            "text/plain": [
              "<Figure size 432x288 with 1 Axes>"
            ],
            "image/png": "[encoded data removed]"
          },
          "metadata": {
            "needs_background": "light"
          }
        }
      ]
    },
    {
      "cell_type": "code",
      "source": [
        "import scipy.cluster.hierarchy as sch\n",
        "X = cv.fit_transform(documents_clean).todense()\n",
        "dendrogram = sch.dendrogram(sch.linkage(X, method = 'average',metric='euclidean'),orientation=\"right\")\n",
        "plt.title('Dendrogram')\n",
        "plt.xlabel('Jarak Rerata')\n",
        "plt.ylabel('Nomor Dokumen')\n",
        "plt.show()"
      ],
      "metadata": {
        "colab": {
          "base_uri": "https://localhost:8080/",
          "height": 295
        },
        "id": "AgqfVMiE_TPR",
        "outputId": "8ca3c316-3aed-4964-d5f3-91d43182e941"
      },
      "execution_count": 67,
      "outputs": [
        {
          "output_type": "display_data",
          "data": {
            "text/plain": [
              "<Figure size 432x288 with 1 Axes>"
            ],
            "image/png": "[encoded data removed]"
          },
          "metadata": {
            "needs_background": "light"
          }
        }
      ]
    }
  ]
}