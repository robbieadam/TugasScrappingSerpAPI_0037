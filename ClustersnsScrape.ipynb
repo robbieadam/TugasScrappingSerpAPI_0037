{
  "nbformat": 4,
  "nbformat_minor": 0,
  "metadata": {
    "colab": {
      "provenance": [],
      "authorship_tag": "ABX9TyP6dp1lIZfnwCE4aWSZNjN9",
      "include_colab_link": true
    },
    "kernelspec": {
      "name": "python3",
      "display_name": "Python 3"
    },
    "language_info": {
      "name": "python"
    }
  },
  "cells": [
    {
      "cell_type": "markdown",
      "metadata": {
        "id": "view-in-github",
        "colab_type": "text"
      },
      "source": [
        "<a href=\"https://colab.research.google.com/github/robbieadam/TugasScrappingSerpAPI_0037/blob/main/ClustersnsScrape.ipynb\" target=\"_parent\"><img src=\"https://colab.research.google.com/assets/colab-badge.svg\" alt=\"Open In Colab\"/></a>"
      ]
    },
    {
      "cell_type": "code",
      "execution_count": 1,
      "metadata": {
        "colab": {
          "base_uri": "https://localhost:8080/"
        },
        "id": "84hOKUKjyJpw",
        "outputId": "6f35e446-57b6-4d36-ac55-69dbff72479c"
      },
      "outputs": [
        {
          "output_type": "stream",
          "name": "stdout",
          "text": [
            "Looking in indexes: https://pypi.org/simple, https://us-python.pkg.dev/colab-wheels/public/simple/\n",
            "Collecting snscrape\n",
            "  Downloading snscrape-0.3.4-py3-none-any.whl (35 kB)\n",
            "Requirement already satisfied: beautifulsoup4 in /usr/local/lib/python3.7/dist-packages (from snscrape) (4.6.3)\n",
            "Requirement already satisfied: requests[socks] in /usr/local/lib/python3.7/dist-packages (from snscrape) (2.23.0)\n",
            "Requirement already satisfied: lxml in /usr/local/lib/python3.7/dist-packages (from snscrape) (4.9.1)\n",
            "Requirement already satisfied: chardet<4,>=3.0.2 in /usr/local/lib/python3.7/dist-packages (from requests[socks]->snscrape) (3.0.4)\n",
            "Requirement already satisfied: certifi>=2017.4.17 in /usr/local/lib/python3.7/dist-packages (from requests[socks]->snscrape) (2022.9.24)\n",
            "Requirement already satisfied: idna<3,>=2.5 in /usr/local/lib/python3.7/dist-packages (from requests[socks]->snscrape) (2.10)\n",
            "Requirement already satisfied: urllib3!=1.25.0,!=1.25.1,<1.26,>=1.21.1 in /usr/local/lib/python3.7/dist-packages (from requests[socks]->snscrape) (1.24.3)\n",
            "Requirement already satisfied: PySocks!=1.5.7,>=1.5.6 in /usr/local/lib/python3.7/dist-packages (from requests[socks]->snscrape) (1.7.1)\n",
            "Installing collected packages: snscrape\n",
            "Successfully installed snscrape-0.3.4\n"
          ]
        }
      ],
      "source": [
        "!pip3 install snscrape"
      ]
    },
    {
      "cell_type": "code",
      "source": [
        "pip install langdetect"
      ],
      "metadata": {
        "colab": {
          "base_uri": "https://localhost:8080/"
        },
        "id": "FlKpSixmykHZ",
        "outputId": "99cee2c5-51d2-45c4-f13d-3bf106946234"
      },
      "execution_count": 2,
      "outputs": [
        {
          "output_type": "stream",
          "name": "stdout",
          "text": [
            "Looking in indexes: https://pypi.org/simple, https://us-python.pkg.dev/colab-wheels/public/simple/\n",
            "Collecting langdetect\n",
            "  Downloading langdetect-1.0.9.tar.gz (981 kB)\n",
            "\u001b[K     |████████████████████████████████| 981 kB 20.9 MB/s \n",
            "\u001b[?25hRequirement already satisfied: six in /usr/local/lib/python3.7/dist-packages (from langdetect) (1.15.0)\n",
            "Building wheels for collected packages: langdetect\n",
            "  Building wheel for langdetect (setup.py) ... \u001b[?25l\u001b[?25hdone\n",
            "  Created wheel for langdetect: filename=langdetect-1.0.9-py3-none-any.whl size=993242 sha256=9d791cd6fcbef284e5aa8a7cd0c4f1b5a8cb6c0e84196e8d9300b9d5589f4aab\n",
            "  Stored in directory: /root/.cache/pip/wheels/c5/96/8a/f90c59ed25d75e50a8c10a1b1c2d4c402e4dacfa87f3aff36a\n",
            "Successfully built langdetect\n",
            "Installing collected packages: langdetect\n",
            "Successfully installed langdetect-1.0.9\n"
          ]
        }
      ]
    },
    {
      "cell_type": "code",
      "source": [
        "import snscrape.modules.twitter as sntwitter\n",
        "import json\n",
        "from langdetect import detect"
      ],
      "metadata": {
        "id": "BTHfkECDyZIy"
      },
      "execution_count": 3,
      "outputs": []
    },
    {
      "cell_type": "code",
      "source": [
        "import pandas as pd\n",
        "datatw=[]"
      ],
      "metadata": {
        "id": "1b7vfauf4zii"
      },
      "execution_count": 4,
      "outputs": []
    },
    {
      "cell_type": "code",
      "source": [
        "keywords=['iPhone14']\n",
        "start=\"2022–10–01\"\n",
        "end =\"2022–10–10\"\n",
        "max_num=500\n",
        "fname='tweet.json' \n",
        "languages=['de','en']"
      ],
      "metadata": {
        "id": "vGG_aQxDy3Yo"
      },
      "execution_count": 5,
      "outputs": []
    },
    {
      "cell_type": "code",
      "source": [
        "for keyword in keywords:\n",
        "   \n",
        "    for i, tweet in enumerate (sntwitter.TwitterSearchScraper(f'{keyword} ').get_items()):\n",
        "        \n",
        "        try:\n",
        "            lan=detect(tweet.content)\n",
        "        except:\n",
        "            lan='error'\n",
        "        if i == max_num:\n",
        "            break\n",
        "        if lan in languages:\n",
        "            data = {'id': tweet.id, 'username':tweet.username, 'date': tweet.date, 'text': tweet.content,'url':tweet.url}\n",
        "\n",
        "            datatw.append(tweet.content)\n",
        "            with open(fname, 'a+', encoding='utf-8') as f:\n",
        "                line = json.dumps(data, ensure_ascii=False,default=str)\n",
        "                print(line)\n",
        "                f.write(line)\n",
        "                f.write('\\n')"
      ],
      "metadata": {
        "colab": {
          "base_uri": "https://localhost:8080/"
        },
        "id": "zWK6WzREzEVw",
        "outputId": "fa8ab358-7584-4c6f-c27a-1b4501e5a835"
      },
      "execution_count": 6,
      "outputs": [
        {
          "output_type": "stream",
          "name": "stdout",
          "text": [
            "{\"id\": 1581961910437617664, \"username\": \"PS5OnlyUAE\", \"date\": \"2022-10-17 10:54:45+00:00\", \"text\": \"Apple iPhone 14 Pro - Space Black\\n\\n128gb: https://t.co/SI8Q0ouoOq\\n256gb: https://t.co/lsZ0mAQR52\\n\\nApple iPhone 14 Pro - Gold\\n\\n128gb: https://t.co/LXo6cl44yo\\n1TB: https://t.co/44LwpFi5aA\\n\\nApple iPhone 14 Pro - Silver\\n\\n128gb: https://t.co/zFdLW7E94k\\n256gb: https://t.co/3AG7YfKwSa\", \"url\": \"https://twitter.com/PS5OnlyUAE/status/1581961910437617664\"}\n",
            "{\"id\": 1581961775385579521, \"username\": \"twkokoa_ru\", \"date\": \"2022-10-17 10:54:13+00:00\", \"text\": \"●Amazon\\nApple iPhone 14 Plus 128GB (PRODUCT)RED - SIMフリー 5G対応\\n\\n⬇️商品詳細\\nhttps://t.co/X3pGCNBFPZ\\n\\n134800円\\n19:54\\n#iPhone #Apple\", \"url\": \"https://twitter.com/twkokoa_ru/status/1581961775385579521\"}\n",
            "{\"id\": 1581961773598769152, \"username\": \"lmouz1\", \"date\": \"2022-10-17 10:54:12+00:00\", \"text\": \"iPhone 14 SIM not supported? Don’t try to fix it yourself https://t.co/HRZ95ruiNs\", \"url\": \"https://twitter.com/lmouz1/status/1581961773598769152\"}\n",
            "{\"id\": 1581961750026387456, \"username\": \"YasirHa06839036\", \"date\": \"2022-10-17 10:54:07+00:00\", \"text\": \"It's RAINING iPhones DAILY on @postpeapp ⛈️📱📱\\n\\ni'm playing postpe super strikers, and I just won ₹26 cashback 🏏💥 \\n\\njoin me and you can win an iPhone 14 every day, along with guaranteed rewards on every transaction 💸🤑\\n\\nready to strike it? #playnow #postpesuperstrikers\", \"url\": \"https://twitter.com/YasirHa06839036/status/1581961750026387456\"}\n",
            "{\"id\": 1581961617604239360, \"username\": \"HughRussell06\", \"date\": \"2022-10-17 10:53:35+00:00\", \"text\": \"@mrcringe61 @DeadinsideS22 He’s comparing the 13 Pro Max USD price to the iPhone 14 CAD price https://t.co/gOeo0nIlLx\", \"url\": \"https://twitter.com/HughRussell06/status/1581961617604239360\"}\n",
            "{\"id\": 1581961582388555777, \"username\": \"Ck8893\", \"date\": \"2022-10-17 10:53:27+00:00\", \"text\": \"@otto_de So bekommt man das schnell und richtig habe am 6. Oktober bestellt und es kam 14.10.22.\\nDas beste ist auch noch ich muss nicht so viel Zinsen drücken, wie bei euch fast 500 € dazu bezahlen obwohl das iPhone 14 pro Max 1,449 € kostet . https://t.co/sdjeYhA4bf\", \"url\": \"https://twitter.com/Ck8893/status/1581961582388555777\"}\n",
            "{\"id\": 1581961575036248066, \"username\": \"Nikenikoseikatu\", \"date\": \"2022-10-17 10:53:25+00:00\", \"text\": \"@analogoichan iPhone14の性能抜群です😊🎶\", \"url\": \"https://twitter.com/Nikenikoseikatu/status/1581961575036248066\"}\n",
            "{\"id\": 1581961572595142665, \"username\": \"FominLabs\", \"date\": \"2022-10-17 10:53:24+00:00\", \"text\": \"I just posted \\\"Analysts: lead times for iPhone 14 series drop below that for iPhone 13 in the same period\\\" on Reddit\\n\\nhttps://t.co/VKpcZu3LUP\", \"url\": \"https://twitter.com/FominLabs/status/1581961572595142665\"}\n",
            "{\"id\": 1581961517242912768, \"username\": \"FominLabs\", \"date\": \"2022-10-17 10:53:11+00:00\", \"text\": \"I just posted \\\"Google Pixel 7 Pro to iPhone 14 Pro Max: The best flagship camera phones for Diwali\\\" on Reddit\\n\\nhttps://t.co/yxmWGZwJx6\", \"url\": \"https://twitter.com/FominLabs/status/1581961517242912768\"}\n",
            "{\"id\": 1581961510976651264, \"username\": \"Sachin__Girdhar\", \"date\": \"2022-10-17 10:53:10+00:00\", \"text\": \"It's RAINING iPhones DAILY on @postpeapp ⛈️📱📱\\n\\ni'm playing postpe super strikers, and I just won ₹10 cashback 🏏💥 \\n\\njoin me and you can win an iPhone 14 every day, along with guaranteed rewards on every transaction 💸🤑\\n\\nready to strike it? #playnow #postpesuperstrikers\", \"url\": \"https://twitter.com/Sachin__Girdhar/status/1581961510976651264\"}\n",
            "{\"id\": 1581961433054867456, \"username\": \"360Reader\", \"date\": \"2022-10-17 10:52:51+00:00\", \"text\": \"4 Best Wooden Cases for iPhone 14 Pro and iPhone 14 Pro Max https://t.co/KVoKv8u1i7 via @@360Reader\", \"url\": \"https://twitter.com/360Reader/status/1581961433054867456\"}\n",
            "{\"id\": 1581961410170351616, \"username\": \"Vox_Populi001\", \"date\": \"2022-10-17 10:52:46+00:00\", \"text\": \"@ezbicent @IruefiNG That's because iphone6 was a flagship phone. If you wanna compare a flagship phone, then compare it with another flagship model of another phone. For example, if you wanna compare an iphone14, then compare it with the latest Samsung flagship phone of a similar price range\", \"url\": \"https://twitter.com/Vox_Populi001/status/1581961410170351616\"}\n",
            "{\"id\": 1581961368370315264, \"username\": \"AEConsoleAlerts\", \"date\": \"2022-10-17 10:52:36+00:00\", \"text\": \"Apple iPhone 14 Pro Max (1 TB) - Space Black\\nOnly 1 unit left!\\nhttps://t.co/tJp3X969oo\", \"url\": \"https://twitter.com/AEConsoleAlerts/status/1581961368370315264\"}\n",
            "{\"id\": 1581961325508694016, \"username\": \"RajeshRkmishra\", \"date\": \"2022-10-17 10:52:26+00:00\", \"text\": \"4 Best Wooden Cases for iPhone 14 Pro and iPhone 14 Pro Max https://t.co/SoZth7XpOx via @@360Reader\", \"url\": \"https://twitter.com/RajeshRkmishra/status/1581961325508694016\"}\n",
            "{\"id\": 1581961287130808322, \"username\": \"shubygold\", \"date\": \"2022-10-17 10:52:16+00:00\", \"text\": \"I dey fear igbo man wey carry Nokia 33:10 pass yahoo boy wey carry iPhone 14 pro-max,........ na only igbo man go enter okada go where he wan go pay for him property of millions of naira still use torchlight phone do transfer,...... in other words, fear igbo men 😂\", \"url\": \"https://twitter.com/shubygold/status/1581961287130808322\"}\n",
            "{\"id\": 1581961219778367488, \"username\": \"Elemsamson1\", \"date\": \"2022-10-17 10:52:00+00:00\", \"text\": \"@hindatuuu Once you get to computer village Ikeja with that your 20k just call me on phone and leave the rest to God.\\nBut I promise you, you must go back home with iphone 14 pro max just have faith and start come now.\", \"url\": \"https://twitter.com/Elemsamson1/status/1581961219778367488\"}\n",
            "{\"id\": 1581961111926345728, \"username\": \"aityam110\", \"date\": \"2022-10-17 10:51:35+00:00\", \"text\": \"iPhone14 https://t.co/MPRpN6M0yG\", \"url\": \"https://twitter.com/aityam110/status/1581961111926345728\"}\n",
            "{\"id\": 1581961053285814272, \"username\": \"ChatzConnect\", \"date\": \"2022-10-17 10:51:21+00:00\", \"text\": \"#LetsChat iPhone 14 now available \\nWay more wow. Big and bigger!\\nCapture your vision with #Apple and #ChatzConnect \\nhttps://t.co/hJkcx8u9WF https://t.co/02xC5fNv6e\", \"url\": \"https://twitter.com/ChatzConnect/status/1581961053285814272\"}\n",
            "{\"id\": 1581961050102325251, \"username\": \"mobgsmcom\", \"date\": \"2022-10-17 10:51:20+00:00\", \"text\": \"Analysts: Lead Times For IPhone 14 Series Drop Below That For IPhone 13 In The Same Period https://t.co/xiIk9kayJv\", \"url\": \"https://twitter.com/mobgsmcom/status/1581961050102325251\"}\n",
            "{\"id\": 1581960997979684864, \"username\": \"PS5OnlyUAE\", \"date\": \"2022-10-17 10:51:07+00:00\", \"text\": \"https://t.co/Xp9VvXjuZX\\n\\nApple iPhone 14 Pro (256 GB) - Silver\", \"url\": \"https://twitter.com/PS5OnlyUAE/status/1581960997979684864\"}\n",
            "{\"id\": 1581960979696750592, \"username\": \"Savetea3\", \"date\": \"2022-10-17 10:51:03+00:00\", \"text\": \"iPhone 14 ProのDynamic Island、登場 | Apple https://t.co/kbiowyF19L @YouTubeより\", \"url\": \"https://twitter.com/Savetea3/status/1581960979696750592\"}\n",
            "{\"id\": 1581960942489067520, \"username\": \"MURA_biz\", \"date\": \"2022-10-17 10:50:54+00:00\", \"text\": \"【Amazon 入荷速報📢】\\nApple iPhone 14 256GB (PRODUCT)RED - SIMフリー 5G対応\\n\\n価格：134800円\\n\\n（2022/10/17 19:50）\\n#iPhone\\nhttps://t.co/SdUXMUHkeO\", \"url\": \"https://twitter.com/MURA_biz/status/1581960942489067520\"}\n",
            "{\"id\": 1581960875048456194, \"username\": \"Hansinigang\", \"date\": \"2022-10-17 10:50:38+00:00\", \"text\": \"Probable reason actual sales for the standard Iphone 14 are way lower this year compared to the pro and pro max is the need for people to identify themselves with the fact it is the latest version through the new notch. Cuz obviously why settle for what looks exactly like last yr\", \"url\": \"https://twitter.com/Hansinigang/status/1581960875048456194\"}\n",
            "{\"id\": 1581960867704602624, \"username\": \"0gi007\", \"date\": \"2022-10-17 10:50:36+00:00\", \"text\": \"@Apple İphone 14 pro max neden yok?\", \"url\": \"https://twitter.com/0gi007/status/1581960867704602624\"}\n",
            "{\"id\": 1581960846619840512, \"username\": \"DailyMultanNews\", \"date\": \"2022-10-17 10:50:31+00:00\", \"text\": \"Analysts: lead times for iPhone 14 series drop below that for iPhone 13 in the same period https://t.co/EOzYOfI5cR\", \"url\": \"https://twitter.com/DailyMultanNews/status/1581960846619840512\"}\n",
            "{\"id\": 1581960807017230336, \"username\": \"applenws\", \"date\": \"2022-10-17 10:50:22+00:00\", \"text\": \"How to use the Dynamic Island on iPhone 14 Pro | Apple Support https://t.co/Cq3KETcSU5\", \"url\": \"https://twitter.com/applenws/status/1581960807017230336\"}\n",
            "{\"id\": 1581960802956738560, \"username\": \"mnao0821vn\", \"date\": \"2022-10-17 10:50:21+00:00\", \"text\": \"iPhone14/14 Pro、Apple Storeとキャリアの在庫～10/17\\nhttps://t.co/STA7WBWWyn\", \"url\": \"https://twitter.com/mnao0821vn/status/1581960802956738560\"}\n",
            "{\"id\": 1581960800628940800, \"username\": \"KATE_LipMonster\", \"date\": \"2022-10-17 10:50:20+00:00\", \"text\": \"〇 Amazonで入荷中！\\n〇 Apple iPhone 14 Plus 256GB ミッドナイト - SIMフリー 5G対応\\n〇 10/17 19:50:20\\n#iPhone14 #iPhone14Plus #iPhone14Pro #iPhone14ProMax\\nhttps://t.co/4xlshQxq1K\", \"url\": \"https://twitter.com/KATE_LipMonster/status/1581960800628940800\"}\n",
            "{\"id\": 1581960800516083712, \"username\": \"KATE_LipMonster\", \"date\": \"2022-10-17 10:50:20+00:00\", \"text\": \"〇 Amazonで入荷中！\\n〇 Apple iPhone 14 Plus 256GB ミッドナイト - SIMフリー 5G対応\\n〇 10/17 19:50:20\\n#iPhone14 #iPhone14Plus #iPhone14Pro #iPhone14ProMax\\nhttps://t.co/qfdAk1iuS5\", \"url\": \"https://twitter.com/KATE_LipMonster/status/1581960800516083712\"}\n",
            "{\"id\": 1581960778155859968, \"username\": \"Apple_iPhone_ss\", \"date\": \"2022-10-17 10:50:15+00:00\", \"text\": \"■ Amazonにて入荷中 🍎\\n■ Apple iPhone 14 Plus 256GB ミッドナイト - SIMフリー 5G対応\\n■ 入荷日時 10/17 19:50:15\\n#iPhone14 #iPhone14Pro #iPhone14ProMax\\nhttps://t.co/0ECuU6saga\", \"url\": \"https://twitter.com/Apple_iPhone_ss/status/1581960778155859968\"}\n",
            "{\"id\": 1581960778152030209, \"username\": \"News_iPhone14\", \"date\": \"2022-10-17 10:50:15+00:00\", \"text\": \"Amazonにて入荷中！\\nApple iPhone 14 Plus 256GB ミッドナイト - SIMフリー 5G対応\\n#iPhone14 #iPhone14Plus\\n#iPhone14Pro #iPhone14ProMax\\n10/17 19:50:15 現在\\nhttps://t.co/Z0j62pTSd2\", \"url\": \"https://twitter.com/News_iPhone14/status/1581960778152030209\"}\n",
            "{\"id\": 1581960778134847491, \"username\": \"KATE_LipMonster\", \"date\": \"2022-10-17 10:50:15+00:00\", \"text\": \"〇 Amazonで入荷中！\\n〇 Apple iPhone 14 Plus 256GB ミッドナイト - SIMフリー 5G対応\\n〇 10/17 19:50:15\\n#iPhone14 #iPhone14Plus #iPhone14Pro #iPhone14ProMax\\nhttps://t.co/6LUgLE3EVF\", \"url\": \"https://twitter.com/KATE_LipMonster/status/1581960778134847491\"}\n",
            "{\"id\": 1581960777854242817, \"username\": \"justinloyalstan\", \"date\": \"2022-10-17 10:50:15+00:00\", \"text\": \"There’s a lack of iPhone 14 pro again LMFAO I HATE THIS IM MAD AF GOD\", \"url\": \"https://twitter.com/justinloyalstan/status/1581960777854242817\"}\n",
            "{\"id\": 1581960704659435521, \"username\": \"tech_modena\", \"date\": \"2022-10-17 10:49:58+00:00\", \"text\": \"IOS 16.0.3 Update on iPhone 14 fixes Some Annoying Bugs https://t.co/91SJxau4Sx\", \"url\": \"https://twitter.com/tech_modena/status/1581960704659435521\"}\n",
            "{\"id\": 1581960663249080320, \"username\": \"Gammatek\", \"date\": \"2022-10-17 10:49:48+00:00\", \"text\": \"No matter what case style and the protection level you need - UAG has you covered. #iphone14 #iphone14accessories #UAG #gammatek 🤳 https://t.co/2ZtqUolHdm\", \"url\": \"https://twitter.com/Gammatek/status/1581960663249080320\"}\n",
            "{\"id\": 1581960626381127680, \"username\": \"keremfndk\", \"date\": \"2022-10-17 10:49:39+00:00\", \"text\": \"Exchanging an iPhone 14 Pro Max with a car? https://t.co/uLQ8UHmlTL  #iPhone14ProMax #ladasamara #smartphoneexchangewithacar #techjourno #apple #iphone\", \"url\": \"https://twitter.com/keremfndk/status/1581960626381127680\"}\n",
            "{\"id\": 1581960596324376578, \"username\": \"Nerdshala\", \"date\": \"2022-10-17 10:49:32+00:00\", \"text\": \"Think the iPhone 14 Pro for Rs 1.3 lakhs is too cheap? How about an iPhone 14 Pro that costs Rs 1.1 crore?- Technology News, Firstpost https://t.co/YWKTWEV9YW\", \"url\": \"https://twitter.com/Nerdshala/status/1581960596324376578\"}\n",
            "{\"id\": 1581960536123506688, \"username\": \"smitbeat64\", \"date\": \"2022-10-17 10:49:17+00:00\", \"text\": \"Wallpaper for iOS16\\n\\nLink 👉 https://t.co/OOmrXezT2A\\n\\n#Apple #Wallpapers #iOS16 #iPhone14ProMax #iPhone14Pro #iPhone14 #iPhone14Plus\\n#iPhone13ProMax #iPhone13Pro #iPhone13 #iPhone13Mini\\n#iPhone12ProMax #iPhone12Pro\\n#iPhone12  #iPhone12Mini https://t.co/xQIbYTJVK0\", \"url\": \"https://twitter.com/smitbeat64/status/1581960536123506688\"}\n",
            "{\"id\": 1581960478246326273, \"username\": \"tech_modena\", \"date\": \"2022-10-17 10:49:04+00:00\", \"text\": \"IOS 16.0.3 Update on iPhone 14 fixes Some Annoying Bugs https://t.co/91SJxabVEp\", \"url\": \"https://twitter.com/tech_modena/status/1581960478246326273\"}\n",
            "{\"id\": 1581960321086128130, \"username\": \"TechNews_____\", \"date\": \"2022-10-17 10:48:26+00:00\", \"text\": \"lead times for iPhone 14 series drop below that for iPhone 13 in the same period https://t.co/9STZxDfhIv\", \"url\": \"https://twitter.com/TechNews_____/status/1581960321086128130\"}\n",
            "{\"id\": 1581960288449941505, \"username\": \"nextrift\", \"date\": \"2022-10-17 10:48:18+00:00\", \"text\": \"Apple iPhone 14 Plus Review: The New Default iPhone https://t.co/RgGDP5H9cp https://t.co/Z3XpUn3YCK\", \"url\": \"https://twitter.com/nextrift/status/1581960288449941505\"}\n",
            "{\"id\": 1581960169528823808, \"username\": \"PS5OnlyUAE\", \"date\": \"2022-10-17 10:47:50+00:00\", \"text\": \"@stewbrn It takes a bit so just sit tight and wait for now 🙌\", \"url\": \"https://twitter.com/PS5OnlyUAE/status/1581960169528823808\"}\n",
            "{\"id\": 1581960095671648257, \"username\": \"AEConsoleAlerts\", \"date\": \"2022-10-17 10:47:32+00:00\", \"text\": \"Apple iPhone 14 Pro (128 GB) - Silver is in Stock!\\nhttps://t.co/J03GUcEamz\", \"url\": \"https://twitter.com/AEConsoleAlerts/status/1581960095671648257\"}\n",
            "{\"id\": 1581960060720160770, \"username\": \"KATE_LipMonster\", \"date\": \"2022-10-17 10:47:24+00:00\", \"text\": \"〇 Amazonで入荷中！\\n〇 Apple iPhone 14 Plus 256GB ミッドナイト - SIMフリー 5G対応\\n〇 10/17 19:47:24\\n#iPhone14 #iPhone14Plus #iPhone14Pro #iPhone14ProMax\\nhttps://t.co/957g1LjGzO\", \"url\": \"https://twitter.com/KATE_LipMonster/status/1581960060720160770\"}\n",
            "{\"id\": 1581960060615286788, \"username\": \"KATE_LipMonster\", \"date\": \"2022-10-17 10:47:24+00:00\", \"text\": \"〇 Amazonで入荷中！\\n〇 Apple iPhone 14 Plus 256GB ミッドナイト - SIMフリー 5G対応\\n〇 10/17 19:47:24\\n#iPhone14 #iPhone14Plus #iPhone14Pro #iPhone14ProMax\\nhttps://t.co/XA60P5ve4C\", \"url\": \"https://twitter.com/KATE_LipMonster/status/1581960060615286788\"}\n",
            "{\"id\": 1581960038264221697, \"username\": \"News_iPhone14\", \"date\": \"2022-10-17 10:47:19+00:00\", \"text\": \"Amazonにて入荷中！\\nApple iPhone 14 Plus 256GB ミッドナイト - SIMフリー 5G対応\\n#iPhone14 #iPhone14Plus\\n#iPhone14Pro #iPhone14ProMax\\n10/17 19:47:18 現在\\nhttps://t.co/sx0dCuwKTD\", \"url\": \"https://twitter.com/News_iPhone14/status/1581960038264221697\"}\n",
            "{\"id\": 1581960038201327616, \"username\": \"Apple_iPhone_ss\", \"date\": \"2022-10-17 10:47:19+00:00\", \"text\": \"■ Amazonにて入荷中 🍎\\n■ Apple iPhone 14 Plus 256GB ミッドナイト - SIMフリー 5G対応\\n■ 入荷日時 10/17 19:47:18\\n#iPhone14 #iPhone14Pro #iPhone14ProMax\\nhttps://t.co/hkALTs78c1\", \"url\": \"https://twitter.com/Apple_iPhone_ss/status/1581960038201327616\"}\n",
            "{\"id\": 1581960038012555264, \"username\": \"KATE_LipMonster\", \"date\": \"2022-10-17 10:47:19+00:00\", \"text\": \"〇 Amazonで入荷中！\\n〇 Apple iPhone 14 Plus 256GB ミッドナイト - SIMフリー 5G対応\\n〇 10/17 19:47:18\\n#iPhone14 #iPhone14Plus #iPhone14Pro #iPhone14ProMax\\nhttps://t.co/Is8X6H8Qc5\", \"url\": \"https://twitter.com/KATE_LipMonster/status/1581960038012555264\"}\n",
            "{\"id\": 1581960026024837120, \"username\": \"PS5OnlyUAE\", \"date\": \"2022-10-17 10:47:16+00:00\", \"text\": \"https://t.co/CnLhjWWpuE\\n\\nApple iPhone 14 Pro (128 GB) - Silver\", \"url\": \"https://twitter.com/PS5OnlyUAE/status/1581960026024837120\"}\n",
            "{\"id\": 1581959900367724544, \"username\": \"rkrana1274\", \"date\": \"2022-10-17 10:46:46+00:00\", \"text\": \"@SecretTipsterr ✨ iPhone 14 Pro Max #Giveaway ✨\\n\\n#GamblingTwitter #iphonegiveaway \\n@SecretTipsterr https://t.co/5zxVIUyyDR\", \"url\": \"https://twitter.com/rkrana1274/status/1581959900367724544\"}\n",
            "{\"id\": 1581959554891292672, \"username\": \"alpinebaba\", \"date\": \"2022-10-17 10:45:23+00:00\", \"text\": \"Published on YouTube: 深圳华强北市场，iphone14 128G 跌破 3550元 无人要，iPhone 13 Pro max 再跌破历史新低4880元 https://t.co/eYRxMsJDve\", \"url\": \"https://twitter.com/alpinebaba/status/1581959554891292672\"}\n",
            "{\"id\": 1581959506761695233, \"username\": \"itopnews\", \"date\": \"2022-10-17 10:45:12+00:00\", \"text\": \"Kinoreif: \\\"Rundgang durch Chicago\\\" mit dem iPhone 14 Pro https://t.co/L2jvHlOIQA\", \"url\": \"https://twitter.com/itopnews/status/1581959506761695233\"}\n",
            "{\"id\": 1581959437610536960, \"username\": \"PS5OnlyUAE\", \"date\": \"2022-10-17 10:44:55+00:00\", \"text\": \"https://t.co/uzrc1dS3IM\\n\\nApple iPhone 14 Pro Max (256 GB) - Space Black\", \"url\": \"https://twitter.com/PS5OnlyUAE/status/1581959437610536960\"}\n",
            "{\"id\": 1581959426936049664, \"username\": \"News_iPhone14\", \"date\": \"2022-10-17 10:44:53+00:00\", \"text\": \"Amazonにて入荷中！\\n\\nApple iPhone 14 Plus 256GB ブルー - SIMフリー 5G対応...\\n\\n#iPhone14 #iPhone14Plus\\n#iPhone14Pro #iPhone14ProMax\\n2022/10/17 19:44:53 現在\\nhttps://t.co/hXvBZJalnz\", \"url\": \"https://twitter.com/News_iPhone14/status/1581959426936049664\"}\n",
            "{\"id\": 1581959421583687681, \"username\": \"Apple_iPhone_ss\", \"date\": \"2022-10-17 10:44:52+00:00\", \"text\": \"■ Amazonにて入荷中 🍎\\n■ Apple iPhone 14 Plus 256GB ブルー - SIMフリー ...\\n■ 2022/10/17 19:44:51 時点\\n#iPhone14 #iPhone14Pro #iPhone14ProMax\\nhttps://t.co/OYMZTaZunT\", \"url\": \"https://twitter.com/Apple_iPhone_ss/status/1581959421583687681\"}\n",
            "{\"id\": 1581959396573470720, \"username\": \"roanalex\", \"date\": \"2022-10-17 10:44:46+00:00\", \"text\": \"@freedomsupport I have pre ordered iPhone 14 pro max on September 9th and still don’t received the device.. where is my phone?\", \"url\": \"https://twitter.com/roanalex/status/1581959396573470720\"}\n",
            "{\"id\": 1581959294131765250, \"username\": \"AEConsoleAlerts\", \"date\": \"2022-10-17 10:44:21+00:00\", \"text\": \"Apple iPhone 14 Pro Max (256 GB) - Space Black is in Stock!\\nhttps://t.co/Yeq2D3DG2P\", \"url\": \"https://twitter.com/AEConsoleAlerts/status/1581959294131765250\"}\n",
            "{\"id\": 1581959209121636352, \"username\": \"MURA_biz\", \"date\": \"2022-10-17 10:44:01+00:00\", \"text\": \"【Amazon 入荷速報📢】\\nApple iPhone 14 256GB ブルー - SIMフリー 5G対応\\n\\n価格：134800円\\n\\n（2022/10/17 19:44）\\n#iPhone\\nhttps://t.co/0Vdok2OyDV\", \"url\": \"https://twitter.com/MURA_biz/status/1581959209121636352\"}\n",
            "{\"id\": 1581959200430706689, \"username\": \"KATE_LipMonster\", \"date\": \"2022-10-17 10:43:59+00:00\", \"text\": \"〇 Amazonで入荷中！\\n〇 Apple iPhone 14 Plus 256GB ミッドナイト - SIMフリー 5G対応\\n〇 10/17 19:43:59\\n#iPhone14 #iPhone14Plus #iPhone14Pro #iPhone14ProMax\\nhttps://t.co/hMrb3s9wYD\", \"url\": \"https://twitter.com/KATE_LipMonster/status/1581959200430706689\"}\n",
            "{\"id\": 1581959179945713664, \"username\": \"gabriele8325\", \"date\": \"2022-10-17 10:43:54+00:00\", \"text\": \"Test Batterie : iPhone 14 vs 14 Plus vs 14 Pro vs 14 Pro Max vs 13 Pro v... https://t.co/mxlWwWoCyP via @YouTube\", \"url\": \"https://twitter.com/gabriele8325/status/1581959179945713664\"}\n",
            "{\"id\": 1581959178075394048, \"username\": \"Apple_iPhone_ss\", \"date\": \"2022-10-17 10:43:54+00:00\", \"text\": \"■ Amazonにて入荷中 🍎\\n■ Apple iPhone 14 Plus 256GB ミッドナイト - SIMフリー 5G対応\\n■ 入荷日時 10/17 19:43:53\\n#iPhone14 #iPhone14Pro #iPhone14ProMax\\nhttps://t.co/4eHuTg0ngY\", \"url\": \"https://twitter.com/Apple_iPhone_ss/status/1581959178075394048\"}\n",
            "{\"id\": 1581959178066616321, \"username\": \"News_iPhone14\", \"date\": \"2022-10-17 10:43:54+00:00\", \"text\": \"Amazonにて入荷中！\\nApple iPhone 14 Plus 256GB ミッドナイト - SIMフリー 5G対応\\n#iPhone14 #iPhone14Plus\\n#iPhone14Pro #iPhone14ProMax\\n10/17 19:43:53 現在\\nhttps://t.co/NOg80YvsM8\", \"url\": \"https://twitter.com/News_iPhone14/status/1581959178066616321\"}\n",
            "{\"id\": 1581959177970515968, \"username\": \"KATE_LipMonster\", \"date\": \"2022-10-17 10:43:54+00:00\", \"text\": \"〇 Amazonで入荷中！\\n〇 Apple iPhone 14 Plus 256GB ミッドナイト - SIMフリー 5G対応\\n〇 10/17 19:43:53\\n#iPhone14 #iPhone14Plus #iPhone14Pro #iPhone14ProMax\\nhttps://t.co/y7kczEgFTk\", \"url\": \"https://twitter.com/KATE_LipMonster/status/1581959177970515968\"}\n",
            "{\"id\": 1581959177026809857, \"username\": \"izetnanic03\", \"date\": \"2022-10-17 10:43:53+00:00\", \"text\": \"Join me at Bybit and win Mystery Boxes together! Open a Mystery Box for a chance to win up to 1 BTC and an iPhone 14 Pro Max worth $1,099. https://t.co/fypkNk4NG5\\nhttps://t.co/fypkNk4NG5 https://t.co/6G2taFlnoY\", \"url\": \"https://twitter.com/izetnanic03/status/1581959177026809857\"}\n",
            "{\"id\": 1581959145821175810, \"username\": \"KATE_LipMonster\", \"date\": \"2022-10-17 10:43:46+00:00\", \"text\": \"〇 Amazonで入荷中！\\n〇 Apple iPhone 14 Plus 256GB ミッドナイト - SIMフリー 5G対応\\n〇 10/17 19:43:46\\n#iPhone14 #iPhone14Plus #iPhone14Pro #iPhone14ProMax\\nhttps://t.co/ZhXXc8bac8\", \"url\": \"https://twitter.com/KATE_LipMonster/status/1581959145821175810\"}\n",
            "{\"id\": 1581959145817006080, \"username\": \"KATE_LipMonster\", \"date\": \"2022-10-17 10:43:46+00:00\", \"text\": \"〇 Amazonで入荷中！\\n〇 Apple iPhone 14 Plus 256GB ミッドナイト - SIMフリー 5G対応\\n〇 10/17 19:43:46\\n#iPhone14 #iPhone14Plus #iPhone14Pro #iPhone14ProMax\\nhttps://t.co/uXxjQvq7M0\", \"url\": \"https://twitter.com/KATE_LipMonster/status/1581959145817006080\"}\n",
            "{\"id\": 1581959123419418626, \"username\": \"News_iPhone14\", \"date\": \"2022-10-17 10:43:41+00:00\", \"text\": \"Amazonにて入荷中！\\nApple iPhone 14 Plus 256GB ミッドナイト - SIMフリー 5G対応\\n#iPhone14 #iPhone14Plus\\n#iPhone14Pro #iPhone14ProMax\\n10/17 19:43:40 現在\\nhttps://t.co/JR4zPVk6zY\", \"url\": \"https://twitter.com/News_iPhone14/status/1581959123419418626\"}\n",
            "{\"id\": 1581959123377487873, \"username\": \"KATE_LipMonster\", \"date\": \"2022-10-17 10:43:41+00:00\", \"text\": \"〇 Amazonで入荷中！\\n〇 Apple iPhone 14 Plus 256GB ミッドナイト - SIMフリー 5G対応\\n〇 10/17 19:43:40\\n#iPhone14 #iPhone14Plus #iPhone14Pro #iPhone14ProMax\\nhttps://t.co/Q02wHU7Vi1\", \"url\": \"https://twitter.com/KATE_LipMonster/status/1581959123377487873\"}\n",
            "{\"id\": 1581959123377082368, \"username\": \"Apple_iPhone_ss\", \"date\": \"2022-10-17 10:43:41+00:00\", \"text\": \"■ Amazonにて入荷中 🍎\\n■ Apple iPhone 14 Plus 256GB ミッドナイト - SIMフリー 5G対応\\n■ 入荷日時 10/17 19:43:40\\n#iPhone14 #iPhone14Pro #iPhone14ProMax\\nhttps://t.co/9n2qM5g2DK\", \"url\": \"https://twitter.com/Apple_iPhone_ss/status/1581959123377082368\"}\n",
            "{\"id\": 1581959056461221888, \"username\": \"Philipe56426906\", \"date\": \"2022-10-17 10:43:25+00:00\", \"text\": \"Win iPhone 14 For Free\\nhttps://t.co/KhvJqTSTWB https://t.co/mhmvXk0dww\", \"url\": \"https://twitter.com/Philipe56426906/status/1581959056461221888\"}\n",
            "{\"id\": 1581958823698309121, \"username\": \"lucekrrh\", \"date\": \"2022-10-17 10:42:29+00:00\", \"text\": \"Join me at Bybit and win Mystery Boxes together! Open a Mystery Box for a chance to win up to 1 BTC and an iPhone 14 Pro Max worth $1,099. https://t.co/G8GB4hRoLD\\nhttps://t.co/G8GB4hRoLD https://t.co/Yo8p04GkjF\", \"url\": \"https://twitter.com/lucekrrh/status/1581958823698309121\"}\n",
            "{\"id\": 1581958797907460097, \"username\": \"DacksCamp\", \"date\": \"2022-10-17 10:42:23+00:00\", \"text\": \"Apple AirPods Pro（第2世代） ​​​​​​​がAmazonで再入荷しました！\\n[19:42:23]\\nhttps://t.co/r1TlPnWAec\", \"url\": \"https://twitter.com/DacksCamp/status/1581958797907460097\"}\n",
            "{\"id\": 1581958797601386496, \"username\": \"PS5OnlyUAE\", \"date\": \"2022-10-17 10:42:23+00:00\", \"text\": \"Apple iPhone 14 Pro Max (256 GB) - Space Black is in stock\\n\\nhttps://t.co/TYDGLfxhV7\", \"url\": \"https://twitter.com/PS5OnlyUAE/status/1581958797601386496\"}\n",
            "{\"id\": 1581958783148130304, \"username\": \"gearrice_com\", \"date\": \"2022-10-17 10:42:19+00:00\", \"text\": \"iPhone 14: Apple recognizes a bug related to certain unsupported SIM cards https://t.co/oaa5ssdumt\", \"url\": \"https://twitter.com/gearrice_com/status/1581958783148130304\"}\n",
            "{\"id\": 1581958652336181248, \"username\": \"TipsLives\", \"date\": \"2022-10-17 10:41:48+00:00\", \"text\": \"Analysts: lead times for iPhone 14 series drop below that for iPhone 13 in the same period https://t.co/kcdFkAVkLZ\", \"url\": \"https://twitter.com/TipsLives/status/1581958652336181248\"}\n",
            "{\"id\": 1581958629854392323, \"username\": \"AEConsoleAlerts\", \"date\": \"2022-10-17 10:41:43+00:00\", \"text\": \"Apple iPhone 14 Pro Max (256 GB) - Space Black is in Stock!\\nhttps://t.co/4C7tzNoVYo\", \"url\": \"https://twitter.com/AEConsoleAlerts/status/1581958629854392323\"}\n",
            "{\"id\": 1581958606173261824, \"username\": \"PS5OnlyUAE\", \"date\": \"2022-10-17 10:41:37+00:00\", \"text\": \"Apple iPhone 14 Pro (256 GB) - Space Black\\nhttps://t.co/ZNZNpflJFZ\\n\\nApple iPhone 14 Pro (128 GB) - Space Black\\nhttps://t.co/DV8fvJFlov\", \"url\": \"https://twitter.com/PS5OnlyUAE/status/1581958606173261824\"}\n",
            "{\"id\": 1581958500091310081, \"username\": \"gdelussigny\", \"date\": \"2022-10-17 10:41:12+00:00\", \"text\": \"Analysts: lead times for iPhone 14 series drop below that for iPhone 13 in the same period https://t.co/Xt7l9WlqpI\", \"url\": \"https://twitter.com/gdelussigny/status/1581958500091310081\"}\n",
            "{\"id\": 1581958497784066055, \"username\": \"KATE_LipMonster\", \"date\": \"2022-10-17 10:41:11+00:00\", \"text\": \"〇 Amazonで入荷中！\\n〇 Apple iPhone 14 Plus 256GB ミッドナイト - SIMフリー 5G対応\\n〇 10/17 19:41:11\\n#iPhone14 #iPhone14Plus #iPhone14Pro #iPhone14ProMax\\nhttps://t.co/W8spegQ8nu\", \"url\": \"https://twitter.com/KATE_LipMonster/status/1581958497784066055\"}\n",
            "{\"id\": 1581958497578921987, \"username\": \"KATE_LipMonster\", \"date\": \"2022-10-17 10:41:11+00:00\", \"text\": \"〇 Amazonで入荷中！\\n〇 Apple iPhone 14 Plus 256GB ミッドナイト - SIMフリー 5G対応\\n〇 10/17 19:41:11\\n#iPhone14 #iPhone14Plus #iPhone14Pro #iPhone14ProMax\\nhttps://t.co/9Jz6VRDv7g\", \"url\": \"https://twitter.com/KATE_LipMonster/status/1581958497578921987\"}\n",
            "{\"id\": 1581958495284260864, \"username\": \"ultimatepocket1\", \"date\": \"2022-10-17 10:41:11+00:00\", \"text\": \"Analysts: lead times for iPhone 14 series drop below that for iPhone 13 in the same period https://t.co/mZykhXSwZS\", \"url\": \"https://twitter.com/ultimatepocket1/status/1581958495284260864\"}\n",
            "{\"id\": 1581958475369697281, \"username\": \"News_iPhone14\", \"date\": \"2022-10-17 10:41:06+00:00\", \"text\": \"Amazonにて入荷中！\\nApple iPhone 14 Plus 256GB ミッドナイト - SIMフリー 5G対応\\n#iPhone14 #iPhone14Plus\\n#iPhone14Pro #iPhone14ProMax\\n10/17 19:41:06 現在\\nhttps://t.co/I13Bb8O4qI\", \"url\": \"https://twitter.com/News_iPhone14/status/1581958475369697281\"}\n",
            "{\"id\": 1581958475344596993, \"username\": \"KATE_LipMonster\", \"date\": \"2022-10-17 10:41:06+00:00\", \"text\": \"〇 Amazonで入荷中！\\n〇 Apple iPhone 14 Plus 256GB ミッドナイト - SIMフリー 5G対応\\n〇 10/17 19:41:06\\n#iPhone14 #iPhone14Plus #iPhone14Pro #iPhone14ProMax\\nhttps://t.co/sDCUcuoung\", \"url\": \"https://twitter.com/KATE_LipMonster/status/1581958475344596993\"}\n",
            "{\"id\": 1581958475256860677, \"username\": \"Apple_iPhone_ss\", \"date\": \"2022-10-17 10:41:06+00:00\", \"text\": \"■ Amazonにて入荷中 🍎\\n■ Apple iPhone 14 Plus 256GB ミッドナイト - SIMフリー 5G対応\\n■ 入荷日時 10/17 19:41:06\\n#iPhone14 #iPhone14Pro #iPhone14ProMax\\nhttps://t.co/NonEY4KD5Y\", \"url\": \"https://twitter.com/Apple_iPhone_ss/status/1581958475256860677\"}\n",
            "{\"id\": 1581958457825300481, \"username\": \"AAPL_StockNews\", \"date\": \"2022-10-17 10:41:02+00:00\", \"text\": \"Apple Buyers Are Getting iPhone 14 Models Quicker Than Previous Lineup: Here Are New Lead Times https://t.co/Jt2d8Npy06\", \"url\": \"https://twitter.com/AAPL_StockNews/status/1581958457825300481\"}\n",
            "{\"id\": 1581958260361375744, \"username\": \"ShyamSu19129983\", \"date\": \"2022-10-17 10:40:15+00:00\", \"text\": \"@tanneeshozz So my teacher gifted me iPhone 14 pro Max for scoring well in science.\", \"url\": \"https://twitter.com/ShyamSu19129983/status/1581958260361375744\"}\n",
            "{\"id\": 1581958234323054592, \"username\": \"KLmire\", \"date\": \"2022-10-17 10:40:09+00:00\", \"text\": \"Why are Apple iPhone 14 deliveries delayed for Indian buyers? https://t.co/DnAlc2UlPN\", \"url\": \"https://twitter.com/KLmire/status/1581958234323054592\"}\n",
            "{\"id\": 1581958223531167744, \"username\": \"Khiroulmire\", \"date\": \"2022-10-17 10:40:06+00:00\", \"text\": \"Why are Apple iPhone 14 deliveries delayed for Indian buyers? https://t.co/dWs99Npef9\", \"url\": \"https://twitter.com/Khiroulmire/status/1581958223531167744\"}\n",
            "{\"id\": 1581958163586174977, \"username\": \"PS5OnlyUAE\", \"date\": \"2022-10-17 10:39:52+00:00\", \"text\": \"https://t.co/fkNvqGqZJH\\n\\nApple iPhone 14 Pro (512 GB) - Deep Purple\\n\\n1 left!\", \"url\": \"https://twitter.com/PS5OnlyUAE/status/1581958163586174977\"}\n",
            "{\"id\": 1581958129490702339, \"username\": \"LaurenKaren41\", \"date\": \"2022-10-17 10:39:44+00:00\", \"text\": \"Win iPhone 14\\nhttps://t.co/VwQo0lJ3RJ https://t.co/cfADhqbh45\", \"url\": \"https://twitter.com/LaurenKaren41/status/1581958129490702339\"}\n",
            "{\"id\": 1581958098692214785, \"username\": \"DealSquadIN\", \"date\": \"2022-10-17 10:39:36+00:00\", \"text\": \"All iPhone Deals https://t.co/ZeMjGDDbS2\\n\\niPhone 12 64GB https://t.co/1YCoQi3L5Z\\n\\niPhone 12 128GB https://t.co/V0uZx1ux7x\\n\\niPhone 13 Pro 128GB https://t.co/cSRb5TDMBV\\n\\niPhone 13 Pro Max 128GB https://t.co/bSAR1HLq0Y\\n\\niPhone 14 https://t.co/d1OsFiKrAI\\n\\n#FinaleDays #AmszonSeLiya https://t.co/71VCL59hzz\", \"url\": \"https://twitter.com/DealSquadIN/status/1581958098692214785\"}\n",
            "{\"id\": 1581958035697958912, \"username\": \"Krish94802117\", \"date\": \"2022-10-17 10:39:21+00:00\", \"text\": \"@tech_burner iPhone 14 ka Acha ha\", \"url\": \"https://twitter.com/Krish94802117/status/1581958035697958912\"}\n",
            "{\"id\": 1581957782680764416, \"username\": \"shopshop_shop_\", \"date\": \"2022-10-17 10:38:21+00:00\", \"text\": \"ZHIYUN Official SMOOTH Q3 Gimbal Smartphone 3-Axis Phone Gimbals Stabilizer for iPhone 14 pro max/Xiaomi/Huawei VS DJI OM 6 $89.97\\nclick&gt;&gt;https://t.co/vV84hvytpj\\n#amazon #aliexpress #rt https://t.co/zj1Losk2bK\", \"url\": \"https://twitter.com/shopshop_shop_/status/1581957782680764416\"}\n",
            "{\"id\": 1581957733049253893, \"username\": \"techopenion\", \"date\": \"2022-10-17 10:38:09+00:00\", \"text\": \"Analysts: lead times for iPhone 14 series drop below that for iPhone 13 in the same period https://t.co/hrC72HswL2\", \"url\": \"https://twitter.com/techopenion/status/1581957733049253893\"}\n",
            "{\"id\": 1581957708328370177, \"username\": \"siunus\", \"date\": \"2022-10-17 10:38:03+00:00\", \"text\": \"Analysts: lead times for iPhone 14 series drop below that for iPhone 13 in the same period https://t.co/pJszXDrYpJ https://t.co/PicYQ2PULe\", \"url\": \"https://twitter.com/siunus/status/1581957708328370177\"}\n",
            "{\"id\": 1581957620566757376, \"username\": \"sumedhathawale0\", \"date\": \"2022-10-17 10:37:42+00:00\", \"text\": \"Apple iPhone 14 review: Should you buy? https://t.co/PZkV2HZcaq\", \"url\": \"https://twitter.com/sumedhathawale0/status/1581957620566757376\"}\n",
            "{\"id\": 1581957604729053184, \"username\": \"Angusbeefyboy\", \"date\": \"2022-10-17 10:37:38+00:00\", \"text\": \"@UniverseIce Iphone 14 pro Max with 6\", \"url\": \"https://twitter.com/Angusbeefyboy/status/1581957604729053184\"}\n",
            "{\"id\": 1581957600739934208, \"username\": \"Jieun45410676\", \"date\": \"2022-10-17 10:37:38+00:00\", \"text\": \"Apple Acknowledges ‘SIM Not Supported’ Bug Impacting iPhone 14 Users https://t.co/FwwEUVTsq8\", \"url\": \"https://twitter.com/Jieun45410676/status/1581957600739934208\"}\n",
            "{\"id\": 1581957424206196736, \"username\": \"Rinku_0119\", \"date\": \"2022-10-17 10:36:55+00:00\", \"text\": \"@techbharatco iPhone 14 Pro 😍\", \"url\": \"https://twitter.com/Rinku_0119/status/1581957424206196736\"}\n",
            "{\"id\": 1581957344225030146, \"username\": \"KATE_LipMonster\", \"date\": \"2022-10-17 10:36:36+00:00\", \"text\": \"〇 Amazonで入荷中！\\n〇 Apple iPhone 14 Plus 256GB ミッドナイト - SIMフリー 5G対応\\n〇 10/17 19:36:36\\n#iPhone14 #iPhone14Plus #iPhone14Pro #iPhone14ProMax\\nhttps://t.co/vqWVkXAx4Q\", \"url\": \"https://twitter.com/KATE_LipMonster/status/1581957344225030146\"}\n",
            "{\"id\": 1581957343990132737, \"username\": \"KATE_LipMonster\", \"date\": \"2022-10-17 10:36:36+00:00\", \"text\": \"〇 Amazonで入荷中！\\n〇 Apple iPhone 14 Plus 256GB ミッドナイト - SIMフリー 5G対応\\n〇 10/17 19:36:36\\n#iPhone14 #iPhone14Plus #iPhone14Pro #iPhone14ProMax\\nhttps://t.co/DcUx3oAJos\", \"url\": \"https://twitter.com/KATE_LipMonster/status/1581957343990132737\"}\n",
            "{\"id\": 1581957343977549824, \"username\": \"KATE_LipMonster\", \"date\": \"2022-10-17 10:36:36+00:00\", \"text\": \"〇 Amazonで入荷中！\\n〇 Apple iPhone 14 Plus 256GB ミッドナイト - SIMフリー 5G対応\\n〇 10/17 19:36:36\\n#iPhone14 #iPhone14Plus #iPhone14Pro #iPhone14ProMax\\nhttps://t.co/iGsbD1gexX\", \"url\": \"https://twitter.com/KATE_LipMonster/status/1581957343977549824\"}\n",
            "{\"id\": 1581957343922700289, \"username\": \"KATE_LipMonster\", \"date\": \"2022-10-17 10:36:36+00:00\", \"text\": \"〇 Amazonで入荷中！\\n〇 Apple iPhone 14 Plus 256GB ミッドナイト - SIMフリー 5G対応\\n〇 10/17 19:36:36\\n#iPhone14 #iPhone14Plus #iPhone14Pro #iPhone14ProMax\\nhttps://t.co/rZwGDsxXwl\", \"url\": \"https://twitter.com/KATE_LipMonster/status/1581957343922700289\"}\n",
            "{\"id\": 1581957321533505538, \"username\": \"Apple_iPhone_ss\", \"date\": \"2022-10-17 10:36:31+00:00\", \"text\": \"■ Amazonにて入荷中 🍎\\n■ Apple iPhone 14 Plus 256GB ミッドナイト - SIMフリー 5G対応\\n■ 入荷日時 10/17 19:36:31\\n#iPhone14 #iPhone14Pro #iPhone14ProMax\\nhttps://t.co/0Shoiyy8xN\", \"url\": \"https://twitter.com/Apple_iPhone_ss/status/1581957321533505538\"}\n",
            "{\"id\": 1581957321487716354, \"username\": \"KATE_LipMonster\", \"date\": \"2022-10-17 10:36:31+00:00\", \"text\": \"〇 Amazonで入荷中！\\n〇 Apple iPhone 14 Plus 256GB ミッドナイト - SIMフリー 5G対応\\n〇 10/17 19:36:31\\n#iPhone14 #iPhone14Plus #iPhone14Pro #iPhone14ProMax\\nhttps://t.co/ALV9BkxqUI\", \"url\": \"https://twitter.com/KATE_LipMonster/status/1581957321487716354\"}\n",
            "{\"id\": 1581957321483161600, \"username\": \"News_iPhone14\", \"date\": \"2022-10-17 10:36:31+00:00\", \"text\": \"Amazonにて入荷中！\\nApple iPhone 14 Plus 256GB ミッドナイト - SIMフリー 5G対応\\n#iPhone14 #iPhone14Plus\\n#iPhone14Pro #iPhone14ProMax\\n10/17 19:36:31 現在\\nhttps://t.co/FtQay7Pv8t\", \"url\": \"https://twitter.com/News_iPhone14/status/1581957321483161600\"}\n",
            "{\"id\": 1581957321466314752, \"username\": \"KATE_LipMonster\", \"date\": \"2022-10-17 10:36:31+00:00\", \"text\": \"〇 Amazonで入荷中！\\n〇 Apple iPhone 14 Plus 256GB ミッドナイト - SIMフリー 5G対応\\n〇 10/17 19:36:31\\n#iPhone14 #iPhone14Plus #iPhone14Pro #iPhone14ProMax\\nhttps://t.co/HNMZagq08s\", \"url\": \"https://twitter.com/KATE_LipMonster/status/1581957321466314752\"}\n",
            "{\"id\": 1581957321433178115, \"username\": \"Apple_iPhone_ss\", \"date\": \"2022-10-17 10:36:31+00:00\", \"text\": \"■ Amazonにて入荷中 🍎\\n■ Apple iPhone 14 Plus 256GB ミッドナイト - SIMフリー 5G対応\\n■ 入荷日時 10/17 19:36:31\\n#iPhone14 #iPhone14Pro #iPhone14ProMax\\nhttps://t.co/Pb40tqQ98t\", \"url\": \"https://twitter.com/Apple_iPhone_ss/status/1581957321433178115\"}\n",
            "{\"id\": 1581957321420177408, \"username\": \"News_iPhone14\", \"date\": \"2022-10-17 10:36:31+00:00\", \"text\": \"Amazonにて入荷中！\\nApple iPhone 14 Plus 256GB ミッドナイト - SIMフリー 5G対応\\n#iPhone14 #iPhone14Plus\\n#iPhone14Pro #iPhone14ProMax\\n10/17 19:36:31 現在\\nhttps://t.co/LxgADnXR8h\", \"url\": \"https://twitter.com/News_iPhone14/status/1581957321420177408\"}\n",
            "{\"id\": 1581957312440258560, \"username\": \"mishrak21\", \"date\": \"2022-10-17 10:36:29+00:00\", \"text\": \"It's RAINING iPhones DAILY on @postpeapp ⛈️📱📱\\n\\ni'm playing postpe super strikers, and I just won ₹10 cashback 🏏💥 \\n\\njoin me and you can win an iPhone 14 every day, along with guaranteed rewards on every transaction 💸🤑\\n\\nready to strike it? #playnow #postpesuperstrikers\", \"url\": \"https://twitter.com/mishrak21/status/1581957312440258560\"}\n",
            "{\"id\": 1581957248615845888, \"username\": \"THEFIRM_CEO\", \"date\": \"2022-10-17 10:36:14+00:00\", \"text\": \"📰 Apple Buyers Are Getting iPhone 14 Models Quicker Than Previous Lineup: Here Are New Lead Times\\n\\n$AAPL\\n\\nhttps://t.co/8zdO0dfqjB\", \"url\": \"https://twitter.com/THEFIRM_CEO/status/1581957248615845888\"}\n",
            "{\"id\": 1581957235076653056, \"username\": \"Angusbeefyboy\", \"date\": \"2022-10-17 10:36:10+00:00\", \"text\": \"@techpro76 @AndroidEducator @F2O_Official Apple- no way guys we added an animation and always on display and the normal iPhone 14 is literally the same as last year but we  No people will buy it because it's an iPhone  Is all iPhone users are uneducated and don't know what a megapixel is.\", \"url\": \"https://twitter.com/Angusbeefyboy/status/1581957235076653056\"}\n",
            "{\"id\": 1581956984068530178, \"username\": \"jianoliu\", \"date\": \"2022-10-17 10:35:10+00:00\", \"text\": \"#wallpapers #homescreen\\n#iPhone14ProMax\\n#iPhone14Pro\\n#iPhone14Plus\\n#iPhone14\\n#iPhone13ProMax\\n#iPhone13Pro\\n#iPhone13\\n#iPhone12ProMax\\n#iPhone12Pro\\n#iPhone12\\n#android\\nDownload\\nhttps://t.co/W2Ee8KAMlD\\nhttps://t.co/PNLKUlczZA https://t.co/pCYFzhqUdE\", \"url\": \"https://twitter.com/jianoliu/status/1581956984068530178\"}\n",
            "{\"id\": 1581956903776944130, \"username\": \"necokamisama\", \"date\": \"2022-10-17 10:34:51+00:00\", \"text\": \"#bitcoin\\n#altcoin\\n#Crypto\\nAsia-Pacific Shares Finish Mixed Ahead of US Earnings Announcements https://t.co/BgHd8T1p1e\\n\\n【招待コード】\\n#Binance\\nhttps://t.co/3BslJTvkLp\\n#Bybit\\nhttps://t.co/l7nfqg1hNK\\n\\n#iPhone14 #楽天\\nhttps://t.co/gCBmHixlOB\", \"url\": \"https://twitter.com/necokamisama/status/1581956903776944130\"}\n",
            "{\"id\": 1581956898727034881, \"username\": \"necokamisama\", \"date\": \"2022-10-17 10:34:50+00:00\", \"text\": \"#bitcoin\\n#altcoin\\n#Crypto\\nEUR/USD and a Return to $0.98 in the Hands of the ECB’s Philip Lane https://t.co/EDRR6218pv\\n\\n【招待コード】\\n#Binance\\nhttps://t.co/3BslJTvkLp\\n#Bybit\\nhttps://t.co/l7nfqg1hNK\\n\\n#iPhone14 #楽天\\nhttps://t.co/gCBmHixlOB\", \"url\": \"https://twitter.com/necokamisama/status/1581956898727034881\"}\n",
            "{\"id\": 1581956814983528449, \"username\": \"KATE_LipMonster\", \"date\": \"2022-10-17 10:34:30+00:00\", \"text\": \"〇 Amazonで入荷中！\\n〇 Apple iPhone 14 Plus 256GB ブルー - SIMフリー 5G対応\\n〇 10/17 19:34:30\\n#iPhone14 #iPhone14Plus #iPhone14Pro #iPhone14ProMax\\nhttps://t.co/XmwxcIx14S\", \"url\": \"https://twitter.com/KATE_LipMonster/status/1581956814983528449\"}\n",
            "{\"id\": 1581956814815436800, \"username\": \"KATE_LipMonster\", \"date\": \"2022-10-17 10:34:30+00:00\", \"text\": \"〇 Amazonで入荷中！\\n〇 Apple iPhone 14 Plus 256GB ブルー - SIMフリー 5G対応\\n〇 10/17 19:34:30\\n#iPhone14 #iPhone14Plus #iPhone14Pro #iPhone14ProMax\\nhttps://t.co/9jK7OtqcEq\", \"url\": \"https://twitter.com/KATE_LipMonster/status/1581956814815436800\"}\n",
            "{\"id\": 1581956792497582080, \"username\": \"KATE_LipMonster\", \"date\": \"2022-10-17 10:34:25+00:00\", \"text\": \"〇 Amazonで入荷中！\\n〇 Apple iPhone 14 Plus 256GB ブルー - SIMフリー 5G対応\\n〇 10/17 19:34:25\\n#iPhone14 #iPhone14Plus #iPhone14Pro #iPhone14ProMax\\nhttps://t.co/W6fGT8H4j2\", \"url\": \"https://twitter.com/KATE_LipMonster/status/1581956792497582080\"}\n",
            "{\"id\": 1581956792484929536, \"username\": \"Apple_iPhone_ss\", \"date\": \"2022-10-17 10:34:25+00:00\", \"text\": \"■ Amazonにて入荷中 🍎\\n■ Apple iPhone 14 Plus 256GB ブルー - SIMフリー 5G対応\\n■ 入荷日時 10/17 19:34:25\\n#iPhone14 #iPhone14Pro #iPhone14ProMax\\nhttps://t.co/g8ZieatBNI\", \"url\": \"https://twitter.com/Apple_iPhone_ss/status/1581956792484929536\"}\n",
            "{\"id\": 1581956792442966016, \"username\": \"News_iPhone14\", \"date\": \"2022-10-17 10:34:25+00:00\", \"text\": \"Amazonにて入荷中！\\nApple iPhone 14 Plus 256GB ブルー - SIMフリー 5G対応\\n#iPhone14 #iPhone14Plus\\n#iPhone14Pro #iPhone14ProMax\\n10/17 19:34:25 現在\\nhttps://t.co/4YCTWpCBpv\", \"url\": \"https://twitter.com/News_iPhone14/status/1581956792442966016\"}\n",
            "{\"id\": 1581956772667207680, \"username\": \"NiharikaMajumd4\", \"date\": \"2022-10-17 10:34:20+00:00\", \"text\": \"@SecretTipsterr Thankyou so much @SecretTipsterr team for hosting this huge iPhone 14 Pro Max giveaway. I'm glad and so happy to be a participant here ❤️\\n\\n@srshylu5gmailc1 @KDivya18740584 @GoldQueenie4  @poolife93 @gsrana4580  💚\\n\\nThis one is going to be massive 🔥 https://t.co/lmm6LHPiGe\", \"url\": \"https://twitter.com/NiharikaMajumd4/status/1581956772667207680\"}\n",
            "{\"id\": 1581956759799107584, \"username\": \"T9ElectronicsMW\", \"date\": \"2022-10-17 10:34:17+00:00\", \"text\": \"Brand New!\\niPhone 14 Blue\\n✅128GB\\n✅Canadian Model🇨🇦\\n💰MK1,300,000 https://t.co/WhnM5ohDDy\", \"url\": \"https://twitter.com/T9ElectronicsMW/status/1581956759799107584\"}\n",
            "{\"id\": 1581956720460718080, \"username\": \"Lodi646Partner\", \"date\": \"2022-10-17 10:34:08+00:00\", \"text\": \"🎃 AS OF OCTOBER 16, 2022 LIST FOR TURNOVER COMPETITION 🎃\\n🎉 What are you waiting for kalodi? Enter now and get a chance to win an IPHONE 14 MAX PRO! 🎉\\n✨ This Halloween treat don't have any required deposit, you just need your turnover! https://t.co/nKBzWs0bTm\", \"url\": \"https://twitter.com/Lodi646Partner/status/1581956720460718080\"}\n",
            "{\"id\": 1581956642270113792, \"username\": \"PS5OnlyUAE\", \"date\": \"2022-10-17 10:33:49+00:00\", \"text\": \"Apple iPhone 14 Pro Max (1 TB) - Space Black\\n\\nhttps://t.co/96SOuRcad9\\n\\nOnly 1 left!\", \"url\": \"https://twitter.com/PS5OnlyUAE/status/1581956642270113792\"}\n",
            "{\"id\": 1581956638700732416, \"username\": \"AEConsoleAlerts\", \"date\": \"2022-10-17 10:33:48+00:00\", \"text\": \"Apple iPhone 14 Pro Max (1 TB) - Space Black\\nOnly 1 left in stock!\\nhttps://t.co/UxS7xkeJbC\", \"url\": \"https://twitter.com/AEConsoleAlerts/status/1581956638700732416\"}\n",
            "{\"id\": 1581956584757813249, \"username\": \"imNATHinthemood\", \"date\": \"2022-10-17 10:33:35+00:00\", \"text\": \"Analysts: lead times for iPhone 14 series drop below that for iPhone 13 in the same period https://t.co/9tofzsAaYp via @gsmarena_com\", \"url\": \"https://twitter.com/imNATHinthemood/status/1581956584757813249\"}\n",
            "{\"id\": 1581956551652552704, \"username\": \"arjunkbbst\", \"date\": \"2022-10-17 10:33:27+00:00\", \"text\": \"It's RAINING iPhones DAILY on @postpeapp ⛈️📱📱\\n\\ni'm playing postpe super strikers, and I just won ₹135 cashback 🏏💥 \\n\\njoin me and you can win an iPhone 14 every day, along with guaranteed rewards on every transaction 💸🤑\\n\\nready to strike it? #playnow #postpesuperstrikers\", \"url\": \"https://twitter.com/arjunkbbst/status/1581956551652552704\"}\n",
            "{\"id\": 1581956484380110848, \"username\": \"ofree\", \"date\": \"2022-10-17 10:33:11+00:00\", \"text\": \"Free Speck iPhone 14 Phone Case https://t.co/5H3Hkg0aaq #freestuff #deals #freesamples\", \"url\": \"https://twitter.com/ofree/status/1581956484380110848\"}\n",
            "{\"id\": 1581956468588544000, \"username\": \"shopshop_shop_\", \"date\": \"2022-10-17 10:33:08+00:00\", \"text\": \"ZHIYUN Official Smooth 5 Gimbal Phone Handheld Stabilizer 3-Axis Smartphone for iPhone 14 Pro Max/Huawei/Xiaomi VS DJI OM 6 $181.71\\nclick&gt;&gt;https://t.co/iyFkyfHbEk\\n#amazon #aliexpress #rt https://t.co/H1xMALruOs\", \"url\": \"https://twitter.com/shopshop_shop_/status/1581956468588544000\"}\n",
            "{\"id\": 1581956456479588352, \"username\": \"KATE_LipMonster\", \"date\": \"2022-10-17 10:33:05+00:00\", \"text\": \"〇 Amazonで入荷中！\\n〇 Apple iPhone 14 Plus 256GB ミッドナイト - SIMフリー 5G対応\\n〇 10/17 19:33:05\\n#iPhone14 #iPhone14Plus #iPhone14Pro #iPhone14ProMax\\nhttps://t.co/3qunvBwr2G\", \"url\": \"https://twitter.com/KATE_LipMonster/status/1581956456479588352\"}\n",
            "{\"id\": 1581956456479215616, \"username\": \"KATE_LipMonster\", \"date\": \"2022-10-17 10:33:05+00:00\", \"text\": \"〇 Amazonで入荷中！\\n〇 Apple iPhone 14 Plus 256GB ミッドナイト - SIMフリー 5G対応\\n〇 10/17 19:33:05\\n#iPhone14 #iPhone14Plus #iPhone14Pro #iPhone14ProMax\\nhttps://t.co/Zl3v6HDNdJ\", \"url\": \"https://twitter.com/KATE_LipMonster/status/1581956456479215616\"}\n",
            "{\"id\": 1581956456391143425, \"username\": \"KATE_LipMonster\", \"date\": \"2022-10-17 10:33:05+00:00\", \"text\": \"〇 Amazonで入荷中！\\n〇 Apple iPhone 14 Plus 256GB ミッドナイト - SIMフリー 5G対応\\n〇 10/17 19:33:05\\n#iPhone14 #iPhone14Plus #iPhone14Pro #iPhone14ProMax\\nhttps://t.co/tfQscnHor5\", \"url\": \"https://twitter.com/KATE_LipMonster/status/1581956456391143425\"}\n",
            "{\"id\": 1581956456378961920, \"username\": \"KATE_LipMonster\", \"date\": \"2022-10-17 10:33:05+00:00\", \"text\": \"〇 Amazonで入荷中！\\n〇 Apple iPhone 14 Plus 256GB ミッドナイト - SIMフリー 5G対応\\n〇 10/17 19:33:04\\n#iPhone14 #iPhone14Plus #iPhone14Pro #iPhone14ProMax\\nhttps://t.co/WQwlE0EOKM\", \"url\": \"https://twitter.com/KATE_LipMonster/status/1581956456378961920\"}\n",
            "{\"id\": 1581956431514722304, \"username\": \"News_iPhone14\", \"date\": \"2022-10-17 10:32:59+00:00\", \"text\": \"Amazonにて入荷中！\\nApple iPhone 14 Plus 256GB ミッドナイト - SIMフリー 5G対応\\n#iPhone14 #iPhone14Plus\\n#iPhone14Pro #iPhone14ProMax\\n10/17 19:32:59 現在\\nhttps://t.co/EiWbdqcM2X\", \"url\": \"https://twitter.com/News_iPhone14/status/1581956431514722304\"}\n",
            "{\"id\": 1581956431481225216, \"username\": \"News_iPhone14\", \"date\": \"2022-10-17 10:32:59+00:00\", \"text\": \"Amazonにて入荷中！\\nApple iPhone 14 Plus 256GB ミッドナイト - SIMフリー 5G対応\\n#iPhone14 #iPhone14Plus\\n#iPhone14Pro #iPhone14ProMax\\n10/17 19:32:58 現在\\nhttps://t.co/FyUGioNL7Q\", \"url\": \"https://twitter.com/News_iPhone14/status/1581956431481225216\"}\n",
            "{\"id\": 1581956431472836608, \"username\": \"Apple_iPhone_ss\", \"date\": \"2022-10-17 10:32:59+00:00\", \"text\": \"■ Amazonにて入荷中 🍎\\n■ Apple iPhone 14 Plus 256GB ミッドナイト - SIMフリー 5G対応\\n■ 入荷日時 10/17 19:32:59\\n#iPhone14 #iPhone14Pro #iPhone14ProMax\\nhttps://t.co/I57lRymkl4\", \"url\": \"https://twitter.com/Apple_iPhone_ss/status/1581956431472836608\"}\n",
            "{\"id\": 1581956431468965888, \"username\": \"Apple_iPhone_ss\", \"date\": \"2022-10-17 10:32:59+00:00\", \"text\": \"■ Amazonにて入荷中 🍎\\n■ Apple iPhone 14 Plus 256GB ミッドナイト - SIMフリー 5G対応\\n■ 入荷日時 10/17 19:32:58\\n#iPhone14 #iPhone14Pro #iPhone14ProMax\\nhttps://t.co/BSZXiWg7QV\", \"url\": \"https://twitter.com/Apple_iPhone_ss/status/1581956431468965888\"}\n",
            "{\"id\": 1581956431342817280, \"username\": \"KATE_LipMonster\", \"date\": \"2022-10-17 10:32:59+00:00\", \"text\": \"〇 Amazonで入荷中！\\n〇 Apple iPhone 14 Plus 256GB ミッドナイト - SIMフリー 5G対応\\n〇 10/17 19:32:58\\n#iPhone14 #iPhone14Plus #iPhone14Pro #iPhone14ProMax\\nhttps://t.co/vbcLQf3Qzz\", \"url\": \"https://twitter.com/KATE_LipMonster/status/1581956431342817280\"}\n",
            "{\"id\": 1581956431321870336, \"username\": \"KATE_LipMonster\", \"date\": \"2022-10-17 10:32:59+00:00\", \"text\": \"〇 Amazonで入荷中！\\n〇 Apple iPhone 14 Plus 256GB ミッドナイト - SIMフリー 5G対応\\n〇 10/17 19:32:58\\n#iPhone14 #iPhone14Plus #iPhone14Pro #iPhone14ProMax\\nhttps://t.co/DqHmBvrCek\", \"url\": \"https://twitter.com/KATE_LipMonster/status/1581956431321870336\"}\n",
            "{\"id\": 1581956400066236417, \"username\": \"brownskinmuse\", \"date\": \"2022-10-17 10:32:51+00:00\", \"text\": \"I need that purple iPhone 14 pro max 1TB by end of this month. And me knowing myself. I'll have it.\", \"url\": \"https://twitter.com/brownskinmuse/status/1581956400066236417\"}\n",
            "{\"id\": 1581956293337632768, \"username\": \"elakhbargate\", \"date\": \"2022-10-17 10:32:26+00:00\", \"text\": \"Analysts: lead times for iPhone 14 series drop below that for iPhone 13 in the same period https://t.co/QZby6ZZ9Bx\", \"url\": \"https://twitter.com/elakhbargate/status/1581956293337632768\"}\n",
            "{\"id\": 1581956289676349441, \"username\": \"MrErnesto200\", \"date\": \"2022-10-17 10:32:25+00:00\", \"text\": \"@shadowwalker321 @2xfzu3JHHSXNMRC No, because technically you've more GPU-Cores (7 Cores) and more activities are running in the background than iOS that's why it needs mor RAM. Takes newer iPhone 14 series and 13 Pro model after adding extra GPU Core and more activities to iOS 16, they upgrade RAM to 6GB\", \"url\": \"https://twitter.com/MrErnesto200/status/1581956289676349441\"}\n",
            "{\"id\": 1581956029939855361, \"username\": \"DrBEingUnique\", \"date\": \"2022-10-17 10:31:23+00:00\", \"text\": \"@stufflistings Iphone 14 series,\", \"url\": \"https://twitter.com/DrBEingUnique/status/1581956029939855361\"}\n",
            "{\"id\": 1581955999891566593, \"username\": \"MotorcycleTwitt\", \"date\": \"2022-10-17 10:31:16+00:00\", \"text\": \"The iPhone 14 Pro may have one pill-shaped notch when turned on: #artificialintelligence #iot MT @mikequindazzi https://t.co/6BY6MAvR8R https://t.co/4X67fgGwsg\", \"url\": \"https://twitter.com/MotorcycleTwitt/status/1581955999891566593\"}\n",
            "{\"id\": 1581955987308568581, \"username\": \"yangx90s\", \"date\": \"2022-10-17 10:31:13+00:00\", \"text\": \"shala mirror shot with my new iPhone 14 pro max deep purple fully paid https://t.co/waM6jt3gxR\", \"url\": \"https://twitter.com/yangx90s/status/1581955987308568581\"}\n",
            "{\"id\": 1581955728884891648, \"username\": \"UomoeleganteIt\", \"date\": \"2022-10-17 10:30:11+00:00\", \"text\": \"The 7 Best iPhone 14 Cases to Protect Your New Phone in 2022\\n\\nread on https://t.co/yqbYGiSJD9\\nhttps://t.co/XftAi6tiNA\\n#uomoelegante #gloo #miradaonline #ecosistemaonline\", \"url\": \"https://twitter.com/UomoeleganteIt/status/1581955728884891648\"}\n",
            "{\"id\": 1581955709461094400, \"username\": \"whitestone_UK\", \"date\": \"2022-10-17 10:30:07+00:00\", \"text\": \"The best Apple iPhone 14 screen protectors https://t.co/kNEsRxXGy8 @digitaltrends \\n\\nDOME EZ GLASS 3PACK ￡14.99 \\n14 https://t.co/f34WMuzAqs \\n14 Pro https://t.co/SKlSeelz6r \\n14 Plus https://t.co/QPSrDBgNOU \\n14 Pro MAX https://t.co/LYgjupMNaw \\n\\nAmazonUK https://t.co/c9FnkDxMid\", \"url\": \"https://twitter.com/whitestone_UK/status/1581955709461094400\"}\n",
            "{\"id\": 1581955683590676483, \"username\": \"CirclesLifeSG\", \"date\": \"2022-10-17 10:30:00+00:00\", \"text\": \"My new obsession is watching people’s Instagram stories glow up to 4K HD when they upgrade to the new iPhone 14 Pro 🤣\", \"url\": \"https://twitter.com/CirclesLifeSG/status/1581955683590676483\"}\n",
            "{\"id\": 1581955667979431937, \"username\": \"Hateman20\", \"date\": \"2022-10-17 10:29:57+00:00\", \"text\": \"iPhone 14: a bug indicates that the SIM card is not compatible and freezes the smartphone https://t.co/JVfdEmjO7k\", \"url\": \"https://twitter.com/Hateman20/status/1581955667979431937\"}\n",
            "{\"id\": 1581955580935426049, \"username\": \"aasimdanish1979\", \"date\": \"2022-10-17 10:29:36+00:00\", \"text\": \"It's RAINING iPhones DAILY on @postpeapp ⛈️📱📱\\n\\ni'm playing postpe super strikers, and I just won ₹11 cashback 🏏💥 \\n\\njoin me and you can win an iPhone 14 every day, along with guaranteed rewards on every transaction 💸🤑\\n\\nready to strike it? #playnow #postpesuperstrikers\", \"url\": \"https://twitter.com/aasimdanish1979/status/1581955580935426049\"}\n",
            "{\"id\": 1581955556276785153, \"username\": \"latestly\", \"date\": \"2022-10-17 10:29:30+00:00\", \"text\": \"#Apple confirms #iOS16 #SIM #bug affecting #iPhone14 users \\n\\n@Apple #ios1603 #AppleIndia #iPhone14Series \\n\\nhttps://t.co/ukncZr8SAl\", \"url\": \"https://twitter.com/latestly/status/1581955556276785153\"}\n",
            "{\"id\": 1581955536135720960, \"username\": \"kmax_kelvin\", \"date\": \"2022-10-17 10:29:25+00:00\", \"text\": \"BABE: you promised to buy me iphone 14 during s*x\\n\\nMe? https://t.co/bUjZvYE4hV\", \"url\": \"https://twitter.com/kmax_kelvin/status/1581955536135720960\"}\n",
            "{\"id\": 1581955532490911744, \"username\": \"AEConsoleAlerts\", \"date\": \"2022-10-17 10:29:24+00:00\", \"text\": \"Apple iPhone 14 Pro Deep Purple 256GB\\nOnly 1 left!\\nhttps://t.co/8GthxFgCZY\", \"url\": \"https://twitter.com/AEConsoleAlerts/status/1581955532490911744\"}\n",
            "{\"id\": 1581955527533563904, \"username\": \"trandynewz\", \"date\": \"2022-10-17 10:29:23+00:00\", \"text\": \"Google Pixel 7 Pro to iPhone 14 Pro Max: The best flagship camera phones for Diwali https://t.co/ErVCQvTcwp\", \"url\": \"https://twitter.com/trandynewz/status/1581955527533563904\"}\n",
            "{\"id\": 1581955342665015296, \"username\": \"FaktTech\", \"date\": \"2022-10-17 10:28:39+00:00\", \"text\": \"~Analysts: lead times for iPhone 14 series drop below that for iPhone 13 in the same period~\\nhttps://t.co/ePP1Yb2eKT\\n#News #Information #Business #Travel #Food #Sports #Cricket #Student #Health #Infotech #WFH #Marketing\\n\\nThe iPhone 14 series first became available six w... https://t.co/X74kmuNZDV\", \"url\": \"https://twitter.com/FaktTech/status/1581955342665015296\"}\n",
            "{\"id\": 1581955237421584384, \"username\": \"AEConsoleAlerts\", \"date\": \"2022-10-17 10:28:14+00:00\", \"text\": \"Apple iPhone 14 Pro Max (256 GB) - Gold\\nhttps://t.co/sDDvj9SAVI\", \"url\": \"https://twitter.com/AEConsoleAlerts/status/1581955237421584384\"}\n",
            "{\"id\": 1581955236926668800, \"username\": \"MeamenoSmiley\", \"date\": \"2022-10-17 10:28:14+00:00\", \"text\": \"Twitter for iPhone 14 pro max 1TB. Where do y’all get money from to spend it on one go like that ?\", \"url\": \"https://twitter.com/MeamenoSmiley/status/1581955236926668800\"}\n",
            "{\"id\": 1581955188134318082, \"username\": \"DacksCamp\", \"date\": \"2022-10-17 10:28:02+00:00\", \"text\": \"Apple AirPods Pro（第2世代） ​​​​​​​がAmazonで再入荷しました！\\n[19:28:02]\\nhttps://t.co/r1TlPnWAec\", \"url\": \"https://twitter.com/DacksCamp/status/1581955188134318082\"}\n",
            "{\"id\": 1581955182589407234, \"username\": \"HUNTDAILYNEWS1\", \"date\": \"2022-10-17 10:28:01+00:00\", \"text\": \"iPhone 14 offers on Diwali Sale, great news! Just spend Rs 9,165 and bring home the iPhone 12 Mini? Order early or else the offer will expire – aiphone 12 mini best discount and offers on flipkart diwali sale 2022pple https://t.co/sIxEgI2P1b\", \"url\": \"https://twitter.com/HUNTDAILYNEWS1/status/1581955182589407234\"}\n",
            "{\"id\": 1581955063479926784, \"username\": \"YoussefTarchou1\", \"date\": \"2022-10-17 10:27:33+00:00\", \"text\": \"Invalid SIM card on iPhone 14: Apple is aware https://t.co/xhMJOi5WZJ\", \"url\": \"https://twitter.com/YoussefTarchou1/status/1581955063479926784\"}\n",
            "{\"id\": 1581955061231779840, \"username\": \"PS5OnlyUAE\", \"date\": \"2022-10-17 10:27:32+00:00\", \"text\": \"Apple iPhone 14 Pro (256 GB) - Deep Purple\\n\\nOnly 2 left!\\n\\nhttps://t.co/ISI6DREH3t\", \"url\": \"https://twitter.com/PS5OnlyUAE/status/1581955061231779840\"}\n",
            "{\"id\": 1581955016503349248, \"username\": \"bhavik_bhavsar\", \"date\": \"2022-10-17 10:27:21+00:00\", \"text\": \"Apple confirms SIM bug affecting iPhone 14 series - The Statesman https://t.co/ojODaMBJHZ #bhavikbhavsar #tech\", \"url\": \"https://twitter.com/bhavik_bhavsar/status/1581955016503349248\"}\n",
            "{\"id\": 1581954981002768384, \"username\": \"nokiadou_jp\", \"date\": \"2022-10-17 10:27:13+00:00\", \"text\": \"【販売中】 Apple iPhone 14 Pro A2892 (1TB/6GB) / Gold  https://t.co/j3eUlGPrK9 #SIMフリー #海外スマホ\", \"url\": \"https://twitter.com/nokiadou_jp/status/1581954981002768384\"}\n",
            "{\"id\": 1581954978436251649, \"username\": \"KATE_LipMonster\", \"date\": \"2022-10-17 10:27:12+00:00\", \"text\": \"〇 Amazonで入荷中！\\n〇 Apple iPhone 14 Plus 256GB ミッドナイト - SIMフリー 5G対応\\n〇 10/17 19:27:12\\n#iPhone14 #iPhone14Plus #iPhone14Pro #iPhone14ProMax\\nhttps://t.co/eqeE6oyjwY\", \"url\": \"https://twitter.com/KATE_LipMonster/status/1581954978436251649\"}\n",
            "{\"id\": 1581954978427854848, \"username\": \"KATE_LipMonster\", \"date\": \"2022-10-17 10:27:12+00:00\", \"text\": \"〇 Amazonで入荷中！\\n〇 Apple iPhone 14 Plus 256GB ミッドナイト - SIMフリー 5G対応\\n〇 10/17 19:27:12\\n#iPhone14 #iPhone14Plus #iPhone14Pro #iPhone14ProMax\\nhttps://t.co/cPD4zaeO20\", \"url\": \"https://twitter.com/KATE_LipMonster/status/1581954978427854848\"}\n",
            "{\"id\": 1581954966024953856, \"username\": \"PS5OnlyUAE\", \"date\": \"2022-10-17 10:27:09+00:00\", \"text\": \"Apple iPhone 14 Pro Max (256 GB) - Gold\\nhttps://t.co/4h2gAbNmYZ\", \"url\": \"https://twitter.com/PS5OnlyUAE/status/1581954966024953856\"}\n",
            "{\"id\": 1581954961230819328, \"username\": \"KATE_LipMonster\", \"date\": \"2022-10-17 10:27:08+00:00\", \"text\": \"〇 Amazonで入荷中！\\n〇 Apple iPhone 14 Plus 256GB ブルー - SIMフリー 5G対応\\n〇 10/17 19:27:08\\n#iPhone14 #iPhone14Plus #iPhone14Pro #iPhone14ProMax\\nhttps://t.co/XWR0fa4qHN\", \"url\": \"https://twitter.com/KATE_LipMonster/status/1581954961230819328\"}\n",
            "{\"id\": 1581954960631033856, \"username\": \"KATE_LipMonster\", \"date\": \"2022-10-17 10:27:08+00:00\", \"text\": \"〇 Amazonで入荷中！\\n〇 Apple iPhone 14 Plus 256GB ブルー - SIMフリー 5G対応\\n〇 10/17 19:27:08\\n#iPhone14 #iPhone14Plus #iPhone14Pro #iPhone14ProMax\\nhttps://t.co/Or9c6j1qJU\", \"url\": \"https://twitter.com/KATE_LipMonster/status/1581954960631033856\"}\n",
            "{\"id\": 1581954955816017921, \"username\": \"Apple_iPhone_ss\", \"date\": \"2022-10-17 10:27:07+00:00\", \"text\": \"■ Amazonにて入荷中 🍎\\n■ Apple iPhone 14 Plus 256GB ミッドナイト - SIMフリー 5G対応\\n■ 入荷日時 10/17 19:27:07\\n#iPhone14 #iPhone14Pro #iPhone14ProMax\\nhttps://t.co/en1QYEGPgy\", \"url\": \"https://twitter.com/Apple_iPhone_ss/status/1581954955816017921\"}\n",
            "{\"id\": 1581954955803758592, \"username\": \"KATE_LipMonster\", \"date\": \"2022-10-17 10:27:07+00:00\", \"text\": \"〇 Amazonで入荷中！\\n〇 Apple iPhone 14 Plus 256GB ミッドナイト - SIMフリー 5G対応\\n〇 10/17 19:27:07\\n#iPhone14 #iPhone14Plus #iPhone14Pro #iPhone14ProMax\\nhttps://t.co/bnQFnAMccb\", \"url\": \"https://twitter.com/KATE_LipMonster/status/1581954955803758592\"}\n",
            "{\"id\": 1581954955765653504, \"username\": \"News_iPhone14\", \"date\": \"2022-10-17 10:27:07+00:00\", \"text\": \"Amazonにて入荷中！\\nApple iPhone 14 Plus 256GB ミッドナイト - SIMフリー 5G対応\\n#iPhone14 #iPhone14Plus\\n#iPhone14Pro #iPhone14ProMax\\n10/17 19:27:07 現在\\nhttps://t.co/Jo74BIqA7u\", \"url\": \"https://twitter.com/News_iPhone14/status/1581954955765653504\"}\n",
            "{\"id\": 1581954938225033222, \"username\": \"KATE_LipMonster\", \"date\": \"2022-10-17 10:27:03+00:00\", \"text\": \"〇 Amazonで入荷中！\\n〇 Apple iPhone 14 Plus 256GB ブルー - SIMフリー 5G対応\\n〇 10/17 19:27:03\\n#iPhone14 #iPhone14Plus #iPhone14Pro #iPhone14ProMax\\nhttps://t.co/rAvEtNGqcX\", \"url\": \"https://twitter.com/KATE_LipMonster/status/1581954938225033222\"}\n",
            "{\"id\": 1581954938208661506, \"username\": \"News_iPhone14\", \"date\": \"2022-10-17 10:27:03+00:00\", \"text\": \"Amazonにて入荷中！\\nApple iPhone 14 Plus 256GB ブルー - SIMフリー 5G対応\\n#iPhone14 #iPhone14Plus\\n#iPhone14Pro #iPhone14ProMax\\n10/17 19:27:03 現在\\nhttps://t.co/NooqC6FFL9\", \"url\": \"https://twitter.com/News_iPhone14/status/1581954938208661506\"}\n",
            "{\"id\": 1581954938120601600, \"username\": \"Apple_iPhone_ss\", \"date\": \"2022-10-17 10:27:03+00:00\", \"text\": \"■ Amazonにて入荷中 🍎\\n■ Apple iPhone 14 Plus 256GB ブルー - SIMフリー 5G対応\\n■ 入荷日時 10/17 19:27:02\\n#iPhone14 #iPhone14Pro #iPhone14ProMax\\nhttps://t.co/jxykIbukhH\", \"url\": \"https://twitter.com/Apple_iPhone_ss/status/1581954938120601600\"}\n",
            "{\"id\": 1581954874438098946, \"username\": \"HarinderSahajp1\", \"date\": \"2022-10-17 10:26:48+00:00\", \"text\": \"Think the iPhone 14 Pro for Rs 1.3 lakhs is too cheap? How about an iPhone 14 Pro that costs Rs 1.1 crore?\", \"url\": \"https://twitter.com/HarinderSahajp1/status/1581954874438098946\"}\n",
            "{\"id\": 1581954766539673600, \"username\": \"kolooran\", \"date\": \"2022-10-17 10:26:22+00:00\", \"text\": \"It's RAINING iPhones DAILY on @postpeapp ⛈️📱📱\\n\\ni'm playing postpe super strikers, and I just won ₹10 cashback 🏏💥 \\n\\njoin me and you can win an iPhone 14 every day, along with guaranteed rewards on every transaction 💸🤑\\n\\nready to strike it? #playnow #postpesuperstrikers\", \"url\": \"https://twitter.com/kolooran/status/1581954766539673600\"}\n",
            "{\"id\": 1581954660457668610, \"username\": \"dammixstore\", \"date\": \"2022-10-17 10:25:57+00:00\", \"text\": \"@DiamondFerreiir iPhone 14\", \"url\": \"https://twitter.com/dammixstore/status/1581954660457668610\"}\n",
            "{\"id\": 1581954548322951169, \"username\": \"KOKO_TV\", \"date\": \"2022-10-17 10:25:30+00:00\", \"text\": \"Fans Gift BBNaija Bella iPhone 14 Pro Max, Money Bouquet, Gold Chain And Other Goodies https://t.co/TVXv9GkIAK\", \"url\": \"https://twitter.com/KOKO_TV/status/1581954548322951169\"}\n",
            "{\"id\": 1581954395448565762, \"username\": \"PS5OnlyUAE\", \"date\": \"2022-10-17 10:24:53+00:00\", \"text\": \"@faiz_hameed1993 Deep purple is a mix of space black too. At lower light it looks black and in the sun or a well lit room its purple. It also depends on the angle.\", \"url\": \"https://twitter.com/PS5OnlyUAE/status/1581954395448565762\"}\n",
            "{\"id\": 1581954303727521793, \"username\": \"MegaNewsUpdates\", \"date\": \"2022-10-17 10:24:31+00:00\", \"text\": \"🚨 Google Pixel 7 Pro to iPhone 14 Pro Max: The best flagship camera phones for Diwali\", \"url\": \"https://twitter.com/MegaNewsUpdates/status/1581954303727521793\"}\n",
            "{\"id\": 1581954283250909184, \"username\": \"KATE_LipMonster\", \"date\": \"2022-10-17 10:24:27+00:00\", \"text\": \"〇 Amazonで入荷中！\\n〇 Apple iPhone 14 Plus 256GB ブルー - SIMフリー 5G対応\\n〇 10/17 19:24:26\\n#iPhone14 #iPhone14Plus #iPhone14Pro #iPhone14ProMax\\nhttps://t.co/BVFSun4sFM\", \"url\": \"https://twitter.com/KATE_LipMonster/status/1581954283250909184\"}\n",
            "{\"id\": 1581954282646970368, \"username\": \"KATE_LipMonster\", \"date\": \"2022-10-17 10:24:26+00:00\", \"text\": \"〇 Amazonで入荷中！\\n〇 Apple iPhone 14 Plus 256GB ブルー - SIMフリー 5G対応\\n〇 10/17 19:24:26\\n#iPhone14 #iPhone14Plus #iPhone14Pro #iPhone14ProMax\\nhttps://t.co/v47cEQ6JaF\", \"url\": \"https://twitter.com/KATE_LipMonster/status/1581954282646970368\"}\n",
            "{\"id\": 1581954282588295168, \"username\": \"KATE_LipMonster\", \"date\": \"2022-10-17 10:24:26+00:00\", \"text\": \"〇 Amazonで入荷中！\\n〇 Apple iPhone 14 Plus 256GB ブルー - SIMフリー 5G対応\\n〇 10/17 19:24:26\\n#iPhone14 #iPhone14Plus #iPhone14Pro #iPhone14ProMax\\nhttps://t.co/drEQWfnK21\", \"url\": \"https://twitter.com/KATE_LipMonster/status/1581954282588295168\"}\n",
            "{\"id\": 1581954282525720576, \"username\": \"KATE_LipMonster\", \"date\": \"2022-10-17 10:24:26+00:00\", \"text\": \"〇 Amazonで入荷中！\\n〇 Apple iPhone 14 Plus 256GB ブルー - SIMフリー 5G対応\\n〇 10/17 19:24:26\\n#iPhone14 #iPhone14Plus #iPhone14Pro #iPhone14ProMax\\nhttps://t.co/kQkAwDpkNF\", \"url\": \"https://twitter.com/KATE_LipMonster/status/1581954282525720576\"}\n",
            "{\"id\": 1581954260203233281, \"username\": \"Apple_iPhone_ss\", \"date\": \"2022-10-17 10:24:21+00:00\", \"text\": \"■ Amazonにて入荷中 🍎\\n■ Apple iPhone 14 Plus 256GB ブルー - SIMフリー 5G対応\\n■ 入荷日時 10/17 19:24:21\\n#iPhone14 #iPhone14Pro #iPhone14ProMax\\nhttps://t.co/qaHuYOMCVY\", \"url\": \"https://twitter.com/Apple_iPhone_ss/status/1581954260203233281\"}\n",
            "{\"id\": 1581954260186853377, \"username\": \"News_iPhone14\", \"date\": \"2022-10-17 10:24:21+00:00\", \"text\": \"Amazonにて入荷中！\\nApple iPhone 14 Plus 256GB ブルー - SIMフリー 5G対応\\n#iPhone14 #iPhone14Plus\\n#iPhone14Pro #iPhone14ProMax\\n10/17 19:24:21 現在\\nhttps://t.co/AH708q4B8c\", \"url\": \"https://twitter.com/News_iPhone14/status/1581954260186853377\"}\n",
            "{\"id\": 1581954260152963072, \"username\": \"KATE_LipMonster\", \"date\": \"2022-10-17 10:24:21+00:00\", \"text\": \"〇 Amazonで入荷中！\\n〇 Apple iPhone 14 Plus 256GB ブルー - SIMフリー 5G対応\\n〇 10/17 19:24:21\\n#iPhone14 #iPhone14Plus #iPhone14Pro #iPhone14ProMax\\nhttps://t.co/OwLvwqcuCK\", \"url\": \"https://twitter.com/KATE_LipMonster/status/1581954260152963072\"}\n",
            "{\"id\": 1581954260144906240, \"username\": \"KATE_LipMonster\", \"date\": \"2022-10-17 10:24:21+00:00\", \"text\": \"〇 Amazonで入荷中！\\n〇 Apple iPhone 14 Plus 256GB ブルー - SIMフリー 5G対応\\n〇 10/17 19:24:21\\n#iPhone14 #iPhone14Plus #iPhone14Pro #iPhone14ProMax\\nhttps://t.co/xYidqU4Xf6\", \"url\": \"https://twitter.com/KATE_LipMonster/status/1581954260144906240\"}\n",
            "{\"id\": 1581954260136120320, \"username\": \"News_iPhone14\", \"date\": \"2022-10-17 10:24:21+00:00\", \"text\": \"Amazonにて入荷中！\\nApple iPhone 14 Plus 256GB ブルー - SIMフリー 5G対応\\n#iPhone14 #iPhone14Plus\\n#iPhone14Pro #iPhone14ProMax\\n10/17 19:24:21 現在\\nhttps://t.co/L0J2duGUQD\", \"url\": \"https://twitter.com/News_iPhone14/status/1581954260136120320\"}\n",
            "{\"id\": 1581954260027473921, \"username\": \"Apple_iPhone_ss\", \"date\": \"2022-10-17 10:24:21+00:00\", \"text\": \"■ Amazonにて入荷中 🍎\\n■ Apple iPhone 14 Plus 256GB ブルー - SIMフリー 5G対応\\n■ 入荷日時 10/17 19:24:21\\n#iPhone14 #iPhone14Pro #iPhone14ProMax\\nhttps://t.co/5XNYtoh0Oz\", \"url\": \"https://twitter.com/Apple_iPhone_ss/status/1581954260027473921\"}\n",
            "{\"id\": 1581954115537883136, \"username\": \"pigmaher\", \"date\": \"2022-10-17 10:23:47+00:00\", \"text\": \"@KayBurley They should just get an iPhone 14.\", \"url\": \"https://twitter.com/pigmaher/status/1581954115537883136\"}\n",
            "{\"id\": 1581954069283110913, \"username\": \"KATE_LipMonster\", \"date\": \"2022-10-17 10:23:36+00:00\", \"text\": \"〇 Amazonで入荷中！\\n〇 Apple iPhone 14 Plus 256GB ミッドナイト - SIMフリー 5G対応\\n〇 10/17 19:23:35\\n#iPhone14 #iPhone14Plus #iPhone14Pro #iPhone14ProMax\\nhttps://t.co/MuZLzaJx7j\", \"url\": \"https://twitter.com/KATE_LipMonster/status/1581954069283110913\"}\n",
            "{\"id\": 1581954069266325505, \"username\": \"KATE_LipMonster\", \"date\": \"2022-10-17 10:23:36+00:00\", \"text\": \"〇 Amazonで入荷中！\\n〇 Apple iPhone 14 Plus 256GB ミッドナイト - SIMフリー 5G対応\\n〇 10/17 19:23:35\\n#iPhone14 #iPhone14Plus #iPhone14Pro #iPhone14ProMax\\nhttps://t.co/xoLJ6XdLhK\", \"url\": \"https://twitter.com/KATE_LipMonster/status/1581954069266325505\"}\n",
            "{\"id\": 1581954046830657536, \"username\": \"News_iPhone14\", \"date\": \"2022-10-17 10:23:30+00:00\", \"text\": \"Amazonにて入荷中！\\nApple iPhone 14 Plus 256GB ミッドナイト - SIMフリー 5G対応\\n#iPhone14 #iPhone14Plus\\n#iPhone14Pro #iPhone14ProMax\\n10/17 19:23:30 現在\\nhttps://t.co/BRYAWf0Jtd\", \"url\": \"https://twitter.com/News_iPhone14/status/1581954046830657536\"}\n",
            "{\"id\": 1581954046826405888, \"username\": \"KATE_LipMonster\", \"date\": \"2022-10-17 10:23:30+00:00\", \"text\": \"〇 Amazonで入荷中！\\n〇 Apple iPhone 14 Plus 256GB ミッドナイト - SIMフリー 5G対応\\n〇 10/17 19:23:30\\n#iPhone14 #iPhone14Plus #iPhone14Pro #iPhone14ProMax\\nhttps://t.co/b9dUIUWJ1e\", \"url\": \"https://twitter.com/KATE_LipMonster/status/1581954046826405888\"}\n",
            "{\"id\": 1581954046801297410, \"username\": \"Apple_iPhone_ss\", \"date\": \"2022-10-17 10:23:30+00:00\", \"text\": \"■ Amazonにて入荷中 🍎\\n■ Apple iPhone 14 Plus 256GB ミッドナイト - SIMフリー 5G対応\\n■ 入荷日時 10/17 19:23:30\\n#iPhone14 #iPhone14Pro #iPhone14ProMax\\nhttps://t.co/elD8MweI1e\", \"url\": \"https://twitter.com/Apple_iPhone_ss/status/1581954046801297410\"}\n",
            "{\"id\": 1581953996314771456, \"username\": \"fred_floss\", \"date\": \"2022-10-17 10:23:18+00:00\", \"text\": \"Imagine being born only cos your mum needed an iPhone 14 💀..\", \"url\": \"https://twitter.com/fred_floss/status/1581953996314771456\"}\n",
            "{\"id\": 1581953977008414721, \"username\": \"AEConsoleAlerts\", \"date\": \"2022-10-17 10:23:14+00:00\", \"text\": \"Apple iPhone 14 Pro Max (256 GB) - Gold is in Stock!\\nhttps://t.co/LR1F54YebM\\n\\nAlso available 512GB Space Black:\\nhttps://t.co/ApPWNXO111\", \"url\": \"https://twitter.com/AEConsoleAlerts/status/1581953977008414721\"}\n",
            "{\"id\": 1581953840676757505, \"username\": \"Kolanoni22\", \"date\": \"2022-10-17 10:22:41+00:00\", \"text\": \"@JFCathe @BoomQueen_ iPhone 14\", \"url\": \"https://twitter.com/Kolanoni22/status/1581953840676757505\"}\n",
            "{\"id\": 1581953814428807169, \"username\": \"jt120651\", \"date\": \"2022-10-17 10:22:35+00:00\", \"text\": \"Analysts: lead times for iPhone 14 series drop below that for iPhone 13 in the same period https://t.co/PHBeEyZIkV\", \"url\": \"https://twitter.com/jt120651/status/1581953814428807169\"}\n",
            "{\"id\": 1581953750003957760, \"username\": \"UniverSmartphon\", \"date\": \"2022-10-17 10:22:19+00:00\", \"text\": \"Analysts: lead times for iPhone 14 series drop below that for iPhone 13 in the same period https://t.co/1JTrYIAfJP\", \"url\": \"https://twitter.com/UniverSmartphon/status/1581953750003957760\"}\n",
            "{\"id\": 1581953616323047424, \"username\": \"UniverSmartphon\", \"date\": \"2022-10-17 10:21:48+00:00\", \"text\": \"iPhone 14: How to Enable 4K Cinematic Resolution https://t.co/Wfr18eJ3wD\", \"url\": \"https://twitter.com/UniverSmartphon/status/1581953616323047424\"}\n",
            "{\"id\": 1581953593661591552, \"username\": \"PS5OnlyUAE\", \"date\": \"2022-10-17 10:21:42+00:00\", \"text\": \"Apple iPhone 14 Pro Max (256 GB) - Gold is now in stock!\\n\\nhttps://t.co/4h2gAc5wd7\", \"url\": \"https://twitter.com/PS5OnlyUAE/status/1581953593661591552\"}\n",
            "{\"id\": 1581953564007870465, \"username\": \"KATE_LipMonster\", \"date\": \"2022-10-17 10:21:35+00:00\", \"text\": \"〇 Amazonで入荷中！\\n〇 Apple iPhone 14 Plus 256GB ミッドナイト - SIMフリー 5G対応\\n〇 10/17 19:21:35\\n#iPhone14 #iPhone14Plus #iPhone14Pro #iPhone14ProMax\\nhttps://t.co/UHT6hhrl9j\", \"url\": \"https://twitter.com/KATE_LipMonster/status/1581953564007870465\"}\n",
            "{\"id\": 1581953563969757184, \"username\": \"KATE_LipMonster\", \"date\": \"2022-10-17 10:21:35+00:00\", \"text\": \"〇 Amazonで入荷中！\\n〇 Apple iPhone 14 Plus 256GB ミッドナイト - SIMフリー 5G対応\\n〇 10/17 19:21:35\\n#iPhone14 #iPhone14Plus #iPhone14Pro #iPhone14ProMax\\nhttps://t.co/T0er5v2K8h\", \"url\": \"https://twitter.com/KATE_LipMonster/status/1581953563969757184\"}\n",
            "{\"id\": 1581953560119365632, \"username\": \"KATE_LipMonster\", \"date\": \"2022-10-17 10:21:34+00:00\", \"text\": \"〇 Amazonで入荷中！\\n〇 Apple iPhone 14 Plus 256GB ミッドナイト - SIMフリー 5G対応\\n〇 10/17 19:21:34\\n#iPhone14 #iPhone14Plus #iPhone14Pro #iPhone14ProMax\\nhttps://t.co/ToA7huF4ZO\", \"url\": \"https://twitter.com/KATE_LipMonster/status/1581953560119365632\"}\n",
            "{\"id\": 1581953542050308096, \"username\": \"KATE_LipMonster\", \"date\": \"2022-10-17 10:21:30+00:00\", \"text\": \"〇 Amazonで入荷中！\\n〇 Apple iPhone 14 Plus 256GB ミッドナイト - SIMフリー 5G対応\\n〇 10/17 19:21:30\\n#iPhone14 #iPhone14Plus #iPhone14Pro #iPhone14ProMax\\nhttps://t.co/fEh5xLMBG6\", \"url\": \"https://twitter.com/KATE_LipMonster/status/1581953542050308096\"}\n",
            "{\"id\": 1581953541916094464, \"username\": \"KATE_LipMonster\", \"date\": \"2022-10-17 10:21:30+00:00\", \"text\": \"〇 Amazonで入荷中！\\n〇 Apple iPhone 14 Plus 256GB ミッドナイト - SIMフリー 5G対応\\n〇 10/17 19:21:30\\n#iPhone14 #iPhone14Plus #iPhone14Pro #iPhone14ProMax\\nhttps://t.co/TmFAjC6AH8\", \"url\": \"https://twitter.com/KATE_LipMonster/status/1581953541916094464\"}\n",
            "{\"id\": 1581953541739986944, \"username\": \"KATE_LipMonster\", \"date\": \"2022-10-17 10:21:30+00:00\", \"text\": \"〇 Amazonで入荷中！\\n〇 Apple iPhone 14 Plus 256GB ミッドナイト - SIMフリー 5G対応\\n〇 10/17 19:21:30\\n#iPhone14 #iPhone14Plus #iPhone14Pro #iPhone14ProMax\\nhttps://t.co/V0nPzlteEP\", \"url\": \"https://twitter.com/KATE_LipMonster/status/1581953541739986944\"}\n",
            "{\"id\": 1581953541631279104, \"username\": \"Apple_iPhone_ss\", \"date\": \"2022-10-17 10:21:30+00:00\", \"text\": \"■ Amazonにて入荷中 🍎\\n■ Apple iPhone 14 Plus 256GB ミッドナイト - SIMフリー 5G対応\\n■ 入荷日時 10/17 19:21:30\\n#iPhone14 #iPhone14Pro #iPhone14ProMax\\nhttps://t.co/9fGIkXEhvg\", \"url\": \"https://twitter.com/Apple_iPhone_ss/status/1581953541631279104\"}\n",
            "{\"id\": 1581953541601492992, \"username\": \"News_iPhone14\", \"date\": \"2022-10-17 10:21:30+00:00\", \"text\": \"Amazonにて入荷中！\\nApple iPhone 14 Plus 256GB ミッドナイト - SIMフリー 5G対応\\n#iPhone14 #iPhone14Plus\\n#iPhone14Pro #iPhone14ProMax\\n10/17 19:21:30 現在\\nhttps://t.co/U9IMCW8C3S\", \"url\": \"https://twitter.com/News_iPhone14/status/1581953541601492992\"}\n",
            "{\"id\": 1581953537977634816, \"username\": \"KATE_LipMonster\", \"date\": \"2022-10-17 10:21:29+00:00\", \"text\": \"〇 Amazonで入荷中！\\n〇 Apple iPhone 14 Plus 256GB ブルー - SIMフリー 5G対応\\n〇 10/17 19:21:29\\n#iPhone14 #iPhone14Plus #iPhone14Pro #iPhone14ProMax\\nhttps://t.co/I46fIPkwLA\", \"url\": \"https://twitter.com/KATE_LipMonster/status/1581953537977634816\"}\n",
            "{\"id\": 1581953537873178624, \"username\": \"KATE_LipMonster\", \"date\": \"2022-10-17 10:21:29+00:00\", \"text\": \"〇 Amazonで入荷中！\\n〇 Apple iPhone 14 Plus 256GB ブルー - SIMフリー 5G対応\\n〇 10/17 19:21:29\\n#iPhone14 #iPhone14Plus #iPhone14Pro #iPhone14ProMax\\nhttps://t.co/saQIImTWtf\", \"url\": \"https://twitter.com/KATE_LipMonster/status/1581953537873178624\"}\n",
            "{\"id\": 1581953519296294915, \"username\": \"News_iPhone14\", \"date\": \"2022-10-17 10:21:24+00:00\", \"text\": \"Amazonにて入荷中！\\nApple iPhone 14 Plus 256GB ミッドナイト - SIMフリー 5G対応\\n#iPhone14 #iPhone14Plus\\n#iPhone14Pro #iPhone14ProMax\\n10/17 19:21:24 現在\\nhttps://t.co/aD9DRIxi05\", \"url\": \"https://twitter.com/News_iPhone14/status/1581953519296294915\"}\n",
            "{\"id\": 1581953519229145088, \"username\": \"Apple_iPhone_ss\", \"date\": \"2022-10-17 10:21:24+00:00\", \"text\": \"■ Amazonにて入荷中 🍎\\n■ Apple iPhone 14 Plus 256GB ミッドナイト - SIMフリー 5G対応\\n■ 入荷日時 10/17 19:21:24\\n#iPhone14 #iPhone14Pro #iPhone14ProMax\\nhttps://t.co/SejqVlIW8B\", \"url\": \"https://twitter.com/Apple_iPhone_ss/status/1581953519229145088\"}\n",
            "{\"id\": 1581953519224967169, \"username\": \"KATE_LipMonster\", \"date\": \"2022-10-17 10:21:24+00:00\", \"text\": \"〇 Amazonで入荷中！\\n〇 Apple iPhone 14 Plus 256GB ミッドナイト - SIMフリー 5G対応\\n〇 10/17 19:21:24\\n#iPhone14 #iPhone14Plus #iPhone14Pro #iPhone14ProMax\\nhttps://t.co/W3Kj85ZAPf\", \"url\": \"https://twitter.com/KATE_LipMonster/status/1581953519224967169\"}\n",
            "{\"id\": 1581953515550740480, \"username\": \"Apple_iPhone_ss\", \"date\": \"2022-10-17 10:21:24+00:00\", \"text\": \"■ Amazonにて入荷中 🍎\\n■ Apple iPhone 14 Plus 256GB ブルー - SIMフリー 5G対応\\n■ 入荷日時 10/17 19:21:23\\n#iPhone14 #iPhone14Pro #iPhone14ProMax\\nhttps://t.co/3UcxkSlzwu\", \"url\": \"https://twitter.com/Apple_iPhone_ss/status/1581953515550740480\"}\n",
            "{\"id\": 1581953515530113025, \"username\": \"News_iPhone14\", \"date\": \"2022-10-17 10:21:24+00:00\", \"text\": \"Amazonにて入荷中！\\nApple iPhone 14 Plus 256GB ブルー - SIMフリー 5G対応\\n#iPhone14 #iPhone14Plus\\n#iPhone14Pro #iPhone14ProMax\\n10/17 19:21:23 現在\\nhttps://t.co/gJYbqrA0yl\", \"url\": \"https://twitter.com/News_iPhone14/status/1581953515530113025\"}\n",
            "{\"id\": 1581953515450081280, \"username\": \"KATE_LipMonster\", \"date\": \"2022-10-17 10:21:24+00:00\", \"text\": \"〇 Amazonで入荷中！\\n〇 Apple iPhone 14 Plus 256GB ブルー - SIMフリー 5G対応\\n〇 10/17 19:21:23\\n#iPhone14 #iPhone14Plus #iPhone14Pro #iPhone14ProMax\\nhttps://t.co/VFXUDMk8VF\", \"url\": \"https://twitter.com/KATE_LipMonster/status/1581953515450081280\"}\n",
            "{\"id\": 1581953510609850370, \"username\": \"KATE_LipMonster\", \"date\": \"2022-10-17 10:21:22+00:00\", \"text\": \"〇 Amazonで入荷中！\\n〇 Apple iPhone 14 Plus 256GB ブルー - SIMフリー 5G対応\\n〇 10/17 19:21:22\\n#iPhone14 #iPhone14Plus #iPhone14Pro #iPhone14ProMax\\nhttps://t.co/1GYNAmF0sg\", \"url\": \"https://twitter.com/KATE_LipMonster/status/1581953510609850370\"}\n",
            "{\"id\": 1581953510551130112, \"username\": \"KATE_LipMonster\", \"date\": \"2022-10-17 10:21:22+00:00\", \"text\": \"〇 Amazonで入荷中！\\n〇 Apple iPhone 14 Plus 256GB ブルー - SIMフリー 5G対応\\n〇 10/17 19:21:22\\n#iPhone14 #iPhone14Plus #iPhone14Pro #iPhone14ProMax\\nhttps://t.co/ZK4TDSgRpx\", \"url\": \"https://twitter.com/KATE_LipMonster/status/1581953510551130112\"}\n",
            "{\"id\": 1581953488304902144, \"username\": \"News_iPhone14\", \"date\": \"2022-10-17 10:21:17+00:00\", \"text\": \"Amazonにて入荷中！\\nApple iPhone 14 Plus 256GB ブルー - SIMフリー 5G対応\\n#iPhone14 #iPhone14Plus\\n#iPhone14Pro #iPhone14ProMax\\n10/17 19:21:17 現在\\nhttps://t.co/OJuBZYE7Yg\", \"url\": \"https://twitter.com/News_iPhone14/status/1581953488304902144\"}\n",
            "{\"id\": 1581953488166481921, \"username\": \"Apple_iPhone_ss\", \"date\": \"2022-10-17 10:21:17+00:00\", \"text\": \"■ Amazonにて入荷中 🍎\\n■ Apple iPhone 14 Plus 256GB ブルー - SIMフリー 5G対応\\n■ 入荷日時 10/17 19:21:17\\n#iPhone14 #iPhone14Pro #iPhone14ProMax\\nhttps://t.co/ChnPzAyOjW\", \"url\": \"https://twitter.com/Apple_iPhone_ss/status/1581953488166481921\"}\n",
            "{\"id\": 1581953488166457344, \"username\": \"KATE_LipMonster\", \"date\": \"2022-10-17 10:21:17+00:00\", \"text\": \"〇 Amazonで入荷中！\\n〇 Apple iPhone 14 Plus 256GB ブルー - SIMフリー 5G対応\\n〇 10/17 19:21:17\\n#iPhone14 #iPhone14Plus #iPhone14Pro #iPhone14ProMax\\nhttps://t.co/mK1oIF4GFS\", \"url\": \"https://twitter.com/KATE_LipMonster/status/1581953488166457344\"}\n",
            "{\"id\": 1581953418569994241, \"username\": \"Whitestone_DE\", \"date\": \"2022-10-17 10:21:00+00:00\", \"text\": \"These are the best Apple iPhone 14 screen protectors https://t.co/cKWLzlSJ2x @xdadevelopers \\n\\nWorld’s First Glass screen protector is the Best.\\n\\nWhitestone Dome EZ Glass 3PACK - iPhone 14 Pro Max https://t.co/KzYHiRtLfZ #Amazon\\n\\nAmazonDE https://t.co/egtZENxXwB\", \"url\": \"https://twitter.com/Whitestone_DE/status/1581953418569994241\"}\n",
            "{\"id\": 1581953398433525760, \"username\": \"AEConsoleAlerts\", \"date\": \"2022-10-17 10:20:56+00:00\", \"text\": \"https://t.co/PHHT4trDHX\\nApple iPhone 14 Pro Max (256 GB) - Gold is in Stock!\", \"url\": \"https://twitter.com/AEConsoleAlerts/status/1581953398433525760\"}\n",
            "{\"id\": 1581953261052960768, \"username\": \"PS5OnlyUAE\", \"date\": \"2022-10-17 10:20:23+00:00\", \"text\": \"Apple iPhone 14 Pro Max (512 GB) - Space Black\\n\\nhttps://t.co/BqzdCiAXK9\\n\\nDelivers Wednesday!\", \"url\": \"https://twitter.com/PS5OnlyUAE/status/1581953261052960768\"}\n",
            "{\"id\": 1581953191771779072, \"username\": \"alokforever143\", \"date\": \"2022-10-17 10:20:06+00:00\", \"text\": \"@TheTechChap iPhone 14 Pro\", \"url\": \"https://twitter.com/alokforever143/status/1581953191771779072\"}\n",
            "{\"id\": 1581953179788357634, \"username\": \"MattReinhartOFC\", \"date\": \"2022-10-17 10:20:03+00:00\", \"text\": \"@deIenart Hi Let! Just got the new iPhone 14 Pro Max and I’m very happy!!!\", \"url\": \"https://twitter.com/MattReinhartOFC/status/1581953179788357634\"}\n",
            "{\"id\": 1581953031373217793, \"username\": \"791xB\", \"date\": \"2022-10-17 10:19:28+00:00\", \"text\": \"@m3_fpx iPhone 14 Pro\", \"url\": \"https://twitter.com/791xB/status/1581953031373217793\"}\n",
            "{\"id\": 1581953018572214272, \"username\": \"AEConsoleAlerts\", \"date\": \"2022-10-17 10:19:25+00:00\", \"text\": \"Apple iPhone 14 Pro Max (512 GB) - Space Black is in Stock !\\n19th October Delivery!\\nhttps://t.co/SOMXgPiNRz\", \"url\": \"https://twitter.com/AEConsoleAlerts/status/1581953018572214272\"}\n",
            "{\"id\": 1581952926469083138, \"username\": \"Titledman001\", \"date\": \"2022-10-17 10:19:03+00:00\", \"text\": \"Imagine spiritual husbands Dey pay bills,buy hair or IPhone14 pro max ,girls for no dy gree make dem deliver dem 😂🤣\", \"url\": \"https://twitter.com/Titledman001/status/1581952926469083138\"}\n",
            "{\"id\": 1581952742901571584, \"username\": \"Khan279Imran\", \"date\": \"2022-10-17 10:18:19+00:00\", \"text\": \"iPhone 14 offers on Diwali Sale, great news! Just spend Rs 9,165 and bring home the iPhone 12 Mini? Order early or else the offer will expire – aiphone 12 mini best discount and offers on flipkart diwali sale 2022pple https://t.co/ygSJCgB9TJ\", \"url\": \"https://twitter.com/Khan279Imran/status/1581952742901571584\"}\n",
            "{\"id\": 1581952616950468608, \"username\": \"Baerjew\", \"date\": \"2022-10-17 10:17:49+00:00\", \"text\": \"@SDevilslittle Iphone 14 &amp; SUV. Wenn diese hirntoten Deppen wenigstens mal nen bisschen Phantasie hätten. Dann wäre es zur Abwechslung wenigstens mal nen Sportcabrio und ne Rolex..😂\", \"url\": \"https://twitter.com/Baerjew/status/1581952616950468608\"}\n",
            "{\"id\": 1581952535660662785, \"username\": \"sciencefirstok\", \"date\": \"2022-10-17 10:17:30+00:00\", \"text\": \"@ScepticalAussie @ryanfisher122 @Apple There are people literally avoiding getting an iPhone 14 and waiting for a model that uses USB-C (or getting distracted by another brand in the meantime). Just plain bad for business at this point to use a proprietary connector, which makes it hard to comprehend from any angle.\", \"url\": \"https://twitter.com/sciencefirstok/status/1581952535660662785\"}\n",
            "{\"id\": 1581952465582583808, \"username\": \"BenitaEruotor\", \"date\": \"2022-10-17 10:17:13+00:00\", \"text\": \"@snowrichie23 No buy iphone 14\", \"url\": \"https://twitter.com/BenitaEruotor/status/1581952465582583808\"}\n",
            "{\"id\": 1581952346514284546, \"username\": \"aml_t922\", \"date\": \"2022-10-17 10:16:45+00:00\", \"text\": \"@eva_lequeen Miss hindi po iPhone 14 yan\", \"url\": \"https://twitter.com/aml_t922/status/1581952346514284546\"}\n",
            "{\"id\": 1581952330454691840, \"username\": \"trending_inno\", \"date\": \"2022-10-17 10:16:41+00:00\", \"text\": \"Analysts: lead times for iPhone 14 series drop below that for iPhone 13 in the same period https://t.co/esHQ8IHDVP\", \"url\": \"https://twitter.com/trending_inno/status/1581952330454691840\"}\n",
            "{\"id\": 1581952322481008641, \"username\": \"wajdimahouechi\", \"date\": \"2022-10-17 10:16:39+00:00\", \"text\": \"@imen_guerbaa We have it already hh\\nWorldwide, they kill each others for an iPhone 14 then they get back to the queue,  here they will do it in the gas station hhhh\", \"url\": \"https://twitter.com/wajdimahouechi/status/1581952322481008641\"}\n",
            "{\"id\": 1581952316961280000, \"username\": \"flatfoot78\", \"date\": \"2022-10-17 10:16:38+00:00\", \"text\": \"Der honigtopf der Linken moralblase „Letztens in der Kölner Straßenbahn drei junge gutbetuchte Ukrainerinnen gesehen die mit ihren iPhone 14 pro Max herum hantiert haben und hin und wieder sehe ich auch den ein oder anderen SUV aus der Ukraine. Denkt euch euren Teil …. „🤡🤡\", \"url\": \"https://twitter.com/flatfoot78/status/1581952316961280000\"}\n",
            "{\"id\": 1581952296966975490, \"username\": \"JamieHa68718095\", \"date\": \"2022-10-17 10:16:33+00:00\", \"text\": \"Bonus up to 15,800 PHP and iPhone 14 Plus📱 giveaway with first time deposit 🔥\\n\\n🔥Download link: https://t.co/QfgT9AtObY\\n🔥TG:@hhtrre1288\\n🔥whatsapp:1323-685-3617\\n#slotmachine #slotlive #slotonline #slotgame #VegasSlots #slotmanila #freebonus #iphone14plus #Greatgaming https://t.co/XEUR0XvZRC\", \"url\": \"https://twitter.com/JamieHa68718095/status/1581952296966975490\"}\n",
            "{\"id\": 1581952244307877888, \"username\": \"zLostLegion\", \"date\": \"2022-10-17 10:16:20+00:00\", \"text\": \"Analysts: lead times for iPhone 14 series drop below that for iPhone 13 in the same period https://t.co/nhjTxhQMWK https://t.co/XaPNolwgq0\", \"url\": \"https://twitter.com/zLostLegion/status/1581952244307877888\"}\n",
            "{\"id\": 1581952178901905413, \"username\": \"PS5OnlyUAE\", \"date\": \"2022-10-17 10:16:05+00:00\", \"text\": \"https://t.co/DDhmOvaPjV\\n\\nApple iPhone 14 Pro Max (1 TB) - Space Black\", \"url\": \"https://twitter.com/PS5OnlyUAE/status/1581952178901905413\"}\n",
            "{\"id\": 1581952165957902337, \"username\": \"JagranEnglish\", \"date\": \"2022-10-17 10:16:02+00:00\", \"text\": \"#Apple confirms that #iPhone14 is getting affected by SIM bugs.\\n\\nhttps://t.co/YaL0qHC5iC\", \"url\": \"https://twitter.com/JagranEnglish/status/1581952165957902337\"}\n",
            "{\"id\": 1581952165005824000, \"username\": \"AEConsoleAlerts\", \"date\": \"2022-10-17 10:16:02+00:00\", \"text\": \"Apple iPhone 14 Pro Max (1 TB) - Space Black !\\nonly one left in stock!\\nhttps://t.co/ah41gedjOF\", \"url\": \"https://twitter.com/AEConsoleAlerts/status/1581952165005824000\"}\n",
            "{\"id\": 1581952118331969536, \"username\": \"iamrahulmauryaa\", \"date\": \"2022-10-17 10:15:50+00:00\", \"text\": \"@Apple why my iphone 14 screen yellowish?\", \"url\": \"https://twitter.com/iamrahulmauryaa/status/1581952118331969536\"}\n",
            "{\"id\": 1581952003302862848, \"username\": \"AEConsoleAlerts\", \"date\": \"2022-10-17 10:15:23+00:00\", \"text\": \"Only 1 left in stock!\\nhttps://t.co/ah41gedjOF\", \"url\": \"https://twitter.com/AEConsoleAlerts/status/1581952003302862848\"}\n",
            "{\"id\": 1581951961091690497, \"username\": \"thedextazlab\", \"date\": \"2022-10-17 10:15:13+00:00\", \"text\": \"Analysts: lead times for iPhone 14 series drop below that for iPhone 13 in the same period https://t.co/4Bx85r2fZT\", \"url\": \"https://twitter.com/thedextazlab/status/1581951961091690497\"}\n",
            "{\"id\": 1581951936936366080, \"username\": \"FiOwub\", \"date\": \"2022-10-17 10:15:07+00:00\", \"text\": \"dont wait The plan is this. I take NFT, resell it, buy an iPhone 14. Profit! dude  @last_goddessL @MIKEMBT56 @ImranHasanUdoy1 @0xdeobigwin @0xowdelles @Jane_loveyamwin @berburubigwin @sdh066 @khloejustwon @Diana040510 @WLspots_ https://t.co/48bP9MPmhc\", \"url\": \"https://twitter.com/FiOwub/status/1581951936936366080\"}\n",
            "{\"id\": 1581951868426932225, \"username\": \"SandraK12094570\", \"date\": \"2022-10-17 10:14:51+00:00\", \"text\": \"Bonus up to 15,800 PHP and iPhone 14 Plus📱 giveaway with first time deposit 🔥\\n\\n🔥Download link: https://t.co/RnDfKAseC9\\n🔥TG:@hhtrre1288\\n🔥whatsapp:1323-685-3617\\n#slotmachine #slotlive #slotonline #slotgame #VegasSlots #slotmanila #freebonus #iphone14plus #Greatgaming https://t.co/hQNcUcxqgD\", \"url\": \"https://twitter.com/SandraK12094570/status/1581951868426932225\"}\n",
            "{\"id\": 1581951794682658821, \"username\": \"AbbasM\", \"date\": \"2022-10-17 10:14:33+00:00\", \"text\": \"Apple confirms iOS 16's SIM bug affecting iPhone 14 series: Reports https://t.co/UlKN1GEvxG\", \"url\": \"https://twitter.com/AbbasM/status/1581951794682658821\"}\n",
            "{\"id\": 1581951793613111296, \"username\": \"gsmarena_com\", \"date\": \"2022-10-17 10:14:33+00:00\", \"text\": \"Analysts: lead times for iPhone 14 series drop below that for iPhone 13 in the same period https://t.co/lD4n22sj2a https://t.co/QU3Sf1hcLd\", \"url\": \"https://twitter.com/gsmarena_com/status/1581951793613111296\"}\n"
          ]
        }
      ]
    },
    {
      "cell_type": "code",
      "source": [
        ">>> import nltk\n",
        ">>> nltk.download(\"stopwords\")"
      ],
      "metadata": {
        "colab": {
          "base_uri": "https://localhost:8080/"
        },
        "id": "Wy476ZEW03EF",
        "outputId": "6b2572ba-41a5-460c-ded7-26f525161860"
      },
      "execution_count": 7,
      "outputs": [
        {
          "output_type": "stream",
          "name": "stderr",
          "text": [
            "[nltk_data] Downloading package stopwords to /root/nltk_data...\n",
            "[nltk_data]   Unzipping corpora/stopwords.zip.\n"
          ]
        },
        {
          "output_type": "execute_result",
          "data": {
            "text/plain": [
              "True"
            ]
          },
          "metadata": {},
          "execution_count": 7
        }
      ]
    },
    {
      "cell_type": "code",
      "source": [
        "!pip install Sastrawi"
      ],
      "metadata": {
        "colab": {
          "base_uri": "https://localhost:8080/"
        },
        "id": "SLdJod1q2KRP",
        "outputId": "3985d679-ba7a-409e-e807-bc5419e2e610"
      },
      "execution_count": 8,
      "outputs": [
        {
          "output_type": "stream",
          "name": "stdout",
          "text": [
            "Looking in indexes: https://pypi.org/simple, https://us-python.pkg.dev/colab-wheels/public/simple/\n",
            "Collecting Sastrawi\n",
            "  Downloading Sastrawi-1.0.1-py2.py3-none-any.whl (209 kB)\n",
            "\u001b[?25l\r\u001b[K     |█▋                              | 10 kB 18.3 MB/s eta 0:00:01\r\u001b[K     |███▏                            | 20 kB 24.0 MB/s eta 0:00:01\r\u001b[K     |████▊                           | 30 kB 31.6 MB/s eta 0:00:01\r\u001b[K     |██████▎                         | 40 kB 24.3 MB/s eta 0:00:01\r\u001b[K     |███████▉                        | 51 kB 22.9 MB/s eta 0:00:01\r\u001b[K     |█████████▍                      | 61 kB 25.3 MB/s eta 0:00:01\r\u001b[K     |███████████                     | 71 kB 22.9 MB/s eta 0:00:01\r\u001b[K     |████████████▌                   | 81 kB 23.3 MB/s eta 0:00:01\r\u001b[K     |██████████████                  | 92 kB 24.7 MB/s eta 0:00:01\r\u001b[K     |███████████████▋                | 102 kB 25.9 MB/s eta 0:00:01\r\u001b[K     |█████████████████▏              | 112 kB 25.9 MB/s eta 0:00:01\r\u001b[K     |██████████████████▊             | 122 kB 25.9 MB/s eta 0:00:01\r\u001b[K     |████████████████████▎           | 133 kB 25.9 MB/s eta 0:00:01\r\u001b[K     |█████████████████████▉          | 143 kB 25.9 MB/s eta 0:00:01\r\u001b[K     |███████████████████████▍        | 153 kB 25.9 MB/s eta 0:00:01\r\u001b[K     |█████████████████████████       | 163 kB 25.9 MB/s eta 0:00:01\r\u001b[K     |██████████████████████████▋     | 174 kB 25.9 MB/s eta 0:00:01\r\u001b[K     |████████████████████████████▏   | 184 kB 25.9 MB/s eta 0:00:01\r\u001b[K     |█████████████████████████████▊  | 194 kB 25.9 MB/s eta 0:00:01\r\u001b[K     |███████████████████████████████▎| 204 kB 25.9 MB/s eta 0:00:01\r\u001b[K     |████████████████████████████████| 209 kB 25.9 MB/s \n",
            "\u001b[?25hInstalling collected packages: Sastrawi\n",
            "Successfully installed Sastrawi-1.0.1\n"
          ]
        }
      ]
    },
    {
      "cell_type": "code",
      "source": [
        "datatw"
      ],
      "metadata": {
        "colab": {
          "base_uri": "https://localhost:8080/"
        },
        "id": "9Mp-Naa14_hx",
        "outputId": "953670ef-e801-4715-ab24-0e11ff6b5ea4"
      },
      "execution_count": 9,
      "outputs": [
        {
          "output_type": "execute_result",
          "data": {
            "text/plain": [
              "['Apple iPhone 14 Pro - Space Black\\n\\n128gb: https://t.co/SI8Q0ouoOq\\n256gb: https://t.co/lsZ0mAQR52\\n\\nApple iPhone 14 Pro - Gold\\n\\n128gb: https://t.co/LXo6cl44yo\\n1TB: https://t.co/44LwpFi5aA\\n\\nApple iPhone 14 Pro - Silver\\n\\n128gb: https://t.co/zFdLW7E94k\\n256gb: https://t.co/3AG7YfKwSa',\n",
              " '●Amazon\\nApple iPhone 14 Plus 128GB (PRODUCT)RED - SIMフリー 5G対応\\n\\n⬇️商品詳細\\nhttps://t.co/X3pGCNBFPZ\\n\\n134800円\\n19:54\\n#iPhone #Apple',\n",
              " 'iPhone 14 SIM not supported? Don’t try to fix it\\xa0yourself https://t.co/HRZ95ruiNs',\n",
              " \"It's RAINING iPhones DAILY on @postpeapp ⛈️📱📱\\n\\ni'm playing postpe super strikers, and I just won ₹26 cashback 🏏💥 \\n\\njoin me and you can win an iPhone 14 every day, along with guaranteed rewards on every transaction 💸🤑\\n\\nready to strike it? #playnow #postpesuperstrikers\",\n",
              " '@mrcringe61 @DeadinsideS22 He’s comparing the 13 Pro Max USD price to the iPhone 14 CAD price https://t.co/gOeo0nIlLx',\n",
              " '@otto_de So bekommt man das schnell und richtig habe am 6. Oktober bestellt und es kam 14.10.22.\\nDas beste ist auch noch ich muss nicht so viel Zinsen drücken, wie bei euch fast 500 € dazu bezahlen obwohl das iPhone 14 pro Max 1,449 € kostet . https://t.co/sdjeYhA4bf',\n",
              " '@analogoichan iPhone14の性能抜群です😊🎶',\n",
              " 'I just posted \"Analysts: lead times for iPhone 14 series drop below that for iPhone 13 in the same period\" on Reddit\\n\\nhttps://t.co/VKpcZu3LUP',\n",
              " 'I just posted \"Google Pixel 7 Pro to iPhone 14 Pro Max: The best flagship camera phones for Diwali\" on Reddit\\n\\nhttps://t.co/yxmWGZwJx6',\n",
              " \"It's RAINING iPhones DAILY on @postpeapp ⛈️📱📱\\n\\ni'm playing postpe super strikers, and I just won ₹10 cashback 🏏💥 \\n\\njoin me and you can win an iPhone 14 every day, along with guaranteed rewards on every transaction 💸🤑\\n\\nready to strike it? #playnow #postpesuperstrikers\",\n",
              " '4 Best Wooden Cases for iPhone 14 Pro and iPhone 14 Pro Max https://t.co/KVoKv8u1i7 via @@360Reader',\n",
              " \"@ezbicent @IruefiNG That's because iphone6 was a flagship phone. If you wanna compare a flagship phone, then compare it with another flagship model of another phone. For example, if you wanna compare an iphone14, then compare it with the latest Samsung flagship phone of a similar price range\",\n",
              " 'Apple iPhone 14 Pro Max (1 TB) - Space Black\\nOnly 1 unit left!\\nhttps://t.co/tJp3X969oo',\n",
              " '4 Best Wooden Cases for iPhone 14 Pro and iPhone 14 Pro Max https://t.co/SoZth7XpOx via @@360Reader',\n",
              " 'I dey fear igbo man wey carry Nokia 33:10 pass yahoo boy wey carry iPhone 14 pro-max,........ na only igbo man go enter okada go where he wan go pay for him property of millions of naira still use torchlight phone do transfer,...... in other words, fear igbo men 😂',\n",
              " '@hindatuuu Once you get to computer village Ikeja with that your 20k just call me on phone and leave the rest to God.\\nBut I promise you, you must go back home with iphone 14 pro max just have faith and start come now.',\n",
              " 'iPhone14 https://t.co/MPRpN6M0yG',\n",
              " '#LetsChat iPhone 14 now available \\nWay more wow. Big and bigger!\\nCapture your vision with #Apple and #ChatzConnect \\nhttps://t.co/hJkcx8u9WF https://t.co/02xC5fNv6e',\n",
              " 'Analysts: Lead Times For IPhone 14 Series Drop Below That For IPhone 13 In The Same Period https://t.co/xiIk9kayJv',\n",
              " 'https://t.co/Xp9VvXjuZX\\n\\nApple iPhone 14 Pro (256 GB) - Silver',\n",
              " 'iPhone 14 ProのDynamic Island、登場 | Apple https://t.co/kbiowyF19L @YouTubeより',\n",
              " '【Amazon 入荷速報📢】\\nApple iPhone 14 256GB (PRODUCT)RED - SIMフリー 5G対応\\n\\n価格：134800円\\n\\n（2022/10/17 19:50）\\n#iPhone\\nhttps://t.co/SdUXMUHkeO',\n",
              " 'Probable reason actual sales for the standard Iphone 14 are way lower this year compared to the pro and pro max is the need for people to identify themselves with the fact it is the latest version through the new notch. Cuz obviously why settle for what looks exactly like last yr',\n",
              " '@Apple İphone 14 pro max neden yok?',\n",
              " 'Analysts: lead times for iPhone 14 series drop below that for iPhone 13 in the same\\xa0period https://t.co/EOzYOfI5cR',\n",
              " 'How to use the Dynamic Island on iPhone 14 Pro | Apple Support https://t.co/Cq3KETcSU5',\n",
              " 'iPhone14/14 Pro、Apple Storeとキャリアの在庫～10/17\\nhttps://t.co/STA7WBWWyn',\n",
              " '〇 Amazonで入荷中！\\n〇 Apple iPhone 14 Plus 256GB ミッドナイト - SIMフリー 5G対応\\n〇 10/17 19:50:20\\n#iPhone14 #iPhone14Plus #iPhone14Pro #iPhone14ProMax\\nhttps://t.co/4xlshQxq1K',\n",
              " '〇 Amazonで入荷中！\\n〇 Apple iPhone 14 Plus 256GB ミッドナイト - SIMフリー 5G対応\\n〇 10/17 19:50:20\\n#iPhone14 #iPhone14Plus #iPhone14Pro #iPhone14ProMax\\nhttps://t.co/qfdAk1iuS5',\n",
              " '■ Amazonにて入荷中 🍎\\n■ Apple iPhone 14 Plus 256GB ミッドナイト - SIMフリー 5G対応\\n■ 入荷日時 10/17 19:50:15\\n#iPhone14 #iPhone14Pro #iPhone14ProMax\\nhttps://t.co/0ECuU6saga',\n",
              " 'Amazonにて入荷中！\\nApple iPhone 14 Plus 256GB ミッドナイト - SIMフリー 5G対応\\n#iPhone14 #iPhone14Plus\\n#iPhone14Pro #iPhone14ProMax\\n10/17 19:50:15 現在\\nhttps://t.co/Z0j62pTSd2',\n",
              " '〇 Amazonで入荷中！\\n〇 Apple iPhone 14 Plus 256GB ミッドナイト - SIMフリー 5G対応\\n〇 10/17 19:50:15\\n#iPhone14 #iPhone14Plus #iPhone14Pro #iPhone14ProMax\\nhttps://t.co/6LUgLE3EVF',\n",
              " 'There’s a lack of iPhone 14 pro again LMFAO I HATE THIS IM MAD AF GOD',\n",
              " 'IOS 16.0.3 Update on iPhone 14 fixes Some Annoying Bugs https://t.co/91SJxau4Sx',\n",
              " 'No matter what case style and the protection level you need - UAG has you covered. #iphone14 #iphone14accessories #UAG #gammatek 🤳 https://t.co/2ZtqUolHdm',\n",
              " 'Exchanging an iPhone 14 Pro Max with a car? https://t.co/uLQ8UHmlTL  #iPhone14ProMax #ladasamara #smartphoneexchangewithacar #techjourno #apple #iphone',\n",
              " 'Think the iPhone 14 Pro for Rs 1.3 lakhs is too cheap? How about an iPhone 14 Pro that costs Rs 1.1 crore?- Technology News,\\xa0Firstpost https://t.co/YWKTWEV9YW',\n",
              " 'Wallpaper for iOS16\\n\\nLink 👉 https://t.co/OOmrXezT2A\\n\\n#Apple #Wallpapers #iOS16 #iPhone14ProMax #iPhone14Pro #iPhone14 #iPhone14Plus\\n#iPhone13ProMax #iPhone13Pro #iPhone13 #iPhone13Mini\\n#iPhone12ProMax #iPhone12Pro\\n#iPhone12  #iPhone12Mini https://t.co/xQIbYTJVK0',\n",
              " 'IOS 16.0.3 Update on iPhone 14 fixes Some Annoying Bugs https://t.co/91SJxabVEp',\n",
              " 'lead times for iPhone 14 series drop below that for iPhone 13 in the same period https://t.co/9STZxDfhIv',\n",
              " 'Apple iPhone 14 Plus Review: The New Default iPhone https://t.co/RgGDP5H9cp https://t.co/Z3XpUn3YCK',\n",
              " '@stewbrn It takes a bit so just sit tight and wait for now 🙌',\n",
              " 'Apple iPhone 14 Pro (128 GB) - Silver is in Stock!\\nhttps://t.co/J03GUcEamz',\n",
              " '〇 Amazonで入荷中！\\n〇 Apple iPhone 14 Plus 256GB ミッドナイト - SIMフリー 5G対応\\n〇 10/17 19:47:24\\n#iPhone14 #iPhone14Plus #iPhone14Pro #iPhone14ProMax\\nhttps://t.co/957g1LjGzO',\n",
              " '〇 Amazonで入荷中！\\n〇 Apple iPhone 14 Plus 256GB ミッドナイト - SIMフリー 5G対応\\n〇 10/17 19:47:24\\n#iPhone14 #iPhone14Plus #iPhone14Pro #iPhone14ProMax\\nhttps://t.co/XA60P5ve4C',\n",
              " 'Amazonにて入荷中！\\nApple iPhone 14 Plus 256GB ミッドナイト - SIMフリー 5G対応\\n#iPhone14 #iPhone14Plus\\n#iPhone14Pro #iPhone14ProMax\\n10/17 19:47:18 現在\\nhttps://t.co/sx0dCuwKTD',\n",
              " '■ Amazonにて入荷中 🍎\\n■ Apple iPhone 14 Plus 256GB ミッドナイト - SIMフリー 5G対応\\n■ 入荷日時 10/17 19:47:18\\n#iPhone14 #iPhone14Pro #iPhone14ProMax\\nhttps://t.co/hkALTs78c1',\n",
              " '〇 Amazonで入荷中！\\n〇 Apple iPhone 14 Plus 256GB ミッドナイト - SIMフリー 5G対応\\n〇 10/17 19:47:18\\n#iPhone14 #iPhone14Plus #iPhone14Pro #iPhone14ProMax\\nhttps://t.co/Is8X6H8Qc5',\n",
              " 'https://t.co/CnLhjWWpuE\\n\\nApple iPhone 14 Pro (128 GB) - Silver',\n",
              " '@SecretTipsterr ✨ iPhone 14 Pro Max #Giveaway ✨\\n\\n#GamblingTwitter #iphonegiveaway \\n@SecretTipsterr https://t.co/5zxVIUyyDR',\n",
              " 'Published on YouTube: 深圳华强北市场，iphone14 128G 跌破 3550元 无人要，iPhone 13 Pro max 再跌破历史新低4880元 https://t.co/eYRxMsJDve',\n",
              " 'Kinoreif: \"Rundgang durch Chicago\" mit dem iPhone 14 Pro https://t.co/L2jvHlOIQA',\n",
              " 'https://t.co/uzrc1dS3IM\\n\\nApple iPhone 14 Pro Max (256 GB) - Space Black',\n",
              " 'Amazonにて入荷中！\\n\\nApple iPhone 14 Plus 256GB ブルー - SIMフリー 5G対応...\\n\\n#iPhone14 #iPhone14Plus\\n#iPhone14Pro #iPhone14ProMax\\n2022/10/17 19:44:53 現在\\nhttps://t.co/hXvBZJalnz',\n",
              " '■ Amazonにて入荷中 🍎\\n■ Apple iPhone 14 Plus 256GB ブルー - SIMフリー ...\\n■ 2022/10/17 19:44:51 時点\\n#iPhone14 #iPhone14Pro #iPhone14ProMax\\nhttps://t.co/OYMZTaZunT',\n",
              " '@freedomsupport I have pre ordered iPhone 14 pro max on September 9th and still don’t received the device.. where is my phone?',\n",
              " 'Apple iPhone 14 Pro Max (256 GB) - Space Black is in Stock!\\nhttps://t.co/Yeq2D3DG2P',\n",
              " '【Amazon 入荷速報📢】\\nApple iPhone 14 256GB ブルー - SIMフリー 5G対応\\n\\n価格：134800円\\n\\n（2022/10/17 19:44）\\n#iPhone\\nhttps://t.co/0Vdok2OyDV',\n",
              " '【Amazon 入荷速報📢】\\nApple iPhone 14 128GB パープル - SIMフリー 5G対応\\n\\n価格：119800円\\n\\n（2022/10/17 19:44）\\n#iPhone\\nhttps://t.co/hZO1XJKj5R',\n",
              " '〇 Amazonで入荷中！\\n〇 Apple iPhone 14 Plus 256GB ミッドナイト - SIMフリー 5G対応\\n〇 10/17 19:43:59\\n#iPhone14 #iPhone14Plus #iPhone14Pro #iPhone14ProMax\\nhttps://t.co/ap7AgDc2RH',\n",
              " '〇 Amazonで入荷中！\\n〇 Apple iPhone 14 Plus 256GB ミッドナイト - SIMフリー 5G対応\\n〇 10/17 19:43:59\\n#iPhone14 #iPhone14Plus #iPhone14Pro #iPhone14ProMax\\nhttps://t.co/hMrb3s9wYD',\n",
              " 'Test Batterie : iPhone 14 vs 14 Plus vs 14 Pro vs 14 Pro Max vs 13 Pro v... https://t.co/mxlWwWoCyP via @YouTube',\n",
              " '■ Amazonにて入荷中 🍎\\n■ Apple iPhone 14 Plus 256GB ミッドナイト - SIMフリー 5G対応\\n■ 入荷日時 10/17 19:43:53\\n#iPhone14 #iPhone14Pro #iPhone14ProMax\\nhttps://t.co/4eHuTg0ngY',\n",
              " 'Amazonにて入荷中！\\nApple iPhone 14 Plus 256GB ミッドナイト - SIMフリー 5G対応\\n#iPhone14 #iPhone14Plus\\n#iPhone14Pro #iPhone14ProMax\\n10/17 19:43:53 現在\\nhttps://t.co/NOg80YvsM8',\n",
              " '〇 Amazonで入荷中！\\n〇 Apple iPhone 14 Plus 256GB ミッドナイト - SIMフリー 5G対応\\n〇 10/17 19:43:53\\n#iPhone14 #iPhone14Plus #iPhone14Pro #iPhone14ProMax\\nhttps://t.co/y7kczEgFTk',\n",
              " 'Join me at Bybit and win Mystery Boxes together! Open a Mystery Box for a chance to win up to 1 BTC and an iPhone 14 Pro Max worth $1,099. https://t.co/fypkNk4NG5\\nhttps://t.co/fypkNk4NG5 https://t.co/6G2taFlnoY',\n",
              " '〇 Amazonで入荷中！\\n〇 Apple iPhone 14 Plus 256GB ミッドナイト - SIMフリー 5G対応\\n〇 10/17 19:43:46\\n#iPhone14 #iPhone14Plus #iPhone14Pro #iPhone14ProMax\\nhttps://t.co/ZhXXc8bac8',\n",
              " '〇 Amazonで入荷中！\\n〇 Apple iPhone 14 Plus 256GB ミッドナイト - SIMフリー 5G対応\\n〇 10/17 19:43:46\\n#iPhone14 #iPhone14Plus #iPhone14Pro #iPhone14ProMax\\nhttps://t.co/uXxjQvq7M0',\n",
              " 'Amazonにて入荷中！\\nApple iPhone 14 Plus 256GB ミッドナイト - SIMフリー 5G対応\\n#iPhone14 #iPhone14Plus\\n#iPhone14Pro #iPhone14ProMax\\n10/17 19:43:40 現在\\nhttps://t.co/JR4zPVk6zY',\n",
              " '〇 Amazonで入荷中！\\n〇 Apple iPhone 14 Plus 256GB ミッドナイト - SIMフリー 5G対応\\n〇 10/17 19:43:40\\n#iPhone14 #iPhone14Plus #iPhone14Pro #iPhone14ProMax\\nhttps://t.co/Q02wHU7Vi1',\n",
              " '■ Amazonにて入荷中 🍎\\n■ Apple iPhone 14 Plus 256GB ミッドナイト - SIMフリー 5G対応\\n■ 入荷日時 10/17 19:43:40\\n#iPhone14 #iPhone14Pro #iPhone14ProMax\\nhttps://t.co/9n2qM5g2DK',\n",
              " 'Win iPhone 14 For Free\\nhttps://t.co/KhvJqTSTWB https://t.co/mhmvXk0dww',\n",
              " 'Join me at Bybit and win Mystery Boxes together! Open a Mystery Box for a chance to win up to 1 BTC and an iPhone 14 Pro Max worth $1,099. https://t.co/G8GB4hRoLD\\nhttps://t.co/G8GB4hRoLD https://t.co/Yo8p04GkjF',\n",
              " 'Apple AirPods Pro（第2世代） \\u200b\\u200b\\u200b\\u200b\\u200b\\u200b\\u200bがAmazonで再入荷しました！\\n[19:42:23]\\nhttps://t.co/r1TlPnWAec',\n",
              " 'Apple iPhone 14 Pro Max (256 GB) - Space Black is in stock\\n\\nhttps://t.co/TYDGLfxhV7',\n",
              " 'iPhone 14: Apple recognizes a bug related to certain unsupported SIM cards https://t.co/oaa5ssdumt',\n",
              " 'Analysts: lead times for iPhone 14 series drop below that for iPhone 13 in the same\\xa0period https://t.co/kcdFkAVkLZ',\n",
              " 'Apple iPhone 14 Pro Max (256 GB) - Space Black is in Stock!\\nhttps://t.co/4C7tzNoVYo',\n",
              " 'Apple iPhone 14 Pro (256 GB) - Space Black\\nhttps://t.co/ZNZNpflJFZ\\n\\nApple iPhone 14 Pro (128 GB) - Space Black\\nhttps://t.co/DV8fvJFlov',\n",
              " 'Analysts: lead times for iPhone 14 series drop below that for iPhone 13 in the same period https://t.co/Xt7l9WlqpI',\n",
              " '〇 Amazonで入荷中！\\n〇 Apple iPhone 14 Plus 256GB ミッドナイト - SIMフリー 5G対応\\n〇 10/17 19:41:11\\n#iPhone14 #iPhone14Plus #iPhone14Pro #iPhone14ProMax\\nhttps://t.co/W8spegQ8nu',\n",
              " '〇 Amazonで入荷中！\\n〇 Apple iPhone 14 Plus 256GB ミッドナイト - SIMフリー 5G対応\\n〇 10/17 19:41:11\\n#iPhone14 #iPhone14Plus #iPhone14Pro #iPhone14ProMax\\nhttps://t.co/9Jz6VRDv7g',\n",
              " 'Analysts: lead times for iPhone 14 series drop below that for iPhone 13 in the same period https://t.co/mZykhXSwZS',\n",
              " 'Amazonにて入荷中！\\nApple iPhone 14 Plus 256GB ミッドナイト - SIMフリー 5G対応\\n#iPhone14 #iPhone14Plus\\n#iPhone14Pro #iPhone14ProMax\\n10/17 19:41:06 現在\\nhttps://t.co/I13Bb8O4qI',\n",
              " '〇 Amazonで入荷中！\\n〇 Apple iPhone 14 Plus 256GB ミッドナイト - SIMフリー 5G対応\\n〇 10/17 19:41:06\\n#iPhone14 #iPhone14Plus #iPhone14Pro #iPhone14ProMax\\nhttps://t.co/sDCUcuoung',\n",
              " '■ Amazonにて入荷中 🍎\\n■ Apple iPhone 14 Plus 256GB ミッドナイト - SIMフリー 5G対応\\n■ 入荷日時 10/17 19:41:06\\n#iPhone14 #iPhone14Pro #iPhone14ProMax\\nhttps://t.co/NonEY4KD5Y',\n",
              " 'Apple Buyers Are Getting iPhone 14 Models Quicker Than Previous Lineup: Here Are New Lead Times https://t.co/Jt2d8Npy06',\n",
              " '@tanneeshozz So my teacher gifted me iPhone 14 pro Max for scoring well in science.',\n",
              " 'Why are Apple iPhone 14 deliveries delayed for Indian\\xa0buyers? https://t.co/DnAlc2UlPN',\n",
              " 'Why are Apple iPhone 14 deliveries delayed for Indian\\xa0buyers? https://t.co/dWs99Npef9',\n",
              " 'https://t.co/fkNvqGqZJH\\n\\nApple iPhone 14 Pro (512 GB) - Deep Purple\\n\\n1 left!',\n",
              " 'Win iPhone 14\\nhttps://t.co/VwQo0lJ3RJ https://t.co/cfADhqbh45',\n",
              " 'All iPhone Deals https://t.co/ZeMjGDDbS2\\n\\niPhone 12 64GB https://t.co/1YCoQi3L5Z\\n\\niPhone 12 128GB https://t.co/V0uZx1ux7x\\n\\niPhone 13 Pro 128GB https://t.co/cSRb5TDMBV\\n\\niPhone 13 Pro Max 128GB https://t.co/bSAR1HLq0Y\\n\\niPhone 14 https://t.co/d1OsFiKrAI\\n\\n#FinaleDays #AmszonSeLiya https://t.co/71VCL59hzz',\n",
              " '@tech_burner iPhone 14 ka Acha ha',\n",
              " 'ZHIYUN Official SMOOTH Q3 Gimbal Smartphone 3-Axis Phone Gimbals Stabilizer for iPhone 14 pro max/Xiaomi/Huawei VS DJI OM 6 $89.97\\nclick&gt;&gt;https://t.co/vV84hvytpj\\n#amazon #aliexpress #rt https://t.co/zj1Losk2bK',\n",
              " 'Analysts: lead times for iPhone 14 series drop below that for iPhone 13 in the same\\xa0period https://t.co/hrC72HswL2',\n",
              " 'Analysts: lead times for iPhone 14 series drop below that for iPhone 13 in the same period https://t.co/pJszXDrYpJ https://t.co/PicYQ2PULe',\n",
              " 'Apple iPhone 14 review: Should you\\xa0buy? https://t.co/PZkV2HZcaq',\n",
              " '@UniverseIce Iphone 14 pro Max with 6',\n",
              " 'Apple Acknowledges ‘SIM Not Supported’ Bug Impacting iPhone 14\\xa0Users https://t.co/FwwEUVTsq8',\n",
              " '@techbharatco iPhone 14 Pro 😍',\n",
              " '〇 Amazonで入荷中！\\n〇 Apple iPhone 14 Plus 256GB ミッドナイト - SIMフリー 5G対応\\n〇 10/17 19:36:36\\n#iPhone14 #iPhone14Plus #iPhone14Pro #iPhone14ProMax\\nhttps://t.co/vqWVkXAx4Q',\n",
              " '〇 Amazonで入荷中！\\n〇 Apple iPhone 14 Plus 256GB ミッドナイト - SIMフリー 5G対応\\n〇 10/17 19:36:36\\n#iPhone14 #iPhone14Plus #iPhone14Pro #iPhone14ProMax\\nhttps://t.co/DcUx3oAJos',\n",
              " '〇 Amazonで入荷中！\\n〇 Apple iPhone 14 Plus 256GB ミッドナイト - SIMフリー 5G対応\\n〇 10/17 19:36:36\\n#iPhone14 #iPhone14Plus #iPhone14Pro #iPhone14ProMax\\nhttps://t.co/iGsbD1gexX',\n",
              " '〇 Amazonで入荷中！\\n〇 Apple iPhone 14 Plus 256GB ミッドナイト - SIMフリー 5G対応\\n〇 10/17 19:36:36\\n#iPhone14 #iPhone14Plus #iPhone14Pro #iPhone14ProMax\\nhttps://t.co/rZwGDsxXwl',\n",
              " '■ Amazonにて入荷中 🍎\\n■ Apple iPhone 14 Plus 256GB ミッドナイト - SIMフリー 5G対応\\n■ 入荷日時 10/17 19:36:31\\n#iPhone14 #iPhone14Pro #iPhone14ProMax\\nhttps://t.co/0Shoiyy8xN',\n",
              " '〇 Amazonで入荷中！\\n〇 Apple iPhone 14 Plus 256GB ミッドナイト - SIMフリー 5G対応\\n〇 10/17 19:36:31\\n#iPhone14 #iPhone14Plus #iPhone14Pro #iPhone14ProMax\\nhttps://t.co/ALV9BkxqUI',\n",
              " 'Amazonにて入荷中！\\nApple iPhone 14 Plus 256GB ミッドナイト - SIMフリー 5G対応\\n#iPhone14 #iPhone14Plus\\n#iPhone14Pro #iPhone14ProMax\\n10/17 19:36:31 現在\\nhttps://t.co/FtQay7Pv8t',\n",
              " '〇 Amazonで入荷中！\\n〇 Apple iPhone 14 Plus 256GB ミッドナイト - SIMフリー 5G対応\\n〇 10/17 19:36:31\\n#iPhone14 #iPhone14Plus #iPhone14Pro #iPhone14ProMax\\nhttps://t.co/HNMZagq08s',\n",
              " '■ Amazonにて入荷中 🍎\\n■ Apple iPhone 14 Plus 256GB ミッドナイト - SIMフリー 5G対応\\n■ 入荷日時 10/17 19:36:31\\n#iPhone14 #iPhone14Pro #iPhone14ProMax\\nhttps://t.co/Pb40tqQ98t',\n",
              " 'Amazonにて入荷中！\\nApple iPhone 14 Plus 256GB ミッドナイト - SIMフリー 5G対応\\n#iPhone14 #iPhone14Plus\\n#iPhone14Pro #iPhone14ProMax\\n10/17 19:36:31 現在\\nhttps://t.co/LxgADnXR8h',\n",
              " \"It's RAINING iPhones DAILY on @postpeapp ⛈️📱📱\\n\\ni'm playing postpe super strikers, and I just won ₹10 cashback 🏏💥 \\n\\njoin me and you can win an iPhone 14 every day, along with guaranteed rewards on every transaction 💸🤑\\n\\nready to strike it? #playnow #postpesuperstrikers\",\n",
              " '📰 Apple Buyers Are Getting iPhone 14 Models Quicker Than Previous Lineup: Here Are New Lead Times\\n\\n$AAPL\\n\\nhttps://t.co/8zdO0dfqjB',\n",
              " \"@techpro76 @AndroidEducator @F2O_Official Apple- no way guys we added an animation and always on display and the normal iPhone 14 is literally the same as last year but we  No people will buy it because it's an iPhone  Is all iPhone users are uneducated and don't know what a megapixel is.\",\n",
              " '#wallpapers #homescreen\\n#iPhone14ProMax\\n#iPhone14Pro\\n#iPhone14Plus\\n#iPhone14\\n#iPhone13ProMax\\n#iPhone13Pro\\n#iPhone13\\n#iPhone12ProMax\\n#iPhone12Pro\\n#iPhone12\\n#android\\nDownload\\nhttps://t.co/W2Ee8KAMlD\\nhttps://t.co/PNLKUlczZA https://t.co/pCYFzhqUdE',\n",
              " '#bitcoin\\n#altcoin\\n#Crypto\\nAsia-Pacific Shares Finish Mixed Ahead of US Earnings Announcements https://t.co/BgHd8T1p1e\\n\\n【招待コード】\\n#Binance\\nhttps://t.co/3BslJTvkLp\\n#Bybit\\nhttps://t.co/l7nfqg1hNK\\n\\n#iPhone14 #楽天\\nhttps://t.co/gCBmHixlOB',\n",
              " '#bitcoin\\n#altcoin\\n#Crypto\\nEUR/USD and a Return to $0.98 in the Hands of the ECB’s Philip Lane https://t.co/EDRR6218pv\\n\\n【招待コード】\\n#Binance\\nhttps://t.co/3BslJTvkLp\\n#Bybit\\nhttps://t.co/l7nfqg1hNK\\n\\n#iPhone14 #楽天\\nhttps://t.co/gCBmHixlOB',\n",
              " '〇 Amazonで入荷中！\\n〇 Apple iPhone 14 Plus 256GB ブルー - SIMフリー 5G対応\\n〇 10/17 19:34:30\\n#iPhone14 #iPhone14Plus #iPhone14Pro #iPhone14ProMax\\nhttps://t.co/XmwxcIx14S',\n",
              " '〇 Amazonで入荷中！\\n〇 Apple iPhone 14 Plus 256GB ブルー - SIMフリー 5G対応\\n〇 10/17 19:34:30\\n#iPhone14 #iPhone14Plus #iPhone14Pro #iPhone14ProMax\\nhttps://t.co/9jK7OtqcEq',\n",
              " '〇 Amazonで入荷中！\\n〇 Apple iPhone 14 Plus 256GB ブルー - SIMフリー 5G対応\\n〇 10/17 19:34:25\\n#iPhone14 #iPhone14Plus #iPhone14Pro #iPhone14ProMax\\nhttps://t.co/W6fGT8H4j2',\n",
              " '■ Amazonにて入荷中 🍎\\n■ Apple iPhone 14 Plus 256GB ブルー - SIMフリー 5G対応\\n■ 入荷日時 10/17 19:34:25\\n#iPhone14 #iPhone14Pro #iPhone14ProMax\\nhttps://t.co/g8ZieatBNI',\n",
              " 'Amazonにて入荷中！\\nApple iPhone 14 Plus 256GB ブルー - SIMフリー 5G対応\\n#iPhone14 #iPhone14Plus\\n#iPhone14Pro #iPhone14ProMax\\n10/17 19:34:25 現在\\nhttps://t.co/4YCTWpCBpv',\n",
              " \"@SecretTipsterr Thankyou so much @SecretTipsterr team for hosting this huge iPhone 14 Pro Max giveaway. I'm glad and so happy to be a participant here ❤️\\n\\n@srshylu5gmailc1 @KDivya18740584 @GoldQueenie4  @poolife93 @gsrana4580  💚\\n\\nThis one is going to be massive 🔥 https://t.co/lmm6LHPiGe\",\n",
              " 'Brand New!\\niPhone 14 Blue\\n✅128GB\\n✅Canadian Model🇨🇦\\n💰MK1,300,000 https://t.co/WhnM5ohDDy',\n",
              " \"🎃 AS OF OCTOBER 16, 2022 LIST FOR TURNOVER COMPETITION 🎃\\n🎉 What are you waiting for kalodi? Enter now and get a chance to win an IPHONE 14 MAX PRO! 🎉\\n✨ This Halloween treat don't have any required deposit, you just need your turnover! https://t.co/nKBzWs0bTm\",\n",
              " 'Apple iPhone 14 Pro Max (1 TB) - Space Black\\n\\nhttps://t.co/96SOuRcad9\\n\\nOnly 1 left!',\n",
              " 'Apple iPhone 14 Pro Max (1 TB) - Space Black\\nOnly 1 left in stock!\\nhttps://t.co/UxS7xkeJbC',\n",
              " 'Analysts: lead times for iPhone 14 series drop below that for iPhone 13 in the same period https://t.co/9tofzsAaYp via @gsmarena_com',\n",
              " \"It's RAINING iPhones DAILY on @postpeapp ⛈️📱📱\\n\\ni'm playing postpe super strikers, and I just won ₹135 cashback 🏏💥 \\n\\njoin me and you can win an iPhone 14 every day, along with guaranteed rewards on every transaction 💸🤑\\n\\nready to strike it? #playnow #postpesuperstrikers\",\n",
              " 'Free Speck iPhone 14 Phone Case https://t.co/5H3Hkg0aaq #freestuff #deals #freesamples',\n",
              " 'ZHIYUN Official Smooth 5 Gimbal Phone Handheld Stabilizer 3-Axis Smartphone for iPhone 14 Pro Max/Huawei/Xiaomi VS DJI OM 6 $181.71\\nclick&gt;&gt;https://t.co/iyFkyfHbEk\\n#amazon #aliexpress #rt https://t.co/H1xMALruOs',\n",
              " '〇 Amazonで入荷中！\\n〇 Apple iPhone 14 Plus 256GB ミッドナイト - SIMフリー 5G対応\\n〇 10/17 19:33:05\\n#iPhone14 #iPhone14Plus #iPhone14Pro #iPhone14ProMax\\nhttps://t.co/3qunvBwr2G',\n",
              " '〇 Amazonで入荷中！\\n〇 Apple iPhone 14 Plus 256GB ミッドナイト - SIMフリー 5G対応\\n〇 10/17 19:33:05\\n#iPhone14 #iPhone14Plus #iPhone14Pro #iPhone14ProMax\\nhttps://t.co/Zl3v6HDNdJ',\n",
              " '〇 Amazonで入荷中！\\n〇 Apple iPhone 14 Plus 256GB ミッドナイト - SIMフリー 5G対応\\n〇 10/17 19:33:05\\n#iPhone14 #iPhone14Plus #iPhone14Pro #iPhone14ProMax\\nhttps://t.co/tfQscnHor5',\n",
              " '〇 Amazonで入荷中！\\n〇 Apple iPhone 14 Plus 256GB ミッドナイト - SIMフリー 5G対応\\n〇 10/17 19:33:04\\n#iPhone14 #iPhone14Plus #iPhone14Pro #iPhone14ProMax\\nhttps://t.co/WQwlE0EOKM',\n",
              " 'Amazonにて入荷中！\\nApple iPhone 14 Plus 256GB ミッドナイト - SIMフリー 5G対応\\n#iPhone14 #iPhone14Plus\\n#iPhone14Pro #iPhone14ProMax\\n10/17 19:32:59 現在\\nhttps://t.co/EiWbdqcM2X',\n",
              " 'Amazonにて入荷中！\\nApple iPhone 14 Plus 256GB ミッドナイト - SIMフリー 5G対応\\n#iPhone14 #iPhone14Plus\\n#iPhone14Pro #iPhone14ProMax\\n10/17 19:32:58 現在\\nhttps://t.co/FyUGioNL7Q',\n",
              " '■ Amazonにて入荷中 🍎\\n■ Apple iPhone 14 Plus 256GB ミッドナイト - SIMフリー 5G対応\\n■ 入荷日時 10/17 19:32:59\\n#iPhone14 #iPhone14Pro #iPhone14ProMax\\nhttps://t.co/I57lRymkl4',\n",
              " '■ Amazonにて入荷中 🍎\\n■ Apple iPhone 14 Plus 256GB ミッドナイト - SIMフリー 5G対応\\n■ 入荷日時 10/17 19:32:58\\n#iPhone14 #iPhone14Pro #iPhone14ProMax\\nhttps://t.co/BSZXiWg7QV',\n",
              " '〇 Amazonで入荷中！\\n〇 Apple iPhone 14 Plus 256GB ミッドナイト - SIMフリー 5G対応\\n〇 10/17 19:32:58\\n#iPhone14 #iPhone14Plus #iPhone14Pro #iPhone14ProMax\\nhttps://t.co/vbcLQf3Qzz',\n",
              " '〇 Amazonで入荷中！\\n〇 Apple iPhone 14 Plus 256GB ミッドナイト - SIMフリー 5G対応\\n〇 10/17 19:32:58\\n#iPhone14 #iPhone14Plus #iPhone14Pro #iPhone14ProMax\\nhttps://t.co/DqHmBvrCek',\n",
              " \"I need that purple iPhone 14 pro max 1TB by end of this month. And me knowing myself. I'll have it.\",\n",
              " 'Analysts: lead times for iPhone 14 series drop below that for iPhone 13 in the same\\xa0period https://t.co/QZby6ZZ9Bx',\n",
              " \"@shadowwalker321 @2xfzu3JHHSXNMRC No, because technically you've more GPU-Cores (7 Cores) and more activities are running in the background than iOS that's why it needs mor RAM. Takes newer iPhone 14 series and 13 Pro model after adding extra GPU Core and more activities to iOS 16, they upgrade RAM to 6GB\",\n",
              " '@stufflistings Iphone 14 series,',\n",
              " 'The iPhone 14 Pro may have one pill-shaped notch when turned on: #artificialintelligence #iot MT @mikequindazzi https://t.co/6BY6MAvR8R https://t.co/4X67fgGwsg',\n",
              " 'shala mirror shot with my new iPhone 14 pro max deep purple fully paid https://t.co/waM6jt3gxR',\n",
              " 'The 7 Best iPhone 14 Cases to Protect Your New Phone in 2022\\n\\nread on https://t.co/yqbYGiSJD9\\nhttps://t.co/XftAi6tiNA\\n#uomoelegante #gloo #miradaonline #ecosistemaonline',\n",
              " 'The best Apple iPhone 14 screen protectors https://t.co/kNEsRxXGy8 @digitaltrends \\n\\nDOME EZ GLASS 3PACK ￡14.99 \\n14 https://t.co/f34WMuzAqs \\n14 Pro https://t.co/SKlSeelz6r \\n14 Plus https://t.co/QPSrDBgNOU \\n14 Pro MAX https://t.co/LYgjupMNaw \\n\\nAmazonUK https://t.co/c9FnkDxMid',\n",
              " 'My new obsession is watching people’s Instagram stories glow up to 4K HD when they upgrade to the new iPhone 14 Pro 🤣',\n",
              " 'iPhone 14: a bug indicates that the SIM card is not compatible and freezes the\\xa0smartphone https://t.co/JVfdEmjO7k',\n",
              " \"It's RAINING iPhones DAILY on @postpeapp ⛈️📱📱\\n\\ni'm playing postpe super strikers, and I just won ₹11 cashback 🏏💥 \\n\\njoin me and you can win an iPhone 14 every day, along with guaranteed rewards on every transaction 💸🤑\\n\\nready to strike it? #playnow #postpesuperstrikers\",\n",
              " '#Apple confirms #iOS16 #SIM #bug affecting #iPhone14 users \\n\\n@Apple #ios1603 #AppleIndia #iPhone14Series \\n\\nhttps://t.co/ukncZr8SAl',\n",
              " 'BABE: you promised to buy me iphone 14 during s*x\\n\\nMe? https://t.co/bUjZvYE4hV',\n",
              " 'Apple iPhone 14 Pro Deep Purple 256GB\\nOnly 1 left!\\nhttps://t.co/8GthxFgCZY',\n",
              " 'Google Pixel 7 Pro to iPhone 14 Pro Max: The best flagship camera phones for\\xa0Diwali https://t.co/ErVCQvTcwp',\n",
              " '~Analysts: lead times for iPhone 14 series drop below that for iPhone 13 in the same period~\\nhttps://t.co/ePP1Yb2eKT\\n#News #Information #Business #Travel #Food #Sports #Cricket #Student #Health #Infotech #WFH #Marketing\\n\\nThe iPhone 14 series first became available six w... https://t.co/X74kmuNZDV',\n",
              " 'Apple iPhone 14 Pro Max (256 GB) - Gold\\nhttps://t.co/sDDvj9SAVI',\n",
              " 'Twitter for iPhone 14 pro max 1TB. Where do y’all get money from to spend it on one go like that ?',\n",
              " 'Apple AirPods Pro（第2世代） \\u200b\\u200b\\u200b\\u200b\\u200b\\u200b\\u200bがAmazonで再入荷しました！\\n[19:28:02]\\nhttps://t.co/r1TlPnWAec',\n",
              " 'iPhone 14 offers on Diwali Sale, great news! Just spend Rs 9,165 and bring home the iPhone 12 Mini? Order early or else the offer will expire – aiphone 12 mini best discount and offers on flipkart diwali sale\\xa02022pple https://t.co/sIxEgI2P1b',\n",
              " 'Invalid SIM card on iPhone 14: Apple is\\xa0aware https://t.co/xhMJOi5WZJ',\n",
              " 'Apple iPhone 14 Pro (256 GB) - Deep Purple\\n\\nOnly 2 left!\\n\\nhttps://t.co/ISI6DREH3t',\n",
              " 'Apple confirms SIM bug affecting iPhone 14 series - The Statesman https://t.co/ojODaMBJHZ #bhavikbhavsar #tech',\n",
              " '【販売中】 Apple iPhone 14 Pro A2892 (1TB/6GB) / Gold  https://t.co/j3eUlGPrK9 #SIMフリー #海外スマホ',\n",
              " '〇 Amazonで入荷中！\\n〇 Apple iPhone 14 Plus 256GB ミッドナイト - SIMフリー 5G対応\\n〇 10/17 19:27:12\\n#iPhone14 #iPhone14Plus #iPhone14Pro #iPhone14ProMax\\nhttps://t.co/eqeE6oyjwY',\n",
              " '〇 Amazonで入荷中！\\n〇 Apple iPhone 14 Plus 256GB ミッドナイト - SIMフリー 5G対応\\n〇 10/17 19:27:12\\n#iPhone14 #iPhone14Plus #iPhone14Pro #iPhone14ProMax\\nhttps://t.co/cPD4zaeO20',\n",
              " 'Apple iPhone 14 Pro Max (256 GB) - Gold\\nhttps://t.co/4h2gAbNmYZ',\n",
              " '〇 Amazonで入荷中！\\n〇 Apple iPhone 14 Plus 256GB ブルー - SIMフリー 5G対応\\n〇 10/17 19:27:08\\n#iPhone14 #iPhone14Plus #iPhone14Pro #iPhone14ProMax\\nhttps://t.co/XWR0fa4qHN',\n",
              " '〇 Amazonで入荷中！\\n〇 Apple iPhone 14 Plus 256GB ブルー - SIMフリー 5G対応\\n〇 10/17 19:27:08\\n#iPhone14 #iPhone14Plus #iPhone14Pro #iPhone14ProMax\\nhttps://t.co/Or9c6j1qJU',\n",
              " '■ Amazonにて入荷中 🍎\\n■ Apple iPhone 14 Plus 256GB ミッドナイト - SIMフリー 5G対応\\n■ 入荷日時 10/17 19:27:07\\n#iPhone14 #iPhone14Pro #iPhone14ProMax\\nhttps://t.co/en1QYEGPgy',\n",
              " '〇 Amazonで入荷中！\\n〇 Apple iPhone 14 Plus 256GB ミッドナイト - SIMフリー 5G対応\\n〇 10/17 19:27:07\\n#iPhone14 #iPhone14Plus #iPhone14Pro #iPhone14ProMax\\nhttps://t.co/bnQFnAMccb',\n",
              " 'Amazonにて入荷中！\\nApple iPhone 14 Plus 256GB ミッドナイト - SIMフリー 5G対応\\n#iPhone14 #iPhone14Plus\\n#iPhone14Pro #iPhone14ProMax\\n10/17 19:27:07 現在\\nhttps://t.co/Jo74BIqA7u',\n",
              " '〇 Amazonで入荷中！\\n〇 Apple iPhone 14 Plus 256GB ブルー - SIMフリー 5G対応\\n〇 10/17 19:27:03\\n#iPhone14 #iPhone14Plus #iPhone14Pro #iPhone14ProMax\\nhttps://t.co/rAvEtNGqcX',\n",
              " 'Amazonにて入荷中！\\nApple iPhone 14 Plus 256GB ブルー - SIMフリー 5G対応\\n#iPhone14 #iPhone14Plus\\n#iPhone14Pro #iPhone14ProMax\\n10/17 19:27:03 現在\\nhttps://t.co/NooqC6FFL9',\n",
              " '■ Amazonにて入荷中 🍎\\n■ Apple iPhone 14 Plus 256GB ブルー - SIMフリー 5G対応\\n■ 入荷日時 10/17 19:27:02\\n#iPhone14 #iPhone14Pro #iPhone14ProMax\\nhttps://t.co/jxykIbukhH',\n",
              " 'Think the iPhone 14 Pro for Rs 1.3 lakhs is too cheap? How about an iPhone 14 Pro that costs Rs 1.1 crore?',\n",
              " \"It's RAINING iPhones DAILY on @postpeapp ⛈️📱📱\\n\\ni'm playing postpe super strikers, and I just won ₹10 cashback 🏏💥 \\n\\njoin me and you can win an iPhone 14 every day, along with guaranteed rewards on every transaction 💸🤑\\n\\nready to strike it? #playnow #postpesuperstrikers\",\n",
              " '@DiamondFerreiir iPhone 14',\n",
              " 'Fans Gift BBNaija Bella iPhone 14 Pro Max, Money Bouquet, Gold Chain And Other\\xa0Goodies https://t.co/TVXv9GkIAK',\n",
              " '@faiz_hameed1993 Deep purple is a mix of space black too. At lower light it looks black and in the sun or a well lit room its purple. It also depends on the angle.',\n",
              " '🚨 Google Pixel 7 Pro to iPhone 14 Pro Max: The best flagship camera phones for Diwali',\n",
              " '〇 Amazonで入荷中！\\n〇 Apple iPhone 14 Plus 256GB ブルー - SIMフリー 5G対応\\n〇 10/17 19:24:26\\n#iPhone14 #iPhone14Plus #iPhone14Pro #iPhone14ProMax\\nhttps://t.co/BVFSun4sFM',\n",
              " '〇 Amazonで入荷中！\\n〇 Apple iPhone 14 Plus 256GB ブルー - SIMフリー 5G対応\\n〇 10/17 19:24:26\\n#iPhone14 #iPhone14Plus #iPhone14Pro #iPhone14ProMax\\nhttps://t.co/v47cEQ6JaF',\n",
              " '〇 Amazonで入荷中！\\n〇 Apple iPhone 14 Plus 256GB ブルー - SIMフリー 5G対応\\n〇 10/17 19:24:26\\n#iPhone14 #iPhone14Plus #iPhone14Pro #iPhone14ProMax\\nhttps://t.co/drEQWfnK21',\n",
              " '〇 Amazonで入荷中！\\n〇 Apple iPhone 14 Plus 256GB ブルー - SIMフリー 5G対応\\n〇 10/17 19:24:26\\n#iPhone14 #iPhone14Plus #iPhone14Pro #iPhone14ProMax\\nhttps://t.co/kQkAwDpkNF',\n",
              " '■ Amazonにて入荷中 🍎\\n■ Apple iPhone 14 Plus 256GB ブルー - SIMフリー 5G対応\\n■ 入荷日時 10/17 19:24:21\\n#iPhone14 #iPhone14Pro #iPhone14ProMax\\nhttps://t.co/qaHuYOMCVY',\n",
              " 'Amazonにて入荷中！\\nApple iPhone 14 Plus 256GB ブルー - SIMフリー 5G対応\\n#iPhone14 #iPhone14Plus\\n#iPhone14Pro #iPhone14ProMax\\n10/17 19:24:21 現在\\nhttps://t.co/AH708q4B8c',\n",
              " '〇 Amazonで入荷中！\\n〇 Apple iPhone 14 Plus 256GB ブルー - SIMフリー 5G対応\\n〇 10/17 19:24:21\\n#iPhone14 #iPhone14Plus #iPhone14Pro #iPhone14ProMax\\nhttps://t.co/OwLvwqcuCK',\n",
              " '〇 Amazonで入荷中！\\n〇 Apple iPhone 14 Plus 256GB ブルー - SIMフリー 5G対応\\n〇 10/17 19:24:21\\n#iPhone14 #iPhone14Plus #iPhone14Pro #iPhone14ProMax\\nhttps://t.co/xYidqU4Xf6',\n",
              " 'Amazonにて入荷中！\\nApple iPhone 14 Plus 256GB ブルー - SIMフリー 5G対応\\n#iPhone14 #iPhone14Plus\\n#iPhone14Pro #iPhone14ProMax\\n10/17 19:24:21 現在\\nhttps://t.co/L0J2duGUQD',\n",
              " '■ Amazonにて入荷中 🍎\\n■ Apple iPhone 14 Plus 256GB ブルー - SIMフリー 5G対応\\n■ 入荷日時 10/17 19:24:21\\n#iPhone14 #iPhone14Pro #iPhone14ProMax\\nhttps://t.co/5XNYtoh0Oz',\n",
              " '@KayBurley They should just get an iPhone 14.',\n",
              " '〇 Amazonで入荷中！\\n〇 Apple iPhone 14 Plus 256GB ミッドナイト - SIMフリー 5G対応\\n〇 10/17 19:23:35\\n#iPhone14 #iPhone14Plus #iPhone14Pro #iPhone14ProMax\\nhttps://t.co/MuZLzaJx7j',\n",
              " '〇 Amazonで入荷中！\\n〇 Apple iPhone 14 Plus 256GB ミッドナイト - SIMフリー 5G対応\\n〇 10/17 19:23:35\\n#iPhone14 #iPhone14Plus #iPhone14Pro #iPhone14ProMax\\nhttps://t.co/xoLJ6XdLhK',\n",
              " 'Amazonにて入荷中！\\nApple iPhone 14 Plus 256GB ミッドナイト - SIMフリー 5G対応\\n#iPhone14 #iPhone14Plus\\n#iPhone14Pro #iPhone14ProMax\\n10/17 19:23:30 現在\\nhttps://t.co/BRYAWf0Jtd',\n",
              " '〇 Amazonで入荷中！\\n〇 Apple iPhone 14 Plus 256GB ミッドナイト - SIMフリー 5G対応\\n〇 10/17 19:23:30\\n#iPhone14 #iPhone14Plus #iPhone14Pro #iPhone14ProMax\\nhttps://t.co/b9dUIUWJ1e',\n",
              " '■ Amazonにて入荷中 🍎\\n■ Apple iPhone 14 Plus 256GB ミッドナイト - SIMフリー 5G対応\\n■ 入荷日時 10/17 19:23:30\\n#iPhone14 #iPhone14Pro #iPhone14ProMax\\nhttps://t.co/elD8MweI1e',\n",
              " 'Imagine being born only cos your mum needed an iPhone 14 💀..',\n",
              " 'Apple iPhone 14 Pro Max (256 GB) - Gold is in Stock!\\nhttps://t.co/LR1F54YebM\\n\\nAlso available 512GB Space Black:\\nhttps://t.co/ApPWNXO111',\n",
              " '@JFCathe @BoomQueen_ iPhone 14',\n",
              " 'Analysts: lead times for iPhone 14 series drop below that for iPhone 13 in the same\\xa0period https://t.co/PHBeEyZIkV',\n",
              " 'Analysts: lead times for iPhone 14 series drop below that for iPhone 13 in the same period https://t.co/1JTrYIAfJP',\n",
              " 'iPhone 14: How to Enable 4K Cinematic Resolution https://t.co/Wfr18eJ3wD',\n",
              " 'Apple iPhone 14 Pro Max (256 GB) - Gold is now in stock!\\n\\nhttps://t.co/4h2gAc5wd7',\n",
              " '〇 Amazonで入荷中！\\n〇 Apple iPhone 14 Plus 256GB ミッドナイト - SIMフリー 5G対応\\n〇 10/17 19:21:35\\n#iPhone14 #iPhone14Plus #iPhone14Pro #iPhone14ProMax\\nhttps://t.co/UHT6hhrl9j',\n",
              " '〇 Amazonで入荷中！\\n〇 Apple iPhone 14 Plus 256GB ミッドナイト - SIMフリー 5G対応\\n〇 10/17 19:21:35\\n#iPhone14 #iPhone14Plus #iPhone14Pro #iPhone14ProMax\\nhttps://t.co/T0er5v2K8h',\n",
              " '〇 Amazonで入荷中！\\n〇 Apple iPhone 14 Plus 256GB ミッドナイト - SIMフリー 5G対応\\n〇 10/17 19:21:34\\n#iPhone14 #iPhone14Plus #iPhone14Pro #iPhone14ProMax\\nhttps://t.co/ToA7huF4ZO',\n",
              " '〇 Amazonで入荷中！\\n〇 Apple iPhone 14 Plus 256GB ミッドナイト - SIMフリー 5G対応\\n〇 10/17 19:21:30\\n#iPhone14 #iPhone14Plus #iPhone14Pro #iPhone14ProMax\\nhttps://t.co/fEh5xLMBG6',\n",
              " '〇 Amazonで入荷中！\\n〇 Apple iPhone 14 Plus 256GB ミッドナイト - SIMフリー 5G対応\\n〇 10/17 19:21:30\\n#iPhone14 #iPhone14Plus #iPhone14Pro #iPhone14ProMax\\nhttps://t.co/TmFAjC6AH8',\n",
              " '〇 Amazonで入荷中！\\n〇 Apple iPhone 14 Plus 256GB ミッドナイト - SIMフリー 5G対応\\n〇 10/17 19:21:30\\n#iPhone14 #iPhone14Plus #iPhone14Pro #iPhone14ProMax\\nhttps://t.co/V0nPzlteEP',\n",
              " '■ Amazonにて入荷中 🍎\\n■ Apple iPhone 14 Plus 256GB ミッドナイト - SIMフリー 5G対応\\n■ 入荷日時 10/17 19:21:30\\n#iPhone14 #iPhone14Pro #iPhone14ProMax\\nhttps://t.co/9fGIkXEhvg',\n",
              " 'Amazonにて入荷中！\\nApple iPhone 14 Plus 256GB ミッドナイト - SIMフリー 5G対応\\n#iPhone14 #iPhone14Plus\\n#iPhone14Pro #iPhone14ProMax\\n10/17 19:21:30 現在\\nhttps://t.co/U9IMCW8C3S',\n",
              " '〇 Amazonで入荷中！\\n〇 Apple iPhone 14 Plus 256GB ブルー - SIMフリー 5G対応\\n〇 10/17 19:21:29\\n#iPhone14 #iPhone14Plus #iPhone14Pro #iPhone14ProMax\\nhttps://t.co/I46fIPkwLA',\n",
              " '〇 Amazonで入荷中！\\n〇 Apple iPhone 14 Plus 256GB ブルー - SIMフリー 5G対応\\n〇 10/17 19:21:29\\n#iPhone14 #iPhone14Plus #iPhone14Pro #iPhone14ProMax\\nhttps://t.co/saQIImTWtf',\n",
              " 'Amazonにて入荷中！\\nApple iPhone 14 Plus 256GB ミッドナイト - SIMフリー 5G対応\\n#iPhone14 #iPhone14Plus\\n#iPhone14Pro #iPhone14ProMax\\n10/17 19:21:24 現在\\nhttps://t.co/aD9DRIxi05',\n",
              " '■ Amazonにて入荷中 🍎\\n■ Apple iPhone 14 Plus 256GB ミッドナイト - SIMフリー 5G対応\\n■ 入荷日時 10/17 19:21:24\\n#iPhone14 #iPhone14Pro #iPhone14ProMax\\nhttps://t.co/SejqVlIW8B',\n",
              " '〇 Amazonで入荷中！\\n〇 Apple iPhone 14 Plus 256GB ミッドナイト - SIMフリー 5G対応\\n〇 10/17 19:21:24\\n#iPhone14 #iPhone14Plus #iPhone14Pro #iPhone14ProMax\\nhttps://t.co/W3Kj85ZAPf',\n",
              " '■ Amazonにて入荷中 🍎\\n■ Apple iPhone 14 Plus 256GB ブルー - SIMフリー 5G対応\\n■ 入荷日時 10/17 19:21:23\\n#iPhone14 #iPhone14Pro #iPhone14ProMax\\nhttps://t.co/3UcxkSlzwu',\n",
              " 'Amazonにて入荷中！\\nApple iPhone 14 Plus 256GB ブルー - SIMフリー 5G対応\\n#iPhone14 #iPhone14Plus\\n#iPhone14Pro #iPhone14ProMax\\n10/17 19:21:23 現在\\nhttps://t.co/gJYbqrA0yl',\n",
              " '〇 Amazonで入荷中！\\n〇 Apple iPhone 14 Plus 256GB ブルー - SIMフリー 5G対応\\n〇 10/17 19:21:23\\n#iPhone14 #iPhone14Plus #iPhone14Pro #iPhone14ProMax\\nhttps://t.co/VFXUDMk8VF',\n",
              " '〇 Amazonで入荷中！\\n〇 Apple iPhone 14 Plus 256GB ブルー - SIMフリー 5G対応\\n〇 10/17 19:21:22\\n#iPhone14 #iPhone14Plus #iPhone14Pro #iPhone14ProMax\\nhttps://t.co/1GYNAmF0sg',\n",
              " '〇 Amazonで入荷中！\\n〇 Apple iPhone 14 Plus 256GB ブルー - SIMフリー 5G対応\\n〇 10/17 19:21:22\\n#iPhone14 #iPhone14Plus #iPhone14Pro #iPhone14ProMax\\nhttps://t.co/ZK4TDSgRpx',\n",
              " 'Amazonにて入荷中！\\nApple iPhone 14 Plus 256GB ブルー - SIMフリー 5G対応\\n#iPhone14 #iPhone14Plus\\n#iPhone14Pro #iPhone14ProMax\\n10/17 19:21:17 現在\\nhttps://t.co/OJuBZYE7Yg',\n",
              " '■ Amazonにて入荷中 🍎\\n■ Apple iPhone 14 Plus 256GB ブルー - SIMフリー 5G対応\\n■ 入荷日時 10/17 19:21:17\\n#iPhone14 #iPhone14Pro #iPhone14ProMax\\nhttps://t.co/ChnPzAyOjW',\n",
              " '〇 Amazonで入荷中！\\n〇 Apple iPhone 14 Plus 256GB ブルー - SIMフリー 5G対応\\n〇 10/17 19:21:17\\n#iPhone14 #iPhone14Plus #iPhone14Pro #iPhone14ProMax\\nhttps://t.co/mK1oIF4GFS',\n",
              " 'These are the best Apple iPhone 14 screen protectors https://t.co/cKWLzlSJ2x @xdadevelopers \\n\\nWorld’s First Glass screen protector is the Best.\\n\\nWhitestone Dome EZ Glass 3PACK - iPhone 14 Pro Max https://t.co/KzYHiRtLfZ #Amazon\\n\\nAmazonDE https://t.co/egtZENxXwB',\n",
              " 'https://t.co/PHHT4trDHX\\nApple iPhone 14 Pro Max (256 GB) - Gold is in Stock!',\n",
              " 'Apple iPhone 14 Pro Max (512 GB) - Space Black\\n\\nhttps://t.co/BqzdCiAXK9\\n\\nDelivers Wednesday!',\n",
              " '@TheTechChap iPhone 14 Pro',\n",
              " '@deIenart Hi Let! Just got the new iPhone 14 Pro Max and I’m very happy!!!',\n",
              " '@m3_fpx iPhone 14 Pro',\n",
              " 'Apple iPhone 14 Pro Max (512 GB) - Space Black is in Stock !\\n19th October Delivery!\\nhttps://t.co/SOMXgPiNRz',\n",
              " 'Imagine spiritual husbands Dey pay bills,buy hair or IPhone14 pro max ,girls for no dy gree make dem deliver dem 😂🤣',\n",
              " 'iPhone 14 offers on Diwali Sale, great news! Just spend Rs 9,165 and bring home the iPhone 12 Mini? Order early or else the offer will expire – aiphone 12 mini best discount and offers on flipkart diwali sale\\xa02022pple https://t.co/ygSJCgB9TJ',\n",
              " '@SDevilslittle Iphone 14 &amp; SUV. Wenn diese hirntoten Deppen wenigstens mal nen bisschen Phantasie hätten. Dann wäre es zur Abwechslung wenigstens mal nen Sportcabrio und ne Rolex..😂',\n",
              " '@ScepticalAussie @ryanfisher122 @Apple There are people literally avoiding getting an iPhone 14 and waiting for a model that uses USB-C (or getting distracted by another brand in the meantime). Just plain bad for business at this point to use a proprietary connector, which makes it hard to comprehend from any angle.',\n",
              " '@snowrichie23 No buy iphone 14',\n",
              " '@eva_lequeen Miss hindi po iPhone 14 yan',\n",
              " 'Analysts: lead times for iPhone 14 series drop below that for iPhone 13 in the same\\xa0period https://t.co/esHQ8IHDVP',\n",
              " '@imen_guerbaa We have it already hh\\nWorldwide, they kill each others for an iPhone 14 then they get back to the queue,  here they will do it in the gas station hhhh',\n",
              " 'Der honigtopf der Linken moralblase „Letztens in der Kölner Straßenbahn drei junge gutbetuchte Ukrainerinnen gesehen die mit ihren iPhone 14 pro Max herum hantiert haben und hin und wieder sehe ich auch den ein oder anderen SUV aus der Ukraine. Denkt euch euren Teil …. „🤡🤡',\n",
              " 'Bonus up to 15,800 PHP and iPhone 14 Plus📱 giveaway with first time deposit 🔥\\n\\n🔥Download link: https://t.co/QfgT9AtObY\\n🔥TG:@hhtrre1288\\n🔥whatsapp:1323-685-3617\\n#slotmachine #slotlive #slotonline #slotgame #VegasSlots #slotmanila #freebonus #iphone14plus #Greatgaming https://t.co/XEUR0XvZRC',\n",
              " 'Analysts: lead times for iPhone 14 series drop below that for iPhone 13 in the same period https://t.co/nhjTxhQMWK https://t.co/XaPNolwgq0',\n",
              " 'https://t.co/DDhmOvaPjV\\n\\nApple iPhone 14 Pro Max (1 TB) - Space Black',\n",
              " '#Apple confirms that #iPhone14 is getting affected by SIM bugs.\\n\\nhttps://t.co/YaL0qHC5iC',\n",
              " 'Apple iPhone 14 Pro Max (1 TB) - Space Black !\\nonly one left in stock!\\nhttps://t.co/ah41gedjOF',\n",
              " '@Apple why my iphone 14 screen yellowish?',\n",
              " 'Only 1 left in stock!\\nhttps://t.co/ah41gedjOF',\n",
              " 'Analysts: lead times for iPhone 14 series drop below that for iPhone 13 in the same period https://t.co/4Bx85r2fZT',\n",
              " 'dont wait The plan is this. I take NFT, resell it, buy an iPhone 14. Profit! dude  @last_goddessL @MIKEMBT56 @ImranHasanUdoy1 @0xdeobigwin @0xowdelles @Jane_loveyamwin @berburubigwin @sdh066 @khloejustwon @Diana040510 @WLspots_ https://t.co/48bP9MPmhc',\n",
              " 'Bonus up to 15,800 PHP and iPhone 14 Plus📱 giveaway with first time deposit 🔥\\n\\n🔥Download link: https://t.co/RnDfKAseC9\\n🔥TG:@hhtrre1288\\n🔥whatsapp:1323-685-3617\\n#slotmachine #slotlive #slotonline #slotgame #VegasSlots #slotmanila #freebonus #iphone14plus #Greatgaming https://t.co/hQNcUcxqgD',\n",
              " \"Apple confirms iOS 16's SIM bug affecting iPhone 14 series: Reports https://t.co/UlKN1GEvxG\",\n",
              " 'Analysts: lead times for iPhone 14 series drop below that for iPhone 13 in the same period https://t.co/lD4n22sj2a https://t.co/QU3Sf1hcLd']"
            ]
          },
          "metadata": {},
          "execution_count": 9
        }
      ]
    },
    {
      "cell_type": "code",
      "source": [
        "import re\n",
        "import string\n",
        "from Sastrawi.Stemmer.StemmerFactory import StemmerFactory# create stemmer\n",
        "factory = StemmerFactory()\n",
        "stemmer = factory.create_stemmer()# stemming process\n",
        "# import StopWordRemoverFactory class\n",
        "from Sastrawi.StopWordRemover.StopWordRemoverFactory import StopWordRemoverFactory\n",
        "factory = StopWordRemoverFactory()\n",
        "stopword = factory.create_stop_word_remover()\n",
        "documents_clean=[]\n",
        "\n",
        "for d in datatw:\n",
        "    outputstem= stemmer.stem(d)\n",
        "    d= stopword.remove(outputstem)\n",
        "    # Remove Unicode\n",
        "    document_test = re.sub(r'[^\\x00-\\x7F]+', ' ', d)\n",
        "    # Remove Mentions\n",
        "    document_test = re.sub(r'@\\w+', '', document_test)\n",
        "    # Lowercase the document\n",
        "    document_test = document_test.lower()\n",
        "    # Remove punctuations\n",
        "    document_test = re.sub(r'[%s]' % re.escape(string.punctuation), ' ', document_test)\n",
        "    # Lowercase the numbers\n",
        "    document_test = re.sub(r'[0-9]', '', document_test)\n",
        "    # Remove the doubled space\n",
        "    outputstop = re.sub(r'\\s{2,}', ' ', document_test)\n",
        "    documents_clean.append(outputstop)"
      ],
      "metadata": {
        "id": "eHd97oyp5XBJ"
      },
      "execution_count": 10,
      "outputs": []
    },
    {
      "cell_type": "code",
      "source": [
        "documents_clean[0:5]"
      ],
      "metadata": {
        "colab": {
          "base_uri": "https://localhost:8080/"
        },
        "id": "IXuPNxRu6Cam",
        "outputId": "668bb929-dfb9-4677-8d72-0d4e6049fae4"
      },
      "execution_count": 11,
      "outputs": [
        {
          "output_type": "execute_result",
          "data": {
            "text/plain": [
              "['apple iphone pro space black gb https t co siqouooq gb https t co lszmaqr apple iphone pro gold gb https t co lxoclyo tb https t co lwpfiaa apple iphone pro silver gb https t co zfdlwek gb https t co agyfkwsa',\n",
              " 'amazon apple iphone plus gb product red sim g https t co xpgcnbfpz iphone apple',\n",
              " 'iphone sim not supported don t try to fix it yourself https t co hrzruins',\n",
              " 'it s raining iphones daily on postpeapp i m playing postpe super strikers and i just won cashback join me and you can win an iphone every day along with guaranteed rewards on every transaction ready to strike it playnow postpesuperstrikers',\n",
              " 'mrcringe deadinsides he s comparing the pro max usd price to the iphone cad price https t co goeonillx']"
            ]
          },
          "metadata": {},
          "execution_count": 11
        }
      ]
    },
    {
      "cell_type": "code",
      "source": [
        "from sklearn.feature_extraction.text import TfidfVectorizer\n",
        "import pandas as pd\n",
        "tfidfvectorizer = TfidfVectorizer(analyzer='word')\n",
        "tfidf_wm = tfidfvectorizer.fit_transform(documents_clean)\n",
        "tfidf_tokens = tfidfvectorizer.get_feature_names()"
      ],
      "metadata": {
        "id": "-7kLoW-f7ujS",
        "colab": {
          "base_uri": "https://localhost:8080/"
        },
        "outputId": "db42aa21-434a-4092-e2a7-e24cf0d32f30"
      },
      "execution_count": 12,
      "outputs": [
        {
          "output_type": "stream",
          "name": "stderr",
          "text": [
            "/usr/local/lib/python3.7/dist-packages/sklearn/utils/deprecation.py:87: FutureWarning: Function get_feature_names is deprecated; get_feature_names is deprecated in 1.0 and will be removed in 1.2. Please use get_feature_names_out instead.\n",
            "  warnings.warn(msg, category=FutureWarning)\n"
          ]
        }
      ]
    },
    {
      "cell_type": "code",
      "source": [
        "from sklearn.feature_extraction.text import CountVectorizer \n",
        "import matplotlib.pyplot as plt\n",
        "import numpy as np # linear algebra\n",
        "import pandas as pd # data processing, CSV file I/O (e.g. pd.read_csv)\n",
        "cv = CountVectorizer()\n",
        "words = cv.fit_transform(documents_clean)\n",
        "sum_words = words.sum(axis=0)\n",
        "\n",
        "\n",
        "words_freq = [(word, sum_words[0, idx]) for word, idx in cv.vocabulary_.items()]\n",
        "words_freq = sorted(words_freq, key = lambda x: x[1], reverse = True)\n",
        "frequency = pd.DataFrame(words_freq, columns=['word', 'freq'])\n",
        "\n",
        "color = plt.cm.twilight(np.linspace(0, 1, 20))\n",
        "frequency.head(20).plot(x='word', y='freq', kind='bar', figsize=(15, 7), color = color)\n",
        "plt.title(\"Most Frequently Occuring Words - Top 20\")"
      ],
      "metadata": {
        "colab": {
          "base_uri": "https://localhost:8080/",
          "height": 537
        },
        "id": "YP6p94kQ-Dps",
        "outputId": "5debcde0-0092-4684-fd92-97eae467dd03"
      },
      "execution_count": 13,
      "outputs": [
        {
          "output_type": "execute_result",
          "data": {
            "text/plain": [
              "Text(0.5, 1.0, 'Most Frequently Occuring Words - Top 20')"
            ]
          },
          "metadata": {},
          "execution_count": 13
        },
        {
          "output_type": "display_data",
          "data": {
            "text/plain": [
              "<Figure size 1080x504 with 1 Axes>"
            ],
            "image/png": "[encoded data removed]"
          },
          "metadata": {
            "needs_background": "light"
          }
        }
      ]
    },
    {
      "cell_type": "code",
      "source": [
        "from sklearn.cluster import KMeans\n",
        "true_k = 3\n",
        "model = KMeans(n_clusters=true_k, init='k-means++', max_iter=100, n_init=1)\n",
        "model.fit(words)"
      ],
      "metadata": {
        "colab": {
          "base_uri": "https://localhost:8080/"
        },
        "id": "hycX_D7s-HRy",
        "outputId": "cf43ef4a-a316-4499-9054-e7028be25d8b"
      },
      "execution_count": 14,
      "outputs": [
        {
          "output_type": "execute_result",
          "data": {
            "text/plain": [
              "KMeans(max_iter=100, n_clusters=3, n_init=1)"
            ]
          },
          "metadata": {},
          "execution_count": 14
        }
      ]
    },
    {
      "cell_type": "code",
      "source": [
        "order_centroids = model.cluster_centers_.argsort()[:, ::-1]\n",
        "terms = cv.get_feature_names()\n",
        "\n",
        "for i in range(true_k):\n",
        "    print(\"Cluster %d:\" % i),\n",
        "    for ind in order_centroids[i, :10]:\n",
        "        print(' %s' % terms[ind]),\n",
        "    print\n",
        "\n",
        "print(\"\\n\")"
      ],
      "metadata": {
        "colab": {
          "base_uri": "https://localhost:8080/"
        },
        "id": "s-ejkTz2-1Op",
        "outputId": "52715067-c8e3-4973-9de9-306d99955ed9"
      },
      "execution_count": 15,
      "outputs": [
        {
          "output_type": "stream",
          "name": "stdout",
          "text": [
            "Cluster 0:\n",
            " iphone\n",
            " https\n",
            " co\n",
            " apple\n",
            " gb\n",
            " sim\n",
            " iphonepromax\n",
            " iphonepro\n",
            " amazon\n",
            " plus\n",
            "Cluster 1:\n",
            " co\n",
            " https\n",
            " iphone\n",
            " gb\n",
            " pro\n",
            " apple\n",
            " max\n",
            " lygjupmnaw\n",
            " dosfikrai\n",
            " cfnkdxmid\n",
            "Cluster 2:\n",
            " iphone\n",
            " for\n",
            " co\n",
            " https\n",
            " the\n",
            " in\n",
            " that\n",
            " series\n",
            " drop\n",
            " times\n",
            "\n",
            "\n"
          ]
        },
        {
          "output_type": "stream",
          "name": "stderr",
          "text": [
            "/usr/local/lib/python3.7/dist-packages/sklearn/utils/deprecation.py:87: FutureWarning: Function get_feature_names is deprecated; get_feature_names is deprecated in 1.0 and will be removed in 1.2. Please use get_feature_names_out instead.\n",
            "  warnings.warn(msg, category=FutureWarning)\n"
          ]
        }
      ]
    },
    {
      "cell_type": "code",
      "source": [
        "import scipy.cluster.hierarchy as sch\n",
        "X = cv.fit_transform(documents_clean).todense()\n",
        "dendrogram = sch.dendrogram(sch.linkage(X, method = 'ward',metric='euclidean'),orientation=\"top\")\n",
        "plt.title('Dendrogram')\n",
        "plt.xlabel('Jarak Ward')\n",
        "plt.ylabel('Nomor Dokumen')\n",
        "plt.show()"
      ],
      "metadata": {
        "colab": {
          "base_uri": "https://localhost:8080/",
          "height": 295
        },
        "id": "h0uABu8_-4OB",
        "outputId": "2c5c61c1-52cf-4de9-ab9a-219f098790fc"
      },
      "execution_count": 16,
      "outputs": [
        {
          "output_type": "display_data",
          "data": {
            "text/plain": [
              "<Figure size 432x288 with 1 Axes>"
            ],
            "image/png": "[encoded data removed]"
          },
          "metadata": {
            "needs_background": "light"
          }
        }
      ]
    },
    {
      "cell_type": "code",
      "source": [
        "import scipy.cluster.hierarchy as sch\n",
        "X = cv.fit_transform(documents_clean).todense()\n",
        "dendrogram = sch.dendrogram(sch.linkage(X, method = 'average',metric='euclidean'),orientation=\"right\")\n",
        "plt.title('Dendrogram')\n",
        "plt.xlabel('Jarak Rerata')\n",
        "plt.ylabel('Nomor Dokumen')\n",
        "plt.show()"
      ],
      "metadata": {
        "colab": {
          "base_uri": "https://localhost:8080/",
          "height": 295
        },
        "id": "AgqfVMiE_TPR",
        "outputId": "e3f3ca1c-2b94-4de8-fcac-fbd4e7f2aaa4"
      },
      "execution_count": 17,
      "outputs": [
        {
          "output_type": "display_data",
          "data": {
            "text/plain": [
              "<Figure size 432x288 with 1 Axes>"
            ],
            "image/png": "[encoded data removed]"
          },
          "metadata": {
            "needs_background": "light"
          }
        }
      ]
    }
  ]
}